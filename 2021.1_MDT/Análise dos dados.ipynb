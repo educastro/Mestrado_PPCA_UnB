{
 "cells": [
  {
   "cell_type": "code",
   "execution_count": 1,
   "id": "b3183b28",
   "metadata": {},
   "outputs": [],
   "source": [
    "import pandas as pd\n",
    "import seaborn as sn\n",
    "# funcoes usadas dos pacotes numpy e matplotlib\n",
    "from numpy import mean\n",
    "from numpy import std\n",
    "from numpy import correlate\n",
    "from numpy.random import randn\n",
    "from numpy.random import seed\n",
    "from matplotlib import pyplot"
   ]
  },
  {
   "cell_type": "code",
   "execution_count": 2,
   "id": "1c68311e",
   "metadata": {},
   "outputs": [],
   "source": [
    "data = pd.read_csv(\"comentarios.csv\", sep=';')#, header=None)\n",
    "data = data.loc[data['app'] == \"br.gov.serpro.cnhe\"]\n"
   ]
  },
  {
   "cell_type": "code",
   "execution_count": 3,
   "id": "b279e29d",
   "metadata": {},
   "outputs": [
    {
     "name": "stdout",
     "output_type": "stream",
     "text": [
      "                       app              userName  \\\n",
      "290630  br.gov.serpro.cnhe           Val Genival   \n",
      "290631  br.gov.serpro.cnhe          Lucas Araújo   \n",
      "290632  br.gov.serpro.cnhe          Belo ubatuba   \n",
      "290633  br.gov.serpro.cnhe    Nelson Paiva Paiva   \n",
      "290634  br.gov.serpro.cnhe      Welliton Pereira   \n",
      "...                    ...                   ...   \n",
      "718811  br.gov.serpro.cnhe        GarciaM Brasil   \n",
      "718812  br.gov.serpro.cnhe      Alexandre Jardim   \n",
      "718813  br.gov.serpro.cnhe    Mauricio Cerqueira   \n",
      "718814  br.gov.serpro.cnhe                   J N   \n",
      "718815  br.gov.serpro.cnhe  Um usuário do Google   \n",
      "\n",
      "                                                  content  score  \\\n",
      "290630                               Excelente aplicativo      5   \n",
      "290631                       O aplicativo é horrível!! 👎👎      1   \n",
      "290632                                              Ótimo      5   \n",
      "290633  Não consigo recuperar minha senha, e não me in...      1   \n",
      "290634                                      Melhorou 100%      5   \n",
      "...                                                   ...    ...   \n",
      "718811                      Pra que certificado digital ?      1   \n",
      "718812                                          Ótimo top      5   \n",
      "718813                                Funciona muito bem.      5   \n",
      "718814                                          Muito bom      5   \n",
      "718815                                             Otimo!      5   \n",
      "\n",
      "        thumbsUpCount reviewCreatedVersion          at  \\\n",
      "290630              0                5.0.3  09/10/2021   \n",
      "290631              0                3.0.8  09/10/2021   \n",
      "290632              0                5.0.3  09/10/2021   \n",
      "290633              0                5.0.3  09/10/2021   \n",
      "290634              0                5.0.3  09/10/2021   \n",
      "...               ...                  ...         ...   \n",
      "718811              2                1.0.0  11/10/2017   \n",
      "718812              2                  NaN  11/10/2017   \n",
      "718813              3                1.0.0  10/10/2017   \n",
      "718814              2                  NaN  10/10/2017   \n",
      "718815              2                1.0.0  10/10/2017   \n",
      "\n",
      "                                             replyContent   repliedAt  \n",
      "290630                                                NaN        None  \n",
      "290631                                                NaN        None  \n",
      "290632  Agradecemos a sua participação e avaliação! Em...  24/03/2021  \n",
      "290633                                                NaN        None  \n",
      "290634  Olá! Wellington. Teve algum problema ao utiliz...  04/05/2020  \n",
      "...                                                   ...         ...  \n",
      "718811  Marcos,\\n\\nNão precisa ter cert. digital. Veja...  13/10/2017  \n",
      "718812        Alexandre,\\n\\nMuito grato por sua resposta.  13/10/2017  \n",
      "718813         Thales,\\n\\nMuito grato por seu comentário.  13/10/2017  \n",
      "718814            J N,\\n\\nMuito grato por seu comentário.  13/10/2017  \n",
      "718815                    Muito grato por seu comentário.  13/10/2017  \n",
      "\n",
      "[428186 rows x 9 columns]\n"
     ]
    }
   ],
   "source": [
    "print(data)"
   ]
  },
  {
   "cell_type": "code",
   "execution_count": 4,
   "id": "725662a5",
   "metadata": {},
   "outputs": [],
   "source": [
    "data[\"reviewCreatedVersionAux\"] = data[\"reviewCreatedVersion\"].str[0]\n",
    "data[\"reviewCreatedVersionAux\"] = pd.to_numeric(data[\"reviewCreatedVersionAux\"])\n",
    "data = data[data['reviewCreatedVersionAux'].notna()]\n",
    "data = data[data['score'].notna()]\n",
    "data = data[data['thumbsUpCount'].notna()]"
   ]
  },
  {
   "cell_type": "code",
   "execution_count": 5,
   "id": "579d6640",
   "metadata": {},
   "outputs": [
    {
     "name": "stdout",
     "output_type": "stream",
     "text": [
      "                       app              userName  \\\n",
      "290630  br.gov.serpro.cnhe           Val Genival   \n",
      "290631  br.gov.serpro.cnhe          Lucas Araújo   \n",
      "290632  br.gov.serpro.cnhe          Belo ubatuba   \n",
      "290633  br.gov.serpro.cnhe    Nelson Paiva Paiva   \n",
      "290634  br.gov.serpro.cnhe      Welliton Pereira   \n",
      "...                    ...                   ...   \n",
      "718809  br.gov.serpro.cnhe        Lazaro Antonio   \n",
      "718810  br.gov.serpro.cnhe        Gleidimar Luiz   \n",
      "718811  br.gov.serpro.cnhe        GarciaM Brasil   \n",
      "718813  br.gov.serpro.cnhe    Mauricio Cerqueira   \n",
      "718815  br.gov.serpro.cnhe  Um usuário do Google   \n",
      "\n",
      "                                                  content  score  \\\n",
      "290630                               Excelente aplicativo      5   \n",
      "290631                       O aplicativo é horrível!! 👎👎      1   \n",
      "290632                                              Ótimo      5   \n",
      "290633  Não consigo recuperar minha senha, e não me in...      1   \n",
      "290634                                      Melhorou 100%      5   \n",
      "...                                                   ...    ...   \n",
      "718809  Ter que pagar pra obter certificado digital é ...      1   \n",
      "718810                          Excelente, leve e rápido.      5   \n",
      "718811                      Pra que certificado digital ?      1   \n",
      "718813                                Funciona muito bem.      5   \n",
      "718815                                             Otimo!      5   \n",
      "\n",
      "        thumbsUpCount reviewCreatedVersion          at  \\\n",
      "290630              0                5.0.3  09/10/2021   \n",
      "290631              0                3.0.8  09/10/2021   \n",
      "290632              0                5.0.3  09/10/2021   \n",
      "290633              0                5.0.3  09/10/2021   \n",
      "290634              0                5.0.3  09/10/2021   \n",
      "...               ...                  ...         ...   \n",
      "718809              4                1.0.0  11/10/2017   \n",
      "718810              8                1.0.0  11/10/2017   \n",
      "718811              2                1.0.0  11/10/2017   \n",
      "718813              3                1.0.0  10/10/2017   \n",
      "718815              2                1.0.0  10/10/2017   \n",
      "\n",
      "                                             replyContent   repliedAt  \\\n",
      "290630                                                NaN        None   \n",
      "290631                                                NaN        None   \n",
      "290632  Agradecemos a sua participação e avaliação! Em...  24/03/2021   \n",
      "290633                                                NaN        None   \n",
      "290634  Olá! Wellington. Teve algum problema ao utiliz...  04/05/2020   \n",
      "...                                                   ...         ...   \n",
      "718809  Lazaro,\\n\\nNão precisa ter cert. digital. Veja...  13/10/2017   \n",
      "718810    Luiz Junior,\\n\\nMuito grato por seu comentário.  13/10/2017   \n",
      "718811  Marcos,\\n\\nNão precisa ter cert. digital. Veja...  13/10/2017   \n",
      "718813         Thales,\\n\\nMuito grato por seu comentário.  13/10/2017   \n",
      "718815                    Muito grato por seu comentário.  13/10/2017   \n",
      "\n",
      "        reviewCreatedVersionAux  \n",
      "290630                      5.0  \n",
      "290631                      3.0  \n",
      "290632                      5.0  \n",
      "290633                      5.0  \n",
      "290634                      5.0  \n",
      "...                         ...  \n",
      "718809                      1.0  \n",
      "718810                      1.0  \n",
      "718811                      1.0  \n",
      "718813                      1.0  \n",
      "718815                      1.0  \n",
      "\n",
      "[405529 rows x 10 columns]\n"
     ]
    }
   ],
   "source": [
    "print(data)"
   ]
  },
  {
   "cell_type": "code",
   "execution_count": 6,
   "id": "0a954510",
   "metadata": {},
   "outputs": [],
   "source": [
    "correlation = data.corr()"
   ]
  },
  {
   "cell_type": "code",
   "execution_count": 7,
   "id": "17207a90",
   "metadata": {},
   "outputs": [
    {
     "data": {
      "image/png": "[encoded data removed]",
      "text/plain": [
       "<Figure size 432x288 with 2 Axes>"
      ]
     },
     "metadata": {
      "needs_background": "light"
     },
     "output_type": "display_data"
    }
   ],
   "source": [
    "lot = sn.heatmap(correlation, annot = True, fmt=\".1f\", linewidths=.6)"
   ]
  },
  {
   "cell_type": "code",
   "execution_count": 8,
   "id": "74fd7c5c",
   "metadata": {},
   "outputs": [
    {
     "data": {
      "text/plain": [
       "0.018194968586998348"
      ]
     },
     "execution_count": 8,
     "metadata": {},
     "output_type": "execute_result"
    }
   ],
   "source": [
    "data[\"reviewCreatedVersionAux\"].corr(data[\"score\"])"
   ]
  },
  {
   "cell_type": "code",
   "execution_count": 9,
   "id": "3863293b",
   "metadata": {},
   "outputs": [],
   "source": [
    "data.to_csv(\"comentarios_2.csv\", sep=';')"
   ]
  },
  {
   "cell_type": "code",
   "execution_count": 10,
   "id": "697fba65",
   "metadata": {},
   "outputs": [],
   "source": [
    "versao1 = data.loc[data['reviewCreatedVersionAux'] == 1.0]\n",
    "versao2 = data.loc[data['reviewCreatedVersionAux'] == 2.0]\n",
    "versao3 = data.loc[data['reviewCreatedVersionAux'] == 3.0]\n",
    "versao4 = data.loc[data['reviewCreatedVersionAux'] == 4.0]\n",
    "versao5 = data.loc[data['reviewCreatedVersionAux'] == 5.0]"
   ]
  },
  {
   "cell_type": "code",
   "execution_count": 12,
   "id": "f913e2e5",
   "metadata": {},
   "outputs": [
    {
     "data": {
      "text/html": [
       "<div>\n",
       "<style scoped>\n",
       "    .dataframe tbody tr th:only-of-type {\n",
       "        vertical-align: middle;\n",
       "    }\n",
       "\n",
       "    .dataframe tbody tr th {\n",
       "        vertical-align: top;\n",
       "    }\n",
       "\n",
       "    .dataframe thead th {\n",
       "        text-align: right;\n",
       "    }\n",
       "</style>\n",
       "<table border=\"1\" class=\"dataframe\">\n",
       "  <thead>\n",
       "    <tr style=\"text-align: right;\">\n",
       "      <th></th>\n",
       "      <th>score</th>\n",
       "      <th>thumbsUpCount</th>\n",
       "      <th>reviewCreatedVersionAux</th>\n",
       "    </tr>\n",
       "  </thead>\n",
       "  <tbody>\n",
       "    <tr>\n",
       "      <th>count</th>\n",
       "      <td>2512.000000</td>\n",
       "      <td>2512.000000</td>\n",
       "      <td>2512.0</td>\n",
       "    </tr>\n",
       "    <tr>\n",
       "      <th>mean</th>\n",
       "      <td>2.385748</td>\n",
       "      <td>1.752787</td>\n",
       "      <td>1.0</td>\n",
       "    </tr>\n",
       "    <tr>\n",
       "      <th>std</th>\n",
       "      <td>1.587136</td>\n",
       "      <td>12.995381</td>\n",
       "      <td>0.0</td>\n",
       "    </tr>\n",
       "    <tr>\n",
       "      <th>min</th>\n",
       "      <td>1.000000</td>\n",
       "      <td>0.000000</td>\n",
       "      <td>1.0</td>\n",
       "    </tr>\n",
       "    <tr>\n",
       "      <th>25%</th>\n",
       "      <td>1.000000</td>\n",
       "      <td>0.000000</td>\n",
       "      <td>1.0</td>\n",
       "    </tr>\n",
       "    <tr>\n",
       "      <th>50%</th>\n",
       "      <td>2.000000</td>\n",
       "      <td>0.000000</td>\n",
       "      <td>1.0</td>\n",
       "    </tr>\n",
       "    <tr>\n",
       "      <th>75%</th>\n",
       "      <td>4.000000</td>\n",
       "      <td>0.000000</td>\n",
       "      <td>1.0</td>\n",
       "    </tr>\n",
       "    <tr>\n",
       "      <th>max</th>\n",
       "      <td>5.000000</td>\n",
       "      <td>259.000000</td>\n",
       "      <td>1.0</td>\n",
       "    </tr>\n",
       "  </tbody>\n",
       "</table>\n",
       "</div>"
      ],
      "text/plain": [
       "             score  thumbsUpCount  reviewCreatedVersionAux\n",
       "count  2512.000000    2512.000000                   2512.0\n",
       "mean      2.385748       1.752787                      1.0\n",
       "std       1.587136      12.995381                      0.0\n",
       "min       1.000000       0.000000                      1.0\n",
       "25%       1.000000       0.000000                      1.0\n",
       "50%       2.000000       0.000000                      1.0\n",
       "75%       4.000000       0.000000                      1.0\n",
       "max       5.000000     259.000000                      1.0"
      ]
     },
     "execution_count": 12,
     "metadata": {},
     "output_type": "execute_result"
    }
   ],
   "source": [
    "versao1.describe()"
   ]
  },
  {
   "cell_type": "code",
   "execution_count": 13,
   "id": "9c5eb237",
   "metadata": {},
   "outputs": [
    {
     "data": {
      "text/html": [
       "<div>\n",
       "<style scoped>\n",
       "    .dataframe tbody tr th:only-of-type {\n",
       "        vertical-align: middle;\n",
       "    }\n",
       "\n",
       "    .dataframe tbody tr th {\n",
       "        vertical-align: top;\n",
       "    }\n",
       "\n",
       "    .dataframe thead th {\n",
       "        text-align: right;\n",
       "    }\n",
       "</style>\n",
       "<table border=\"1\" class=\"dataframe\">\n",
       "  <thead>\n",
       "    <tr style=\"text-align: right;\">\n",
       "      <th></th>\n",
       "      <th>score</th>\n",
       "      <th>thumbsUpCount</th>\n",
       "      <th>reviewCreatedVersionAux</th>\n",
       "    </tr>\n",
       "  </thead>\n",
       "  <tbody>\n",
       "    <tr>\n",
       "      <th>count</th>\n",
       "      <td>59374.000000</td>\n",
       "      <td>59374.000000</td>\n",
       "      <td>59374.0</td>\n",
       "    </tr>\n",
       "    <tr>\n",
       "      <th>mean</th>\n",
       "      <td>4.469515</td>\n",
       "      <td>0.251693</td>\n",
       "      <td>2.0</td>\n",
       "    </tr>\n",
       "    <tr>\n",
       "      <th>std</th>\n",
       "      <td>1.146520</td>\n",
       "      <td>7.130243</td>\n",
       "      <td>0.0</td>\n",
       "    </tr>\n",
       "    <tr>\n",
       "      <th>min</th>\n",
       "      <td>1.000000</td>\n",
       "      <td>0.000000</td>\n",
       "      <td>2.0</td>\n",
       "    </tr>\n",
       "    <tr>\n",
       "      <th>25%</th>\n",
       "      <td>5.000000</td>\n",
       "      <td>0.000000</td>\n",
       "      <td>2.0</td>\n",
       "    </tr>\n",
       "    <tr>\n",
       "      <th>50%</th>\n",
       "      <td>5.000000</td>\n",
       "      <td>0.000000</td>\n",
       "      <td>2.0</td>\n",
       "    </tr>\n",
       "    <tr>\n",
       "      <th>75%</th>\n",
       "      <td>5.000000</td>\n",
       "      <td>0.000000</td>\n",
       "      <td>2.0</td>\n",
       "    </tr>\n",
       "    <tr>\n",
       "      <th>max</th>\n",
       "      <td>5.000000</td>\n",
       "      <td>664.000000</td>\n",
       "      <td>2.0</td>\n",
       "    </tr>\n",
       "  </tbody>\n",
       "</table>\n",
       "</div>"
      ],
      "text/plain": [
       "              score  thumbsUpCount  reviewCreatedVersionAux\n",
       "count  59374.000000   59374.000000                  59374.0\n",
       "mean       4.469515       0.251693                      2.0\n",
       "std        1.146520       7.130243                      0.0\n",
       "min        1.000000       0.000000                      2.0\n",
       "25%        5.000000       0.000000                      2.0\n",
       "50%        5.000000       0.000000                      2.0\n",
       "75%        5.000000       0.000000                      2.0\n",
       "max        5.000000     664.000000                      2.0"
      ]
     },
     "execution_count": 13,
     "metadata": {},
     "output_type": "execute_result"
    }
   ],
   "source": [
    "versao2.describe()"
   ]
  },
  {
   "cell_type": "code",
   "execution_count": 14,
   "id": "9d689cc9",
   "metadata": {},
   "outputs": [
    {
     "data": {
      "text/html": [
       "<div>\n",
       "<style scoped>\n",
       "    .dataframe tbody tr th:only-of-type {\n",
       "        vertical-align: middle;\n",
       "    }\n",
       "\n",
       "    .dataframe tbody tr th {\n",
       "        vertical-align: top;\n",
       "    }\n",
       "\n",
       "    .dataframe thead th {\n",
       "        text-align: right;\n",
       "    }\n",
       "</style>\n",
       "<table border=\"1\" class=\"dataframe\">\n",
       "  <thead>\n",
       "    <tr style=\"text-align: right;\">\n",
       "      <th></th>\n",
       "      <th>score</th>\n",
       "      <th>thumbsUpCount</th>\n",
       "      <th>reviewCreatedVersionAux</th>\n",
       "    </tr>\n",
       "  </thead>\n",
       "  <tbody>\n",
       "    <tr>\n",
       "      <th>count</th>\n",
       "      <td>151822.000000</td>\n",
       "      <td>151822.000000</td>\n",
       "      <td>151822.0</td>\n",
       "    </tr>\n",
       "    <tr>\n",
       "      <th>mean</th>\n",
       "      <td>4.605531</td>\n",
       "      <td>0.126009</td>\n",
       "      <td>3.0</td>\n",
       "    </tr>\n",
       "    <tr>\n",
       "      <th>std</th>\n",
       "      <td>0.968594</td>\n",
       "      <td>5.160705</td>\n",
       "      <td>0.0</td>\n",
       "    </tr>\n",
       "    <tr>\n",
       "      <th>min</th>\n",
       "      <td>1.000000</td>\n",
       "      <td>0.000000</td>\n",
       "      <td>3.0</td>\n",
       "    </tr>\n",
       "    <tr>\n",
       "      <th>25%</th>\n",
       "      <td>5.000000</td>\n",
       "      <td>0.000000</td>\n",
       "      <td>3.0</td>\n",
       "    </tr>\n",
       "    <tr>\n",
       "      <th>50%</th>\n",
       "      <td>5.000000</td>\n",
       "      <td>0.000000</td>\n",
       "      <td>3.0</td>\n",
       "    </tr>\n",
       "    <tr>\n",
       "      <th>75%</th>\n",
       "      <td>5.000000</td>\n",
       "      <td>0.000000</td>\n",
       "      <td>3.0</td>\n",
       "    </tr>\n",
       "    <tr>\n",
       "      <th>max</th>\n",
       "      <td>5.000000</td>\n",
       "      <td>966.000000</td>\n",
       "      <td>3.0</td>\n",
       "    </tr>\n",
       "  </tbody>\n",
       "</table>\n",
       "</div>"
      ],
      "text/plain": [
       "               score  thumbsUpCount  reviewCreatedVersionAux\n",
       "count  151822.000000  151822.000000                 151822.0\n",
       "mean        4.605531       0.126009                      3.0\n",
       "std         0.968594       5.160705                      0.0\n",
       "min         1.000000       0.000000                      3.0\n",
       "25%         5.000000       0.000000                      3.0\n",
       "50%         5.000000       0.000000                      3.0\n",
       "75%         5.000000       0.000000                      3.0\n",
       "max         5.000000     966.000000                      3.0"
      ]
     },
     "execution_count": 14,
     "metadata": {},
     "output_type": "execute_result"
    }
   ],
   "source": [
    "versao3.describe()"
   ]
  },
  {
   "cell_type": "code",
   "execution_count": 15,
   "id": "a20a0212",
   "metadata": {},
   "outputs": [
    {
     "data": {
      "text/html": [
       "<div>\n",
       "<style scoped>\n",
       "    .dataframe tbody tr th:only-of-type {\n",
       "        vertical-align: middle;\n",
       "    }\n",
       "\n",
       "    .dataframe tbody tr th {\n",
       "        vertical-align: top;\n",
       "    }\n",
       "\n",
       "    .dataframe thead th {\n",
       "        text-align: right;\n",
       "    }\n",
       "</style>\n",
       "<table border=\"1\" class=\"dataframe\">\n",
       "  <thead>\n",
       "    <tr style=\"text-align: right;\">\n",
       "      <th></th>\n",
       "      <th>score</th>\n",
       "      <th>thumbsUpCount</th>\n",
       "      <th>reviewCreatedVersionAux</th>\n",
       "    </tr>\n",
       "  </thead>\n",
       "  <tbody>\n",
       "    <tr>\n",
       "      <th>count</th>\n",
       "      <td>181891.000000</td>\n",
       "      <td>181891.000000</td>\n",
       "      <td>181891.0</td>\n",
       "    </tr>\n",
       "    <tr>\n",
       "      <th>mean</th>\n",
       "      <td>4.500789</td>\n",
       "      <td>0.211852</td>\n",
       "      <td>4.0</td>\n",
       "    </tr>\n",
       "    <tr>\n",
       "      <th>std</th>\n",
       "      <td>1.124008</td>\n",
       "      <td>7.149620</td>\n",
       "      <td>0.0</td>\n",
       "    </tr>\n",
       "    <tr>\n",
       "      <th>min</th>\n",
       "      <td>1.000000</td>\n",
       "      <td>0.000000</td>\n",
       "      <td>4.0</td>\n",
       "    </tr>\n",
       "    <tr>\n",
       "      <th>25%</th>\n",
       "      <td>5.000000</td>\n",
       "      <td>0.000000</td>\n",
       "      <td>4.0</td>\n",
       "    </tr>\n",
       "    <tr>\n",
       "      <th>50%</th>\n",
       "      <td>5.000000</td>\n",
       "      <td>0.000000</td>\n",
       "      <td>4.0</td>\n",
       "    </tr>\n",
       "    <tr>\n",
       "      <th>75%</th>\n",
       "      <td>5.000000</td>\n",
       "      <td>0.000000</td>\n",
       "      <td>4.0</td>\n",
       "    </tr>\n",
       "    <tr>\n",
       "      <th>max</th>\n",
       "      <td>5.000000</td>\n",
       "      <td>959.000000</td>\n",
       "      <td>4.0</td>\n",
       "    </tr>\n",
       "  </tbody>\n",
       "</table>\n",
       "</div>"
      ],
      "text/plain": [
       "               score  thumbsUpCount  reviewCreatedVersionAux\n",
       "count  181891.000000  181891.000000                 181891.0\n",
       "mean        4.500789       0.211852                      4.0\n",
       "std         1.124008       7.149620                      0.0\n",
       "min         1.000000       0.000000                      4.0\n",
       "25%         5.000000       0.000000                      4.0\n",
       "50%         5.000000       0.000000                      4.0\n",
       "75%         5.000000       0.000000                      4.0\n",
       "max         5.000000     959.000000                      4.0"
      ]
     },
     "execution_count": 15,
     "metadata": {},
     "output_type": "execute_result"
    }
   ],
   "source": [
    "versao4.describe()"
   ]
  },
  {
   "cell_type": "code",
   "execution_count": 16,
   "id": "02365e90",
   "metadata": {},
   "outputs": [
    {
     "data": {
      "text/html": [
       "<div>\n",
       "<style scoped>\n",
       "    .dataframe tbody tr th:only-of-type {\n",
       "        vertical-align: middle;\n",
       "    }\n",
       "\n",
       "    .dataframe tbody tr th {\n",
       "        vertical-align: top;\n",
       "    }\n",
       "\n",
       "    .dataframe thead th {\n",
       "        text-align: right;\n",
       "    }\n",
       "</style>\n",
       "<table border=\"1\" class=\"dataframe\">\n",
       "  <thead>\n",
       "    <tr style=\"text-align: right;\">\n",
       "      <th></th>\n",
       "      <th>score</th>\n",
       "      <th>thumbsUpCount</th>\n",
       "      <th>reviewCreatedVersionAux</th>\n",
       "    </tr>\n",
       "  </thead>\n",
       "  <tbody>\n",
       "    <tr>\n",
       "      <th>count</th>\n",
       "      <td>9930.000000</td>\n",
       "      <td>9930.000000</td>\n",
       "      <td>9930.0</td>\n",
       "    </tr>\n",
       "    <tr>\n",
       "      <th>mean</th>\n",
       "      <td>4.304330</td>\n",
       "      <td>0.201913</td>\n",
       "      <td>5.0</td>\n",
       "    </tr>\n",
       "    <tr>\n",
       "      <th>std</th>\n",
       "      <td>1.347562</td>\n",
       "      <td>4.188746</td>\n",
       "      <td>0.0</td>\n",
       "    </tr>\n",
       "    <tr>\n",
       "      <th>min</th>\n",
       "      <td>1.000000</td>\n",
       "      <td>0.000000</td>\n",
       "      <td>5.0</td>\n",
       "    </tr>\n",
       "    <tr>\n",
       "      <th>25%</th>\n",
       "      <td>4.000000</td>\n",
       "      <td>0.000000</td>\n",
       "      <td>5.0</td>\n",
       "    </tr>\n",
       "    <tr>\n",
       "      <th>50%</th>\n",
       "      <td>5.000000</td>\n",
       "      <td>0.000000</td>\n",
       "      <td>5.0</td>\n",
       "    </tr>\n",
       "    <tr>\n",
       "      <th>75%</th>\n",
       "      <td>5.000000</td>\n",
       "      <td>0.000000</td>\n",
       "      <td>5.0</td>\n",
       "    </tr>\n",
       "    <tr>\n",
       "      <th>max</th>\n",
       "      <td>5.000000</td>\n",
       "      <td>203.000000</td>\n",
       "      <td>5.0</td>\n",
       "    </tr>\n",
       "  </tbody>\n",
       "</table>\n",
       "</div>"
      ],
      "text/plain": [
       "             score  thumbsUpCount  reviewCreatedVersionAux\n",
       "count  9930.000000    9930.000000                   9930.0\n",
       "mean      4.304330       0.201913                      5.0\n",
       "std       1.347562       4.188746                      0.0\n",
       "min       1.000000       0.000000                      5.0\n",
       "25%       4.000000       0.000000                      5.0\n",
       "50%       5.000000       0.000000                      5.0\n",
       "75%       5.000000       0.000000                      5.0\n",
       "max       5.000000     203.000000                      5.0"
      ]
     },
     "execution_count": 16,
     "metadata": {},
     "output_type": "execute_result"
    }
   ],
   "source": [
    "versao5.describe()"
   ]
  },
  {
   "cell_type": "code",
   "execution_count": 83,
   "id": "e9e2830a",
   "metadata": {},
   "outputs": [
    {
     "data": {
      "text/plain": [
       "2.385748407643312"
      ]
     },
     "execution_count": 83,
     "metadata": {},
     "output_type": "execute_result"
    }
   ],
   "source": [
    "versao1[\"score\"].mean()"
   ]
  },
  {
   "cell_type": "code",
   "execution_count": 70,
   "id": "488c6d41",
   "metadata": {},
   "outputs": [
    {
     "data": {
      "text/plain": [
       "4.469515276046755"
      ]
     },
     "execution_count": 70,
     "metadata": {},
     "output_type": "execute_result"
    }
   ],
   "source": [
    "versao2[\"score\"].mean()"
   ]
  },
  {
   "cell_type": "code",
   "execution_count": 71,
   "id": "86bfac56",
   "metadata": {},
   "outputs": [
    {
     "data": {
      "text/plain": [
       "4.605531477651461"
      ]
     },
     "execution_count": 71,
     "metadata": {},
     "output_type": "execute_result"
    }
   ],
   "source": [
    "versao3[\"score\"].mean()"
   ]
  },
  {
   "cell_type": "code",
   "execution_count": 72,
   "id": "76897470",
   "metadata": {},
   "outputs": [
    {
     "data": {
      "text/plain": [
       "4.50078893403192"
      ]
     },
     "execution_count": 72,
     "metadata": {},
     "output_type": "execute_result"
    }
   ],
   "source": [
    "versao4[\"score\"].mean()"
   ]
  },
  {
   "cell_type": "code",
   "execution_count": 73,
   "id": "635550b5",
   "metadata": {},
   "outputs": [
    {
     "data": {
      "text/plain": [
       "4.304330312185297"
      ]
     },
     "execution_count": 73,
     "metadata": {},
     "output_type": "execute_result"
    }
   ],
   "source": [
    "versao5[\"score\"].mean()"
   ]
  },
  {
   "cell_type": "code",
   "execution_count": 97,
   "id": "ff44d4ab",
   "metadata": {},
   "outputs": [
    {
     "data": {
      "image/png": "[encoded data removed]",
      "text/plain": [
       "<Figure size 432x288 with 1 Axes>"
      ]
     },
     "metadata": {
      "needs_background": "light"
     },
     "output_type": "display_data"
    }
   ],
   "source": [
    "pyplot.scatter(data[\"reviewCreatedVersion\"], data[\"score\"])\n",
    "pyplot.title('Gráfico de Dispersão entre data1 e data2')\n",
    "pyplot.show()"
   ]
  },
  {
   "cell_type": "code",
   "execution_count": null,
   "id": "4ab61719",
   "metadata": {},
   "outputs": [],
   "source": []
  }
 ],
 "metadata": {
  "kernelspec": {
   "display_name": "Python 3",
   "language": "python",
   "name": "python3"
  },
  "language_info": {
   "codemirror_mode": {
    "name": "ipython",
    "version": 3
   },
   "file_extension": ".py",
   "mimetype": "text/x-python",
   "name": "python",
   "nbconvert_exporter": "python",
   "pygments_lexer": "ipython3",
   "version": "3.8.8"
  }
 },
 "nbformat": 4,
 "nbformat_minor": 5
}
