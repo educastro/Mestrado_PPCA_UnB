{
 "cells": [
  {
   "cell_type": "markdown",
   "id": "166e125d",
   "metadata": {},
   "source": [
    "# Trabalho individual da disciplina FBD 2021.1"
   ]
  },
  {
   "cell_type": "markdown",
   "id": "b6223bff",
   "metadata": {},
   "source": [
    "### Aluno: Eduardo de Oliveira Castro\n",
    "### Matrícula: 210008164"
   ]
  },
  {
   "cell_type": "markdown",
   "id": "9372a2c1",
   "metadata": {},
   "source": [
    "### Contextualização\n",
    "Para este trabalho decidi explorar o CENSO ESCOLAR do INEP com o objetivo de obter alguma visão sobre a realidade das escolas de ensino básico do Distrito Federal. \n",
    "\n",
    "### Requisitos, Premissas e Obtenção dos Dados\n",
    "Primeiramente, o CENSO ESCOLAR do INEP apresenta dados de todo o Brasil, motivo pelo qual os arquivos também possuem um tamanho extenso que dificulta o seu processamento em computadores pessoais convencionais. Por esse motivo, se mostrou necessário fazer um recorte dos dados para que fossem geradas tabelas contendo apenas dados do Distrito Federal e de toda a sua rede educacional, tanto pública quanto privada. Também foram explorados os relacionados entre Escolas, Turmas e Alunos, sendo dispensadas algumas informações e tabelas que não se mostraram relevantes para esta análise como é o caso de dados, por exemplo, das figuras dos gestores educacionais.\n",
    "Os dados foram obtidos por meio do link https://download.inep.gov.br/dados_abertos/microdados_censo_escolar_2020.zip, encontrado na página https://www.gov.br/inep/pt-br/acesso-a-informacao/dados-abertos/microdados/censo-escolar.\n",
    "\n",
    "### Análise preliminar dos dados\n",
    "Os dados obtidos e estão dispostos em 5 arquivos .csv que, juntos, totalizam aproximadamente 2GB de informação, conforme imagem a seguir:\n",
    "\n",
    "<img src=\"..\\Imagens\\dados.png\">\n",
    "\n",
    "O INEP também oferece, juntamente com os dados, um excelente dicionários de dados por meio do qual utilizei para compreender com quais dados estou lidando, o que representam os valores de referência nas tabelas, etc. O dicionário está disposto na imagem a seguir:\n",
    "\n",
    "<img src=\"..\\Imagens\\dicionario.png\">\n",
    "\n",
    "\n",
    "### Limpeza e Transformação dos Dados\n",
    "Naturalmente, o primeiro objetivo do trabalho envolveu o processo de ETL (Extract, transform, load ou, em português, extração, transformação, carregamento). Na etapa atual, avaliamos as colunas que são pertinentes para o trabalho e retiramos aquelas que não foram relevantes. Também procedemos com ajustes em dados inconsistentes e/ou vazios por meio da sua devida correção e/ou preenchimento para que tenhamos uma tabela completamente preenchida e com valores válidos. Nesta etapa, todos aqueles campos vazios foram preenchidos com o valor 0. O código desenvolvido, em Python, pode ser verificado a seguir:"
   ]
  },
  {
   "cell_type": "code",
   "execution_count": 1,
   "id": "5240e776",
   "metadata": {},
   "outputs": [],
   "source": [
    "# Importação da biblioteca utilizada para manipular os dados\n",
    "import pandas as pd"
   ]
  },
  {
   "cell_type": "code",
   "execution_count": 2,
   "id": "9a721ad3",
   "metadata": {},
   "outputs": [],
   "source": [
    "# Carregamento do maior csv, o de alunos/matrículas. Isso é feito agora para que não haja estouro de memória posteriormente \n",
    "alunos = pd.read_csv(r'C:\\Users\\eduar\\Documents\\programming\\python\\Mestrado_PPCA_UnB\\2021.1_FBD\\Trabalho_Individual\\Dados\\matricula_co.csv', sep='|', encoding='ISO-8859-1')"
   ]
  },
  {
   "cell_type": "code",
   "execution_count": 3,
   "id": "644cc790",
   "metadata": {},
   "outputs": [
    {
     "name": "stderr",
     "output_type": "stream",
     "text": [
      "C:\\ProgramData\\Anaconda3\\lib\\site-packages\\IPython\\core\\interactiveshell.py:3165: DtypeWarning: Columns (3) have mixed types.Specify dtype option on import or set low_memory=False.\n",
      "  has_raised = await self.run_ast_nodes(code_ast.body, cell_name,\n"
     ]
    }
   ],
   "source": [
    "# Carregando do arquivo referente as escolas\n",
    "escolas = pd.read_csv(r'C:\\Users\\eduar\\Documents\\programming\\python\\Mestrado_PPCA_UnB\\2021.1_FBD\\Trabalho_Individual\\Dados\\escolas.csv', sep='|', encoding='ISO-8859-1')\n",
    "\n",
    "# Limpeza exclusão das tabelas que não foram consideradas relevantes para este trabalho\n",
    "escolas = escolas.drop(columns=['NU_ANO_CENSO', 'CO_REGIAO', 'CO_MESORREGIAO', 'CO_MICRORREGIAO', 'CO_MUNICIPIO', 'CO_DISTRITO', 'TP_LOCALIZACAO_DIFERENCIADA', 'IN_VINCULO_SECRETARIA_SAUDE', 'IN_VINCULO_OUTRO_ORGAO', 'TP_CATEGORIA_ESCOLA_PRIVADA', 'IN_CONVENIADA_PP', 'TP_CONVENIO_PODER_PUBLICO', 'IN_MANT_ESCOLA_PRIVADA_EMP', 'IN_MANT_ESCOLA_PRIVADA_ONG', 'IN_MANT_ESCOLA_PRIVADA_OSCIP', 'IN_MANT_ESCOLA_PRIV_ONG_OSCIP', 'IN_MANT_ESCOLA_PRIVADA_SIND', 'IN_MANT_ESCOLA_PRIVADA_SIST_S', 'IN_MANT_ESCOLA_PRIVADA_S_FINS', 'TP_REGULAMENTACAO', 'TP_RESPONSAVEL_REGULAMENTACAO', 'CO_ESCOLA_SEDE_VINCULADA', 'CO_IES_OFERTANTE', 'IN_LOCAL_FUNC_GALPAO', 'TP_OCUPACAO_GALPAO', 'IN_LOCAL_FUNC_SALAS_OUTRA_ESC', 'IN_LOCAL_FUNC_OUTROS', 'IN_PREDIO_COMPARTILHADO', 'IN_AGUA_REDE_PUBLICA', 'IN_AGUA_POCO_ARTESIANO', 'IN_AGUA_CACIMBA', 'IN_AGUA_FONTE_RIO', 'IN_AGUA_INEXISTENTE', 'IN_ENERGIA_GERADOR_FOSSIL', 'IN_ENERGIA_INEXISTENTE', 'IN_ESGOTO_FOSSA_SEPTICA', 'IN_ESGOTO_FOSSA_COMUM', 'IN_ESGOTO_FOSSA', 'IN_ESGOTO_INEXISTENTE', 'IN_LIXO_QUEIMA', 'IN_LIXO_ENTERRA', 'IN_LIXO_DESTINO_FINAL_PUBLICO', 'IN_LIXO_DESCARTA_OUTRA_AREA', 'IN_TRATAMENTO_LIXO_SEPARACAO', 'IN_TRATAMENTO_LIXO_REUTILIZA', 'IN_TRATAMENTO_LIXO_RECICLAGEM', 'IN_TRATAMENTO_LIXO_INEXISTENTE', 'IN_ALMOXARIFADO', 'IN_BANHEIRO_EI', 'IN_BANHEIRO_FUNCIONARIOS', 'IN_BANHEIRO_CHUVEIRO', 'IN_BIBLIOTECA_SALA_LEITURA', 'IN_DESPENSA', 'IN_DORMITORIO_ALUNO', 'IN_DORMITORIO_PROFESSOR', 'IN_SALA_MUSICA_CORAL', 'IN_SALA_ESTUDIO_DANCA', 'IN_SALA_MULTIUSO', 'IN_SALA_DIRETORIA', 'IN_SALA_LEITURA', 'IN_SALA_PROFESSOR', 'IN_SALA_REPOUSO_ALUNO', 'IN_SECRETARIA', 'IN_SALA_ATENDIMENTO_ESPECIAL', 'IN_TERREIRAO', 'IN_VIVEIRO', 'IN_DEPENDENCIAS_OUTRAS', 'IN_ACESSIBILIDADE_CORRIMAO', 'IN_ACESSIBILIDADE_ELEVADOR', 'IN_ACESSIBILIDADE_PISOS_TATEIS', 'IN_ACESSIBILIDADE_VAO_LIVRE', 'IN_ACESSIBILIDADE_RAMPAS', 'IN_ACESSIBILIDADE_SINAL_SONORO', 'IN_ACESSIBILIDADE_SINAL_TATIL', 'IN_ACESSIBILIDADE_SINAL_VISUAL', 'IN_ACESSIBILIDADE_INEXISTENTE', 'QT_SALAS_UTILIZADAS_DENTRO', 'QT_SALAS_UTILIZADAS_FORA', 'QT_SALAS_UTILIZADAS', 'QT_SALAS_UTILIZA_CLIMATIZADAS', 'QT_SALAS_UTILIZADAS_ACESSIVEIS', 'IN_EQUIP_PARABOLICA', 'IN_COMPUTADOR', 'IN_EQUIP_COPIADORA', 'IN_EQUIP_IMPRESSORA', 'IN_EQUIP_IMPRESSORA_MULT', 'IN_EQUIP_SCANNER', 'IN_EQUIP_NENHUM', 'IN_EQUIP_DVD', 'QT_EQUIP_DVD', 'IN_EQUIP_SOM', 'QT_EQUIP_SOM', 'IN_EQUIP_TV', 'QT_EQUIP_TV', 'IN_EQUIP_LOUSA_DIGITAL', 'QT_EQUIP_LOUSA_DIGITAL', 'IN_EQUIP_MULTIMIDIA', 'QT_EQUIP_MULTIMIDIA', 'IN_INTERNET_ADMINISTRATIVO', 'IN_INTERNET_APRENDIZAGEM', 'IN_INTERNET_COMUNIDADE', 'IN_ACESSO_INTERNET_COMPUTADOR', 'IN_ACES_INTERNET_DISP_PESSOAIS', 'QT_PROF_ADMINISTRATIVOS', 'QT_PROF_SERVICOS_GERAIS', 'QT_PROF_BIBLIOTECARIO', 'QT_PROF_SAUDE', 'QT_PROF_COORDENADOR', 'QT_PROF_ALIMENTACAO', 'QT_PROF_PEDAGOGIA', 'QT_PROF_SECRETARIO', 'QT_PROF_SEGURANCA', 'QT_PROF_MONITORES', 'QT_PROF_GESTAO', 'QT_PROF_ASSIST_SOCIAL', 'IN_SERIE_ANO', 'IN_PERIODOS_SEMESTRAIS', 'IN_FUNDAMENTAL_CICLOS', 'IN_GRUPOS_NAO_SERIADOS', 'IN_MODULOS', 'IN_FORMACAO_ALTERNANCIA', 'IN_MATERIAL_PED_MULTIMIDIA', 'IN_MATERIAL_PED_INFANTIL', 'IN_MATERIAL_PED_CIENTIFICO', 'IN_MATERIAL_PED_DIFUSAO', 'IN_MATERIAL_PED_MUSICAL', 'IN_MATERIAL_PED_JOGOS', 'IN_MATERIAL_PED_ARTISTICAS', 'IN_MATERIAL_PED_DESPORTIVA', 'IN_MATERIAL_PED_INDIGENA', 'IN_MATERIAL_PED_ETNICO', 'IN_MATERIAL_PED_CAMPO', 'IN_MATERIAL_PED_NENHUM', 'IN_EDUCACAO_INDIGENA', 'TP_INDIGENA_LINGUA', 'CO_LINGUA_INDIGENA_1', 'CO_LINGUA_INDIGENA_2', 'CO_LINGUA_INDIGENA_3', 'IN_EXAME_SELECAO', 'IN_RESERVA_PPI', 'IN_RESERVA_RENDA', 'IN_RESERVA_PUBLICA', 'IN_RESERVA_PCD', 'IN_RESERVA_OUTROS', 'IN_RESERVA_NENHUMA', 'IN_REDES_SOCIAIS', 'IN_ESPACO_ATIVIDADE', 'IN_ESPACO_EQUIPAMENTO', 'IN_ORGAO_ASS_PAIS', 'IN_ORGAO_ASS_PAIS_MESTRES', 'IN_ORGAO_CONSELHO_ESCOLAR', 'IN_ORGAO_GREMIO_ESTUDANTIL', 'IN_ORGAO_OUTROS', 'IN_ORGAO_NENHUM', 'TP_PROPOSTA_PEDAGOGICA', 'TP_AEE', 'TP_ATIVIDADE_COMPLEMENTAR', 'IN_MEDIACAO_PRESENCIAL', 'IN_MEDIACAO_SEMIPRESENCIAL', 'IN_MEDIACAO_EAD', 'IN_ESPECIAL_EXCLUSIVA', 'IN_REGULAR', 'IN_EJA', 'IN_PROFISSIONALIZANTE', 'IN_COMUM_CRECHE', 'IN_COMUM_PRE', 'IN_COMUM_FUND_AI', 'IN_COMUM_FUND_AF', 'IN_COMUM_MEDIO_MEDIO', 'IN_COMUM_MEDIO_INTEGRADO', 'IN_COMUM_MEDIO_NORMAL', 'IN_ESP_EXCLUSIVA_CRECHE', 'IN_ESP_EXCLUSIVA_PRE', 'IN_ESP_EXCLUSIVA_FUND_AI', 'IN_ESP_EXCLUSIVA_FUND_AF', 'IN_ESP_EXCLUSIVA_MEDIO_MEDIO', 'IN_ESP_EXCLUSIVA_MEDIO_INTEGR', 'IN_ESP_EXCLUSIVA_MEDIO_NORMAL', 'IN_COMUM_EJA_FUND', 'IN_COMUM_EJA_MEDIO', 'IN_COMUM_EJA_PROF', 'IN_ESP_EXCLUSIVA_EJA_FUND', 'IN_ESP_EXCLUSIVA_EJA_MEDIO', 'IN_ESP_EXCLUSIVA_EJA_PROF', 'IN_COMUM_PROF', 'IN_ESP_EXCLUSIVA_PROF'])\n",
    "\n",
    "# Fateia apenas parte as escolas cuja UF seja equivalente ao número  53, que representa do DF \n",
    "escolas_df = escolas[escolas['CO_UF'] == 53]\n",
    "\n",
    "# Preenche todas as células vazias com o valor 0 \n",
    "escolas_df = escolas_df.fillna(0)\n",
    "\n",
    "# Cria uma lista com os códigos das escolas que estão no Distrito Federal, esse código será muito utilizado para lidar com as demais tabelas \n",
    "escolas_df_codigos = escolas_df['CO_ENTIDADE'].values.tolist()\n",
    "\n",
    "# Salva uma nova versão do CSV, contendo apenas as colunas consideradas relevantes e os dados do DF\n",
    "escolas_df.to_csv(r'C:\\Users\\eduar\\Documents\\programming\\python\\Mestrado_PPCA_UnB\\2021.1_FBD\\Trabalho_Individual\\Dados\\escolas_DF.csv', sep=';', encoding='ISO-8859-1', index = False)"
   ]
  },
  {
   "cell_type": "code",
   "execution_count": 4,
   "id": "1f07d9ce",
   "metadata": {},
   "outputs": [
    {
     "name": "stderr",
     "output_type": "stream",
     "text": [
      "C:\\ProgramData\\Anaconda3\\lib\\site-packages\\IPython\\core\\interactiveshell.py:3165: DtypeWarning: Columns (45) have mixed types.Specify dtype option on import or set low_memory=False.\n",
      "  has_raised = await self.run_ast_nodes(code_ast.body, cell_name,\n"
     ]
    }
   ],
   "source": [
    "# Carregando do arquivo referente aos docentes\n",
    "docentes = pd.read_csv(r'C:\\Users\\eduar\\Documents\\programming\\python\\Mestrado_PPCA_UnB\\2021.1_FBD\\Trabalho_Individual\\Dados\\docentes_co.csv', sep='|', encoding='ISO-8859-1')\n",
    "\n",
    "# Limpeza exclusão das tabelas que não foram consideradas relevantes para este trabalho\n",
    "docentes = docentes.drop(columns=['NU_ANO_CENSO', 'NU_IDADE_REFERENCIA', 'CO_PAIS_ORIGEM', 'CO_MUNICIPIO_NASC', 'CO_UF_END', 'CO_MUNICIPIO_END', 'TP_ZONA_RESIDENCIAL', 'TP_LOCAL_RESID_DIFERENCIADA', 'IN_BAIXA_VISAO', 'IN_CEGUEIRA', 'IN_DEF_AUDITIVA', 'IN_DEF_INTELECTUAL', 'IN_SURDEZ', 'IN_SURDOCEGUEIRA', 'IN_DEF_MULTIPLA', 'IN_AUTISMO', 'TP_ESCOLARIDADE', 'TP_ENSINO_MEDIO', 'TP_SITUACAO_CURSO_1', 'CO_AREA_CURSO_1', 'CO_CURSO_1', 'IN_LICENCIATURA_1', 'NU_ANO_CONCLUSAO_1', 'TP_TIPO_IES_1', 'CO_IES_1', 'TP_SITUACAO_CURSO_2', 'CO_AREA_CURSO_2', 'CO_CURSO_2', 'IN_LICENCIATURA_2', 'NU_ANO_CONCLUSAO_2', 'TP_TIPO_IES_2', 'CO_IES_2', 'TP_SITUACAO_CURSO_3', 'CO_AREA_CURSO_3', 'CO_CURSO_3', 'IN_LICENCIATURA_3', 'NU_ANO_CONCLUSAO_3', 'TP_TIPO_IES_3', 'CO_IES_3', 'IN_COMPLEMENTACAO_PEDAGOGICA', 'CO_AREA_COMPL_PEDAGOGICA_1', 'CO_AREA_COMPL_PEDAGOGICA_2', 'CO_AREA_COMPL_PEDAGOGICA_3', 'IN_ESPECIFICO_CRECHE', 'IN_ESPECIFICO_PRE_ESCOLA', 'IN_ESPECIFICO_ANOS_INICIAIS', 'IN_ESPECIFICO_ANOS_FINAIS', 'IN_ESPECIFICO_ENS_MEDIO', 'IN_ESPECIFICO_EJA', 'IN_ESPECIFICO_ED_ESPECIAL', 'IN_ESPECIFICO_ED_INDIGENA', 'IN_ESPECIFICO_CAMPO', 'IN_ESPECIFICO_AMBIENTAL', 'IN_ESPECIFICO_DIR_HUMANOS', 'IN_ESPECIFICO_DIV_SEXUAL', 'IN_ESPECIFICO_DIR_ADOLESC', 'IN_ESPECIFICO_AFRO', 'IN_ESPECIFICO_GESTAO', 'IN_ESPECIFICO_OUTROS', 'IN_ESPECIFICO_NENHUM', 'IN_DISC_LINGUA_PORTUGUESA', 'IN_DISC_EDUCACAO_FISICA', 'IN_DISC_ARTES', 'IN_DISC_LINGUA_INGLES', 'IN_DISC_LINGUA_ESPANHOL', 'IN_DISC_LINGUA_FRANCES', 'IN_DISC_LINGUA_OUTRA', 'IN_DISC_LIBRAS', 'IN_DISC_LINGUA_INDIGENA', 'IN_DISC_PORT_SEGUNDA_LINGUA', 'IN_DISC_MATEMATICA', 'IN_DISC_CIENCIAS', 'IN_DISC_FISICA', 'IN_DISC_QUIMICA', 'IN_DISC_BIOLOGIA', 'IN_DISC_HISTORIA', 'IN_DISC_GEOGRAFIA', 'IN_DISC_SOCIOLOGIA', 'IN_DISC_FILOSOFIA', 'IN_DISC_ESTUDOS_SOCIAIS', 'IN_DISC_EST_SOCIAIS_SOCIOLOGIA', 'IN_DISC_INFORMATICA_COMPUTACAO', 'IN_DISC_ENSINO_RELIGIOSO', 'IN_DISC_PROFISSIONALIZANTE', 'IN_DISC_ESTAGIO_SUPERVISIONADO', 'IN_DISC_PEDAGOGICAS', 'IN_DISC_OUTRAS', 'TP_TIPO_ATENDIMENTO_TURMA', 'TP_TIPO_LOCAL_TURMA', 'TP_MEDIACAO_DIDATICO_PEDAGO', 'TP_ETAPA_ENSINO', 'CO_CURSO_EDUC_PROFISSIONAL', 'IN_ESPECIAL_EXCLUSIVA', 'IN_REGULAR', 'IN_EJA', 'IN_PROFISSIONALIZANTE', 'CO_REGIAO', 'CO_MESORREGIAO', 'CO_MICRORREGIAO', 'CO_MUNICIPIO', 'CO_DISTRITO', 'TP_DEPENDENCIA', 'TP_LOCALIZACAO', 'TP_CATEGORIA_ESCOLA_PRIVADA', 'IN_CONVENIADA_PP', 'TP_CONVENIO_PODER_PUBLICO', 'IN_MANT_ESCOLA_PRIVADA_EMP', 'IN_MANT_ESCOLA_PRIVADA_ONG', 'IN_MANT_ESCOLA_PRIVADA_OSCIP', 'IN_MANT_ESCOLA_PRIV_ONG_OSCIP', 'IN_MANT_ESCOLA_PRIVADA_SIND', 'IN_MANT_ESCOLA_PRIVADA_SIST_S', 'IN_MANT_ESCOLA_PRIVADA_S_FINS', 'TP_REGULAMENTACAO', 'TP_LOCALIZACAO_DIFERENCIADA', 'IN_EDUCACAO_INDIGENA'])\n",
    "\n",
    "# Cria um novo dataframe apenas contendo os docentes cuja escola seja do DF, para tal comparação utilizamos a lista com cs códigos das escolas criada anteriormente\n",
    "docentes_df = docentes[docentes['CO_ENTIDADE'].isin(escolas_df_codigos)]\n",
    "\n",
    "# Preenche todas as células vazias com o valor 0 \n",
    "docentes_df = docentes_df.fillna(0)\n",
    "\n",
    "# Salva uma nova versão do CSV, contendo apenas as colunas consideradas relevantes e os dados do DF\n",
    "docentes_df.to_csv(r'C:\\Users\\eduar\\Documents\\programming\\python\\Mestrado_PPCA_UnB\\2021.1_FBD\\Trabalho_Individual\\Dados\\docentes_DF.csv', sep=';', encoding='ISO-8859-1', index = False)"
   ]
  },
  {
   "cell_type": "code",
   "execution_count": 5,
   "id": "59d2453c",
   "metadata": {},
   "outputs": [],
   "source": [
    "# Carregando do arquivo referente aos gestores\n",
    "gestor = pd.read_csv(r'C:\\Users\\eduar\\Documents\\programming\\python\\Mestrado_PPCA_UnB\\2021.1_FBD\\Trabalho_Individual\\Dados\\gestor.csv', sep='|', encoding='ISO-8859-1')\n",
    "\n",
    "# Limpeza exclusão das tabelas que não foram consideradas relevantes para este trabalho\n",
    "gestor = gestor.drop(columns=['NU_ANO_CENSO', 'NU_IDADE_REFERENCIA', 'CO_PAIS_ORIGEM', 'CO_UF_NASC', 'CO_MUNICIPIO_NASC', 'IN_BAIXA_VISAO', 'IN_CEGUEIRA', 'IN_DEF_AUDITIVA', 'IN_DEF_FISICA', 'IN_DEF_INTELECTUAL', 'IN_SURDEZ', 'IN_SURDOCEGUEIRA', 'IN_DEF_MULTIPLA', 'IN_AUTISMO', 'TP_ESCOLARIDADE', 'TP_ENSINO_MEDIO', 'CO_AREA_CURSO_1', 'CO_CURSO_1', 'IN_LICENCIATURA_1', 'NU_ANO_CONCLUSAO_1', 'TP_TIPO_IES_1', 'CO_IES_1', 'CO_AREA_CURSO_2', 'CO_CURSO_2', 'IN_LICENCIATURA_2', 'NU_ANO_CONCLUSAO_2', 'TP_TIPO_IES_2', 'CO_IES_2', 'IN_ESPECIFICO_CRECHE', 'IN_ESPECIFICO_PRE_ESCOLA', 'IN_ESPECIFICO_ANOS_INICIAIS', 'IN_ESPECIFICO_ANOS_FINAIS', 'IN_ESPECIFICO_ENS_MEDIO', 'IN_ESPECIFICO_EJA', 'IN_ESPECIFICO_ED_ESPECIAL', 'IN_ESPECIFICO_ED_INDIGENA', 'IN_ESPECIFICO_CAMPO', 'IN_ESPECIFICO_AMBIENTAL', 'IN_ESPECIFICO_DIR_HUMANOS', 'IN_ESPECIFICO_DIV_SEXUAL', 'IN_ESPECIFICO_DIR_ADOLESC', 'IN_ESPECIFICO_AFRO', 'IN_ESPECIFICO_GESTAO', 'IN_ESPECIFICO_OUTROS', 'IN_ESPECIFICO_NENHUM', 'TP_CARGO_GESTOR', 'TP_TIPO_ACESSO_CARGO', 'CO_REGIAO', 'CO_MESORREGIAO', 'CO_MICRORREGIAO', 'CO_MUNICIPIO', 'CO_DISTRITO', 'TP_DEPENDENCIA', 'TP_LOCALIZACAO', 'TP_CATEGORIA_ESCOLA_PRIVADA', 'IN_CONVENIADA_PP', 'TP_CONVENIO_PODER_PUBLICO', 'IN_MANT_ESCOLA_PRIVADA_EMP', 'IN_MANT_ESCOLA_PRIVADA_ONG', 'IN_MANT_ESCOLA_PRIV_ONG_OSCIP', 'IN_MANT_ESCOLA_PRIVADA_OSCIP', 'IN_MANT_ESCOLA_PRIVADA_SIND', 'IN_MANT_ESCOLA_PRIVADA_SIST_S', 'IN_MANT_ESCOLA_PRIVADA_S_FINS', 'TP_REGULAMENTACAO', 'TP_LOCALIZACAO_DIFERENCIADA', 'IN_EDUCACAO_INDIGENA'])\n",
    "\n",
    "# Cria um novo dataframe apenas contendo os gestores cuja escola seja do DF, para tal comparação utilizamos a lista com cs códigos das escolas criada anteriormente\n",
    "gestor_df = gestor[gestor['CO_ENTIDADE'].isin(escolas_df_codigos)]\n",
    "\n",
    "# Preenche todas as células vazias com o valor 0 \n",
    "gestor_df = gestor_df.fillna(0)\n",
    "\n",
    "# Salva uma nova versão do CSV, contendo apenas as colunas consideradas relevantes e os dados do DF\n",
    "gestor_df.to_csv(r'C:\\Users\\eduar\\Documents\\programming\\python\\Mestrado_PPCA_UnB\\2021.1_FBD\\Trabalho_Individual\\Dados\\gestor_DF.csv', sep=';', encoding='ISO-8859-1', index = False)"
   ]
  },
  {
   "cell_type": "code",
   "execution_count": 6,
   "id": "5301b293",
   "metadata": {},
   "outputs": [],
   "source": [
    "# Carregando do arquivo referente as turmas\n",
    "turma = pd.read_csv(r'C:\\Users\\eduar\\Documents\\programming\\python\\Mestrado_PPCA_UnB\\2021.1_FBD\\Trabalho_Individual\\Dados\\turmas.csv', sep='|', encoding='ISO-8859-1')\n",
    "\n",
    "# Limpeza exclusão das tabelas que não foram consideradas relevantes para este trabalho\n",
    "turma = turma.drop(columns=['NU_ANO_CENSO', 'NU_DURACAO_TURMA', 'TP_TIPO_ATENDIMENTO_TURMA', 'TP_TIPO_LOCAL_TURMA', 'CO_TIPO_ATIVIDADE_1', 'CO_TIPO_ATIVIDADE_2', 'CO_TIPO_ATIVIDADE_3', 'CO_TIPO_ATIVIDADE_4', 'CO_TIPO_ATIVIDADE_5', 'CO_TIPO_ATIVIDADE_6', 'TP_ETAPA_ENSINO', 'CO_CURSO_EDUC_PROFISSIONAL', 'IN_ESPECIAL_EXCLUSIVA', 'IN_REGULAR', 'IN_EJA', 'IN_PROFISSIONALIZANTE', 'IN_DISC_LINGUA_PORTUGUESA', 'IN_DISC_EDUCACAO_FISICA', 'IN_DISC_ARTES', 'IN_DISC_LINGUA_INGLES', 'IN_DISC_LINGUA_ESPANHOL', 'IN_DISC_LINGUA_FRANCES', 'IN_DISC_LINGUA_OUTRA', 'IN_DISC_LIBRAS', 'IN_DISC_LINGUA_INDIGENA', 'IN_DISC_PORT_SEGUNDA_LINGUA', 'IN_DISC_MATEMATICA', 'IN_DISC_CIENCIAS', 'IN_DISC_FISICA', 'IN_DISC_QUIMICA', 'IN_DISC_BIOLOGIA', 'IN_DISC_HISTORIA', 'IN_DISC_GEOGRAFIA', 'IN_DISC_SOCIOLOGIA', 'IN_DISC_FILOSOFIA', 'IN_DISC_ESTUDOS_SOCIAIS', 'IN_DISC_EST_SOCIAIS_SOCIOLOGIA', 'IN_DISC_INFORMATICA_COMPUTACAO', 'IN_DISC_ENSINO_RELIGIOSO', 'IN_DISC_PROFISSIONALIZANTE', 'IN_DISC_ESTAGIO_SUPERVISIONADO', 'IN_DISC_PEDAGOGICAS', 'IN_DISC_OUTRAS', 'CO_REGIAO', 'CO_MESORREGIAO', 'CO_MICRORREGIAO', 'CO_MUNICIPIO', 'CO_DISTRITO', 'TP_DEPENDENCIA', 'TP_LOCALIZACAO', 'TP_CATEGORIA_ESCOLA_PRIVADA', 'IN_CONVENIADA_PP', 'TP_CONVENIO_PODER_PUBLICO', 'IN_MANT_ESCOLA_PRIVADA_EMP', 'IN_MANT_ESCOLA_PRIVADA_ONG', 'IN_MANT_ESCOLA_PRIVADA_OSCIP', 'IN_MANT_ESCOLA_PRIV_ONG_OSCIP', 'IN_MANT_ESCOLA_PRIVADA_SIND', 'IN_MANT_ESCOLA_PRIVADA_SIST_S', 'IN_MANT_ESCOLA_PRIVADA_S_FINS', 'TP_REGULAMENTACAO', 'TP_LOCALIZACAO_DIFERENCIADA', 'IN_EDUCACAO_INDIGENA', 'IN_DIA_SEMANA_DOMINGO', 'IN_DIA_SEMANA_SEGUNDA', 'IN_DIA_SEMANA_TERCA', 'IN_DIA_SEMANA_QUARTA', 'IN_DIA_SEMANA_QUINTA', 'IN_DIA_SEMANA_SEXTA', 'IN_DIA_SEMANA_SABADO'])\n",
    "\n",
    "# Cria um novo dataframe apenas contendo as turmas cuja escola seja do DF, para tal comparação utilizamos a lista com cs códigos das escolas criada anteriormente\n",
    "turma_df = turma[turma['CO_ENTIDADE'].isin(escolas_df_codigos)]\n",
    "\n",
    "# Preenche todas as células vazias com o valor 0 \n",
    "turma_df = turma_df.fillna(0)\n",
    "\n",
    "# Salva uma nova versão do CSV, contendo apenas as colunas consideradas relevantes e os dados do DF\n",
    "turma_df.to_csv(r'C:\\Users\\eduar\\Documents\\programming\\python\\Mestrado_PPCA_UnB\\2021.1_FBD\\Trabalho_Individual\\Dados\\turmas_DF.csv', sep=';', encoding='ISO-8859-1', index = False)"
   ]
  },
  {
   "cell_type": "code",
   "execution_count": 7,
   "id": "ad20ec86",
   "metadata": {},
   "outputs": [],
   "source": [
    "# Limpeza exclusão das tabelas que não foram consideradas relevantes para este trabalho\n",
    "alunos = alunos.drop(columns=['NU_ANO_CENSO', 'NU_IDADE_REFERENCIA', 'CO_PAIS_ORIGEM', 'CO_UF_NASC', 'CO_MUNICIPIO_NASC', 'CO_UF_END', 'CO_MUNICIPIO_END', 'TP_ZONA_RESIDENCIAL', 'TP_LOCAL_RESID_DIFERENCIADA', 'IN_BAIXA_VISAO', 'IN_CEGUEIRA', 'IN_DEF_AUDITIVA', 'IN_DEF_INTELECTUAL', 'IN_SURDEZ', 'IN_SURDOCEGUEIRA', 'IN_DEF_MULTIPLA', 'IN_AUTISMO', 'IN_RECURSO_LEDOR', 'IN_RECURSO_TRANSCRICAO', 'IN_RECURSO_INTERPRETE', 'IN_RECURSO_LIBRAS', 'IN_RECURSO_LABIAL', 'IN_RECURSO_AMPLIADA_18', 'IN_RECURSO_AMPLIADA_24', 'IN_RECURSO_CD_AUDIO', 'IN_RECURSO_PROVA_PORTUGUES', 'IN_RECURSO_VIDEO_LIBRAS', 'IN_RECURSO_BRAILLE', 'IN_RECURSO_NENHUM', 'IN_AEE_LIBRAS', 'IN_AEE_LINGUA_PORTUGUESA', 'IN_AEE_INFORMATICA_ACESSIVEL', 'IN_AEE_BRAILLE', 'IN_AEE_CAA', 'IN_AEE_SOROBAN', 'IN_AEE_VIDA_AUTONOMA', 'IN_AEE_OPTICOS_NAO_OPTICOS', 'IN_AEE_ENRIQ_CURRICULAR', 'IN_AEE_DESEN_COGNITIVO', 'IN_AEE_MOBILIDADE', 'TP_OUTRO_LOCAL_AULA', 'IN_TRANSPORTE_PUBLICO', 'TP_RESPONSAVEL_TRANSPORTE', 'IN_TRANSP_BICICLETA', 'IN_TRANSP_MICRO_ONIBUS', 'IN_TRANSP_ONIBUS', 'IN_TRANSP_TR_ANIMAL', 'IN_TRANSP_VANS_KOMBI', 'IN_TRANSP_OUTRO_VEICULO', 'IN_TRANSP_EMBAR_ATE5', 'IN_TRANSP_EMBAR_5A15', 'IN_TRANSP_EMBAR_15A35', 'IN_TRANSP_EMBAR_35', 'TP_ETAPA_ENSINO', 'IN_ESPECIAL_EXCLUSIVA', 'IN_REGULAR', 'IN_EJA', 'IN_PROFISSIONALIZANTE', 'CO_CURSO_EDUC_PROFISSIONAL', 'TP_MEDIACAO_DIDATICO_PEDAGO', 'NU_DURACAO_TURMA', 'NU_DUR_ATIV_COMP_MESMA_REDE', 'NU_DUR_ATIV_COMP_OUTRAS_REDES', 'NU_DUR_AEE_MESMA_REDE', 'NU_DUR_AEE_OUTRAS_REDES', 'NU_DIAS_ATIVIDADE', 'TP_UNIFICADA', 'TP_TIPO_ATENDIMENTO_TURMA', 'TP_TIPO_LOCAL_TURMA', 'CO_REGIAO', 'CO_MESORREGIAO', 'CO_MICRORREGIAO', 'CO_MUNICIPIO', 'CO_DISTRITO', 'TP_DEPENDENCIA', 'TP_LOCALIZACAO', 'TP_CATEGORIA_ESCOLA_PRIVADA', 'IN_CONVENIADA_PP', 'TP_CONVENIO_PODER_PUBLICO', 'IN_MANT_ESCOLA_PRIVADA_EMP', 'IN_MANT_ESCOLA_PRIVADA_ONG', 'IN_MANT_ESCOLA_PRIVADA_OSCIP', 'IN_MANT_ESCOLA_PRIV_ONG_OSCIP', 'IN_MANT_ESCOLA_PRIVADA_SIND', 'IN_MANT_ESCOLA_PRIVADA_SIST_S', 'IN_MANT_ESCOLA_PRIVADA_S_FINS', 'TP_REGULAMENTACAO', 'TP_LOCALIZACAO_DIFERENCIADA', 'IN_EDUCACAO_INDIGENA'])\n",
    "\n",
    "# Cria um novo dataframe apenas contendo os alunos cuja escola seja do DF, para tal comparação utilizamos a lista com cs códigos das escolas criada anteriormente\n",
    "alunos_df = alunos[alunos['CO_ENTIDADE'].isin(escolas_df_codigos)]\n",
    "\n",
    "# Preenche todas as células vazias com o valor 0 \n",
    "alunos_df = alunos_df.fillna(0)\n",
    "\n",
    "# Salva uma nova versão do CSV, contendo apenas as colunas consideradas relevantes e os dados do DF\n",
    "alunos_df.to_csv(r'C:\\Users\\eduar\\Documents\\programming\\python\\Mestrado_PPCA_UnB\\2021.1_FBD\\Trabalho_Individual\\Dados\\matricula_df.csv', sep=';', encoding='ISO-8859-1', index = False)"
   ]
  },
  {
   "cell_type": "markdown",
   "id": "f8eadac5",
   "metadata": {},
   "source": [
    "###  Volume de Dados\n",
    "Desta forma, temos os seguintes volumes de dados em cada uma das tabelas que serão utilizadas para alimentar o banco de dados:\n",
    "\n",
    "#### - Tabela Escolas, com 1372 linhas e 52 colunas:"
   ]
  },
  {
   "cell_type": "markdown",
   "id": "0515a301",
   "metadata": {},
   "source": [
    "#### - Tabela Docentes, 151.384 linhas e 20 colunas:"
   ]
  },
  {
   "cell_type": "markdown",
   "id": "d44e52f6",
   "metadata": {},
   "source": [
    "#### - Tabela Docentes, com 1.301 linhas e 16 colunas:"
   ]
  },
  {
   "cell_type": "markdown",
   "id": "b6ded46b",
   "metadata": {},
   "source": [
    "#### - Tabela Turma, com 34.626 linhas e 9 colunas:"
   ]
  },
  {
   "cell_type": "markdown",
   "id": "d8a80cf0",
   "metadata": {},
   "source": [
    "#### - E, por fim, Tabela Aluno, com 724.465 linhas e 14 colunas:"
   ]
  },
  {
   "cell_type": "markdown",
   "id": "3974fa71",
   "metadata": {},
   "source": [
    "### A modelagem do Banco de Dados\n",
    "Para a modelagem do banco foi utilizada a ferramenta MySQL Workbench e os dados provenientes das tabelas citadas anteriormente. Também utilizei como referência o dicionário de dados provido pelo próprio INEP. A seguir segue uma imagem que representa o modelo lógico desenvolvido:\n",
    "\n",
    "\n",
    "<img src=\"..\\Imagens\\modelo.png\">\n",
    "\n",
    "### Os requisitos de negócio observados\n",
    "\n",
    "Ademais, ao observar as planilhas, o dicionário dos dados e as dinâmicas de gestão educacional, fomos capazes de observar algumas relações entre as entidades que representam a forma como esses elementos se organizam e como eles estão dispostos nas tabelas, tais como:\n",
    "\n",
    "\n",
    "- Cada escola contém n alunos, n docentes e n turmas;\n",
    "- Cada docente possui n turmas e n escolas, uma vez que podem lecionar em algumas delas e em várias turmas ao mesmo tempo; e\n",
    "- Cada aluno possui uma escola e uma turma.\n",
    "\n"
   ]
  },
  {
   "cell_type": "markdown",
   "id": "63c96986",
   "metadata": {},
   "source": [
    "### O script de criação do Banco de Dados\n",
    "\n",
    "\n",
    "```sql\n",
    "-- MySQL Workbench Forward Engineering\n",
    "\n",
    "SET @OLD_UNIQUE_CHECKS=@@UNIQUE_CHECKS, UNIQUE_CHECKS=0;\n",
    "SET @OLD_FOREIGN_KEY_CHECKS=@@FOREIGN_KEY_CHECKS, FOREIGN_KEY_CHECKS=0;\n",
    "SET @OLD_SQL_MODE=@@SQL_MODE, SQL_MODE='ONLY_FULL_GROUP_BY,STRICT_TRANS_TABLES,NO_ZERO_IN_DATE,NO_ZERO_DATE,ERROR_FOR_DIVISION_BY_ZERO,NO_ENGINE_SUBSTITUTION';\n",
    "\n",
    "-- -----------------------------------------------------\n",
    "-- Schema mydb\n",
    "-- -----------------------------------------------------\n",
    "\n",
    "-- -----------------------------------------------------\n",
    "-- Schema mydb\n",
    "-- -----------------------------------------------------\n",
    "CREATE SCHEMA IF NOT EXISTS `mydb` DEFAULT CHARACTER SET utf8 ;\n",
    "USE `mydb` ;\n",
    "\n",
    "-- -----------------------------------------------------\n",
    "-- Table `mydb`.`escola`\n",
    "-- -----------------------------------------------------\n",
    "CREATE TABLE IF NOT EXISTS `mydb`.`escola` (\n",
    "  `CO_ENTIDADE` INT NOT NULL,\n",
    "  `NO_ENTIDADE` VARCHAR(200) NULL,\n",
    "  `CO_ORGAO_REGIONAL` VARCHAR(10) NULL,\n",
    "  `TP_SITUACAO_FUNCIONAMENTO` INT NULL,\n",
    "  `DT_ANO_LETIVO_INICIO` VARCHAR(45) NULL,\n",
    "  `DT_ANO_LETIVO_TERMINO` VARCHAR(45) NULL,\n",
    "  `CO_UF` INT NULL,\n",
    "  `TP_DEPENDENCIA` INT NULL,\n",
    "  `TP_LOCALIZACAO` INT NULL,\n",
    "  `IN_VINCULO_SECRETARIA_EDUCACAO` INT NULL,\n",
    "  `IN_VINCULO_SEGURANCA_PUBLICA` INT NULL,\n",
    "  `IN_LOCAL_FUNC_PREDIO_ESCOLAR` INT NULL,\n",
    "  `TP_OCUPACAO_PREDIO_ESCOLAR` INT NULL,\n",
    "  `IN_LOCAL_FUNC_SOCIOEDUCATIVO` INT NULL,\n",
    "  `IN_LOCAL_FUNC_UNID_PRISIONAL` INT NULL,\n",
    "  `IN_LOCAL_FUNC_PRISIONAL_SOCIO` INT NULL,\n",
    "  `IN_AGUA_POTAVEL` INT NULL,\n",
    "  `IN_ENERGIA_REDE_PUBLICA` INT NULL,\n",
    "  `IN_ENERGIA_RENOVAVEL` INT NULL,\n",
    "  `IN_ESGOTO_REDE_PUBLICA` INT NULL,\n",
    "  `IN_LIXO_SERVICO_COLETA` INT NULL,\n",
    "  `IN_AREA_VERDE` INT NULL,\n",
    "  `IN_AUDITORIO` INT NULL,\n",
    "  `IN_BANHEIRO` INT NULL,\n",
    "  `IN_BANHEIRO_PNE` INT NULL,\n",
    "  `IN_BIBLIOTECA` INT NULL,\n",
    "  `IN_COZINHA` INT NULL,\n",
    "  `IN_LABORATORIO_CIENCIAS` INT NULL,\n",
    "  `IN_LABORATORIO_INFORMATICA` INT NULL,\n",
    "  `IN_PATIO_COBERTO` INT NULL,\n",
    "  `IN_PATIO_DESCOBERTO` INT NULL,\n",
    "  `IN_PARQUE_INFANTIL` INT NULL,\n",
    "  `IN_PISCINA` INT NULL,\n",
    "  `IN_QUADRA_ESPORTES` INT NULL,\n",
    "  `IN_QUADRA_ESPORTES_COBERTA` INT NULL,\n",
    "  `IN_QUADRA_ESPORTES_DESCOBERTA` INT NULL,\n",
    "  `IN_REFEITORIO` INT NULL,\n",
    "  `IN_SALA_ATELIE_ARTES` INT NULL,\n",
    "  `IN_DESKTOP_ALUNO` INT NULL,\n",
    "  `QT_DESKTOP_ALUNO` INT NULL,\n",
    "  `IN_COMP_PORTATIL_ALUNO` INT NULL,\n",
    "  `QT_COMP_PORTATIL_ALUNO` INT NULL,\n",
    "  `IN_TABLET_ALUNO` INT NULL,\n",
    "  `QT_TABLET_ALUNO` INT NULL,\n",
    "  `IN_INTERNET` INT NULL,\n",
    "  `IN_INTERNET_ALUNOS` INT NULL,\n",
    "  `TP_REDE_LOCAL` INT NULL,\n",
    "  `IN_BANDA_LARGA` INT NULL,\n",
    "  `QT_PROF_FONAUDIOLOGO` INT NULL,\n",
    "  `QT_PROF_NUTRICIONISTA` INT NULL,\n",
    "  `QT_PROF_PSICOLOGO` INT NULL,\n",
    "  `IN_ALIMENTACAO` INT NULL,\n",
    "  PRIMARY KEY (`CO_ENTIDADE`))\n",
    "ENGINE = InnoDB;\n",
    "\n",
    "\n",
    "-- -----------------------------------------------------\n",
    "-- Table `mydb`.`turma`\n",
    "-- -----------------------------------------------------\n",
    "CREATE TABLE IF NOT EXISTS `mydb`.`turma` (\n",
    "  `ID_TURMA` INT NOT NULL,\n",
    "  `NO_TURMA` VARCHAR(200) NULL,\n",
    "  `TP_MEDIACAO_DIDATICO_PEDAGO` INT NULL,\n",
    "  `TX_HR_INICIAL` VARCHAR(45) NULL,\n",
    "  `TX_MI_INICIAL` VARCHAR(45) NULL,\n",
    "  `NU_DIAS_ATIVIDADE` INT NULL,\n",
    "  `QT_MATRICULAS` INT NULL,\n",
    "  PRIMARY KEY (`ID_TURMA`))\n",
    "ENGINE = InnoDB;\n",
    "\n",
    "\n",
    "-- -----------------------------------------------------\n",
    "-- Table `mydb`.`aluno`\n",
    "-- -----------------------------------------------------\n",
    "CREATE TABLE IF NOT EXISTS `mydb`.`aluno` (\n",
    "  `ID_ALUNO` VARCHAR(45) NOT NULL,\n",
    "  `ID_MATRICULA` INT NULL,\n",
    "  `NU_MES` INT NULL,\n",
    "  `NU_ANO` INT NULL,\n",
    "  `NU_IDADE` INT NULL,\n",
    "  `TP_SEXO` INT NULL,\n",
    "  `TP_COR_RACA` INT NULL,\n",
    "  `TP_NACIONALIDADE` INT NULL,\n",
    "  `IN_NECESSIDADE_ESPECIAL` INT NULL,\n",
    "  `IN_DEF_FISICA` INT NULL,\n",
    "  `IN_SUPERDOTACAO` INT NULL,\n",
    "  `turma_ID_TURMA` INT NOT NULL,\n",
    "  `escola_CO_ENTIDADE` INT NOT NULL,\n",
    "  PRIMARY KEY (`ID_ALUNO`, `turma_ID_TURMA`, `escola_CO_ENTIDADE`),\n",
    "  INDEX `fk_aluno_turma1_idx` (`turma_ID_TURMA` ASC) VISIBLE,\n",
    "  INDEX `fk_aluno_escola1_idx` (`escola_CO_ENTIDADE` ASC) VISIBLE,\n",
    "  CONSTRAINT `fk_aluno_turma1`\n",
    "    FOREIGN KEY (`turma_ID_TURMA`)\n",
    "    REFERENCES `mydb`.`turma` (`ID_TURMA`)\n",
    "    ON DELETE NO ACTION\n",
    "    ON UPDATE NO ACTION,\n",
    "  CONSTRAINT `fk_aluno_escola1`\n",
    "    FOREIGN KEY (`escola_CO_ENTIDADE`)\n",
    "    REFERENCES `mydb`.`escola` (`CO_ENTIDADE`)\n",
    "    ON DELETE NO ACTION\n",
    "    ON UPDATE NO ACTION)\n",
    "ENGINE = InnoDB;\n",
    "\n",
    "\n",
    "-- -----------------------------------------------------\n",
    "-- Table `mydb`.`docente`\n",
    "-- -----------------------------------------------------\n",
    "CREATE TABLE IF NOT EXISTS `mydb`.`docente` (\n",
    "  `idDocente` INT NOT NULL AUTO_INCREMENT,\n",
    "  `ID_DOCENTE` VARCHAR(45) NULL,\n",
    "  `NU_MES` INT NULL,\n",
    "  `NU_ANO` INT NULL,\n",
    "  `NU_IDADE` INT NULL,\n",
    "  `TP_SEXO` INT NULL,\n",
    "  `TP_COR_RACA` INT NULL,\n",
    "  `TP_NACIONALIDADE` INT NULL,\n",
    "  `CO_UF_NASC` INT NULL,\n",
    "  `IN_NECESSIDADE_ESPECIAL` INT NULL,\n",
    "  `IN_DEF_FISICA` INT NULL,\n",
    "  `IN_SUPERDOTACAO` INT NULL,\n",
    "  `IN_ESPECIALIZACAO` INT NULL,\n",
    "  `IN_MESTRADO` INT NULL,\n",
    "  `IN_DOUTORADO` INT NULL,\n",
    "  `IN_POS_NENHUM` INT NULL,\n",
    "  `TP_TIPO_DOCENTE` INT NULL,\n",
    "  `TP_TIPO_CONTRATACAO` INT NULL,\n",
    "  PRIMARY KEY (`idDocente`))\n",
    "ENGINE = InnoDB;\n",
    "\n",
    "\n",
    "-- -----------------------------------------------------\n",
    "-- Table `mydb`.`docente_has_turma`\n",
    "-- -----------------------------------------------------\n",
    "CREATE TABLE IF NOT EXISTS `mydb`.`docente_has_turma` (\n",
    "  `docente_idDocente` INT NOT NULL,\n",
    "  `turma_ID_TURMA` INT NOT NULL,\n",
    "  PRIMARY KEY (`docente_idDocente`, `turma_ID_TURMA`),\n",
    "  INDEX `fk_docente_has_turma_turma1_idx` (`turma_ID_TURMA` ASC) VISIBLE,\n",
    "  INDEX `fk_docente_has_turma_docente1_idx` (`docente_idDocente` ASC) VISIBLE,\n",
    "  CONSTRAINT `fk_docente_has_turma_docente1`\n",
    "    FOREIGN KEY (`docente_idDocente`)\n",
    "    REFERENCES `mydb`.`docente` (`idDocente`)\n",
    "    ON DELETE NO ACTION\n",
    "    ON UPDATE NO ACTION,\n",
    "  CONSTRAINT `fk_docente_has_turma_turma1`\n",
    "    FOREIGN KEY (`turma_ID_TURMA`)\n",
    "    REFERENCES `mydb`.`turma` (`ID_TURMA`)\n",
    "    ON DELETE NO ACTION\n",
    "    ON UPDATE NO ACTION)\n",
    "ENGINE = InnoDB;\n",
    "\n",
    "\n",
    "-- -----------------------------------------------------\n",
    "-- Table `mydb`.`docente_has_escola`\n",
    "-- -----------------------------------------------------\n",
    "CREATE TABLE IF NOT EXISTS `mydb`.`docente_has_escola` (\n",
    "  `docente_idDocente` INT NOT NULL,\n",
    "  `escola_CO_ENTIDADE` INT NOT NULL,\n",
    "  PRIMARY KEY (`docente_idDocente`, `escola_CO_ENTIDADE`),\n",
    "  INDEX `fk_docente_has_escola_escola1_idx` (`escola_CO_ENTIDADE` ASC) VISIBLE,\n",
    "  INDEX `fk_docente_has_escola_docente1_idx` (`docente_idDocente` ASC) VISIBLE,\n",
    "  CONSTRAINT `fk_docente_has_escola_docente1`\n",
    "    FOREIGN KEY (`docente_idDocente`)\n",
    "    REFERENCES `mydb`.`docente` (`idDocente`)\n",
    "    ON DELETE NO ACTION\n",
    "    ON UPDATE NO ACTION,\n",
    "  CONSTRAINT `fk_docente_has_escola_escola1`\n",
    "    FOREIGN KEY (`escola_CO_ENTIDADE`)\n",
    "    REFERENCES `mydb`.`escola` (`CO_ENTIDADE`)\n",
    "    ON DELETE NO ACTION\n",
    "    ON UPDATE NO ACTION)\n",
    "ENGINE = InnoDB;\n",
    "\n",
    "\n",
    "SET SQL_MODE=@OLD_SQL_MODE;\n",
    "SET FOREIGN_KEY_CHECKS=@OLD_FOREIGN_KEY_CHECKS;\n",
    "SET UNIQUE_CHECKS=@OLD_UNIQUE_CHECKS;\n",
    "\n",
    "```"
   ]
  },
  {
   "cell_type": "code",
   "execution_count": 3,
   "id": "8bfe9f82",
   "metadata": {},
   "outputs": [],
   "source": [
    "import mysql.connector as msql\n",
    "from mysql.connector import Error"
   ]
  },
  {
   "cell_type": "markdown",
   "id": "1596c843",
   "metadata": {},
   "source": [
    "### Script para inserção dos dados na tabela escola, desenvolvido em Python"
   ]
  },
  {
   "cell_type": "code",
   "execution_count": 8,
   "id": "57f5f6d0",
   "metadata": {},
   "outputs": [
    {
     "name": "stdout",
     "output_type": "stream",
     "text": [
      "You're connected to database:  ('mydb',)\n",
      "Registros inseridos\n"
     ]
    }
   ],
   "source": [
    "import mysql.connector as msql\n",
    "from mysql.connector import Error\n",
    "\n",
    "try:\n",
    "    conn = msql.connect(host='localhost', database='mydb', user='root', password='root')\n",
    "    if conn.is_connected():\n",
    "        cursor = conn.cursor()\n",
    "        cursor.execute(\"select database();\")\n",
    "        record = cursor.fetchone()\n",
    "        print(\"You're connected to database: \", record)\n",
    "\n",
    "        #loop through the data frame\n",
    "        for i,row in escolas_df.iterrows():\n",
    "            #here %S means string values \n",
    "            cursor.execute(\"\"\"INSERT INTO escola (CO_ENTIDADE, NO_ENTIDADE, CO_ORGAO_REGIONAL, TP_SITUACAO_FUNCIONAMENTO, DT_ANO_LETIVO_INICIO, DT_ANO_LETIVO_TERMINO, CO_UF, TP_DEPENDENCIA, TP_LOCALIZACAO, IN_VINCULO_SECRETARIA_EDUCACAO, IN_VINCULO_SEGURANCA_PUBLICA, IN_LOCAL_FUNC_PREDIO_ESCOLAR, TP_OCUPACAO_PREDIO_ESCOLAR, IN_LOCAL_FUNC_SOCIOEDUCATIVO, IN_LOCAL_FUNC_UNID_PRISIONAL, IN_LOCAL_FUNC_PRISIONAL_SOCIO, IN_AGUA_POTAVEL, IN_ENERGIA_REDE_PUBLICA, IN_ENERGIA_RENOVAVEL, IN_ESGOTO_REDE_PUBLICA, IN_LIXO_SERVICO_COLETA, IN_AREA_VERDE,  IN_AUDITORIO, IN_BANHEIRO, IN_BANHEIRO_PNE, IN_BIBLIOTECA, IN_COZINHA, IN_LABORATORIO_CIENCIAS, IN_LABORATORIO_INFORMATICA, IN_PATIO_COBERTO, IN_PATIO_DESCOBERTO, IN_PARQUE_INFANTIL, IN_PISCINA, IN_QUADRA_ESPORTES, IN_QUADRA_ESPORTES_COBERTA, IN_QUADRA_ESPORTES_DESCOBERTA, IN_REFEITORIO, IN_SALA_ATELIE_ARTES, IN_DESKTOP_ALUNO, QT_DESKTOP_ALUNO, IN_COMP_PORTATIL_ALUNO, QT_COMP_PORTATIL_ALUNO, IN_TABLET_ALUNO, QT_TABLET_ALUNO, IN_INTERNET, IN_INTERNET_ALUNOS, TP_REDE_LOCAL, IN_BANDA_LARGA, QT_PROF_FONAUDIOLOGO, QT_PROF_NUTRICIONISTA, QT_PROF_PSICOLOGO, IN_ALIMENTACAO) VALUES (%s, %s, %s, %s, %s, %s, %s, %s, %s, %s, %s, %s, %s, %s, %s, %s, %s, %s, %s, %s, %s, %s, %s, %s, %s, %s, %s, %s, %s, %s, %s, %s, %s, %s, %s, %s, %s, %s, %s, %s, %s, %s, %s, %s, %s, %s, %s, %s, %s, %s, %s, %s)\"\"\", (row[\"CO_ENTIDADE\"], row[\"NO_ENTIDADE\"], row[\"CO_ORGAO_REGIONAL\"], row[\"TP_SITUACAO_FUNCIONAMENTO\"], row[\"DT_ANO_LETIVO_INICIO\"], row[\"DT_ANO_LETIVO_TERMINO\"], row[\"CO_UF\"], row[\"TP_DEPENDENCIA\"], row[\"TP_LOCALIZACAO\"], row[\"IN_VINCULO_SECRETARIA_EDUCACAO\"], row[\"IN_VINCULO_SEGURANCA_PUBLICA\"], row[\"IN_LOCAL_FUNC_PREDIO_ESCOLAR\"], row[\"TP_OCUPACAO_PREDIO_ESCOLAR\"], row[\"IN_LOCAL_FUNC_SOCIOEDUCATIVO\"], row[\"IN_LOCAL_FUNC_UNID_PRISIONAL\"], row[\"IN_LOCAL_FUNC_PRISIONAL_SOCIO\"], row[\"IN_AGUA_POTAVEL\"], row[\"IN_ENERGIA_REDE_PUBLICA\"], row[\"IN_ENERGIA_RENOVAVEL\"], row[\"IN_ESGOTO_REDE_PUBLICA\"], row[\"IN_LIXO_SERVICO_COLETA\"], row[\"IN_AREA_VERDE\"], row[\"IN_AUDITORIO\"], row[\"IN_BANHEIRO\"], row[\"IN_BANHEIRO_PNE\"], row[\"IN_BIBLIOTECA\"], row[\"IN_COZINHA\"], row[\"IN_LABORATORIO_CIENCIAS\"], row[\"IN_LABORATORIO_INFORMATICA\"], row[\"IN_PATIO_COBERTO\"], row[\"IN_PATIO_DESCOBERTO\"], row[\"IN_PARQUE_INFANTIL\"], row[\"IN_PISCINA\"], row[\"IN_QUADRA_ESPORTES\"], row[\"IN_QUADRA_ESPORTES_COBERTA\"], row[\"IN_QUADRA_ESPORTES_DESCOBERTA\"], row[\"IN_REFEITORIO\"], row[\"IN_SALA_ATELIE_ARTES\"], row[\"IN_DESKTOP_ALUNO\"], row[\"QT_DESKTOP_ALUNO\"], row[\"IN_COMP_PORTATIL_ALUNO\"], row[\"QT_COMP_PORTATIL_ALUNO\"], row[\"IN_TABLET_ALUNO\"], row[\"QT_TABLET_ALUNO\"], row[\"IN_INTERNET\"], row[\"IN_INTERNET_ALUNOS\"], row[\"TP_REDE_LOCAL\"], row[\"IN_BANDA_LARGA\"], row[\"QT_PROF_FONAUDIOLOGO\"], row[\"QT_PROF_NUTRICIONISTA\"], row[\"QT_PROF_PSICOLOGO\"], row[\"IN_ALIMENTACAO\"]))\n",
    "            # the connection is not auto committed by default, so we must commit to save our changes\n",
    "            conn.commit()\n",
    "        print(\"Registros inseridos\")\n",
    "except Error as e:\n",
    "            print(\"Error while connecting to MySQL\", e)"
   ]
  },
  {
   "cell_type": "markdown",
   "id": "fec1dfc0",
   "metadata": {},
   "source": [
    "### Script para inserção dos dados na tabela turma, desenvolvido em Python"
   ]
  },
  {
   "cell_type": "code",
   "execution_count": 9,
   "id": "6e629381",
   "metadata": {},
   "outputs": [
    {
     "name": "stdout",
     "output_type": "stream",
     "text": [
      "You're connected to database:  ('mydb',)\n",
      "Registros inseridos\n"
     ]
    }
   ],
   "source": [
    "try:\n",
    "    conn = msql.connect(host='localhost', database='mydb', user='root', password='root')\n",
    "    if conn.is_connected():\n",
    "        cursor = conn.cursor()\n",
    "        cursor.execute(\"select database();\")\n",
    "        record = cursor.fetchone()\n",
    "        print(\"You're connected to database: \", record)\n",
    "\n",
    "        #loop through the data frame\n",
    "        for i,row in turma_df.iterrows():\n",
    "            #here %S means string values \n",
    "            cursor.execute(\"\"\"INSERT INTO turma (ID_TURMA, NO_TURMA, TP_MEDIACAO_DIDATICO_PEDAGO, TX_HR_INICIAL, TX_MI_INICIAL, NU_DIAS_ATIVIDADE, QT_MATRICULAS) VALUES (%s, %s, %s, %s, %s, %s, %s)\"\"\", (row[\"ID_TURMA\"], row[\"NO_TURMA\"], row[\"TP_MEDIACAO_DIDATICO_PEDAGO\"], row[\"TX_HR_INICIAL\"], row[\"TX_MI_INICIAL\"], row[\"NU_DIAS_ATIVIDADE\"], row[\"QT_MATRICULAS\"]))\n",
    "            # the connection is not auto committed by default, so we must commit to save our changes\n",
    "            conn.commit()\n",
    "        print(\"Registros inseridos\")\n",
    "except Error as e:\n",
    "            print(\"Error while connecting to MySQL\", e)"
   ]
  },
  {
   "cell_type": "markdown",
   "id": "4701a4c4",
   "metadata": {},
   "source": [
    "### Script para inserção dos dados na tabela aluno, desenvolvido em Python"
   ]
  },
  {
   "cell_type": "code",
   "execution_count": 10,
   "id": "9fc6998d",
   "metadata": {},
   "outputs": [
    {
     "name": "stdout",
     "output_type": "stream",
     "text": [
      "You're connected to database:  ('mydb',)\n",
      "Registros inseridos\n"
     ]
    }
   ],
   "source": [
    "try:\n",
    "    conn = msql.connect(host='localhost', database='mydb', user='root', password='root')\n",
    "    if conn.is_connected():\n",
    "        cursor = conn.cursor()\n",
    "        cursor.execute(\"select database();\")\n",
    "        record = cursor.fetchone()\n",
    "        print(\"You're connected to database: \", record)\n",
    "\n",
    "        #loop through the data frame\n",
    "        for i,row in alunos_df.iterrows():\n",
    "            #here %S means string values \n",
    "            cursor.execute(\"\"\"INSERT INTO aluno (ID_ALUNO, ID_MATRICULA, NU_MES, NU_ANO, NU_IDADE, TP_SEXO, TP_COR_RACA, TP_NACIONALIDADE, IN_NECESSIDADE_ESPECIAL, IN_DEF_FISICA, IN_SUPERDOTACAO, turma_ID_TURMA, escola_CO_ENTIDADE) VALUES (%s, %s, %s, %s, %s, %s, %s, %s, %s, %s, %s, %s, %s)\"\"\", (row[\"ID_ALUNO\"], row[\"ID_MATRICULA\"], row[\"NU_MES\"], row[\"NU_ANO\"], row[\"NU_IDADE\"], row[\"TP_SEXO\"], row[\"TP_COR_RACA\"], row[\"TP_NACIONALIDADE\"], row[\"IN_NECESSIDADE_ESPECIAL\"], row[\"IN_DEF_FISICA\"], row[\"IN_SUPERDOTACAO\"], row[\"ID_TURMA\"], row[\"CO_ENTIDADE\"]))\n",
    "            # the connection is not auto committed by default, so we must commit to save our changes\n",
    "            conn.commit()\n",
    "        print(\"Registros inseridos\")\n",
    "except Error as e:\n",
    "            print(\"Error while connecting to MySQL\", e)"
   ]
  },
  {
   "cell_type": "markdown",
   "id": "cc7fc8fb",
   "metadata": {},
   "source": [
    "### Script para inserção dos dados na tabela docente, turma_has_docente e docente_has_escola, desenvolvido em Python"
   ]
  },
  {
   "cell_type": "code",
   "execution_count": 11,
   "id": "de58de22",
   "metadata": {},
   "outputs": [
    {
     "name": "stdout",
     "output_type": "stream",
     "text": [
      "You're connected to database:  ('mydb',)\n",
      "Registros inseridos\n"
     ]
    }
   ],
   "source": [
    "try:\n",
    "    conn = msql.connect(host='localhost', database='mydb', user='root', password='root')\n",
    "    if conn.is_connected():\n",
    "        cursor = conn.cursor()\n",
    "        cursor.execute(\"select database();\")\n",
    "        record = cursor.fetchone()\n",
    "        print(\"You're connected to database: \", record)\n",
    "\n",
    "        #loop through the data frame\n",
    "        for i,row in docentes_df.iterrows():\n",
    "            #here %S means string values \n",
    "            cursor.execute(\"\"\"INSERT INTO docente (ID_DOCENTE, NU_MES, NU_ANO, NU_IDADE, TP_SEXO, TP_COR_RACA, TP_NACIONALIDADE, CO_UF_NASC, IN_NECESSIDADE_ESPECIAL, IN_DEF_FISICA, IN_SUPERDOTACAO, IN_ESPECIALIZACAO, IN_MESTRADO, IN_DOUTORADO, IN_POS_NENHUM, TP_TIPO_DOCENTE, TP_TIPO_CONTRATACAO) VALUES (%s, %s, %s, %s, %s, %s, %s, %s, %s, %s, %s, %s, %s, %s, %s, %s, %s)\"\"\", (row[\"ID_DOCENTE\"], row[\"NU_MES\"], row[\"NU_ANO\"], row[\"NU_IDADE\"], row[\"TP_SEXO\"], row[\"TP_COR_RACA\"], row[\"TP_NACIONALIDADE\"], row[\"CO_UF_NASC\"], row[\"IN_NECESSIDADE_ESPECIAL\"], row[\"IN_DEF_FISICA\"], row[\"IN_SUPERDOTACAO\"], row[\"IN_ESPECIALIZACAO\"], row[\"IN_MESTRADO\"], row[\"IN_DOUTORADO\"], row[\"IN_POS_NENHUM\"], row[\"TP_TIPO_DOCENTE\"], row[\"TP_TIPO_CONTRATACAO\"]))\n",
    "            primary_key = cursor.lastrowid\n",
    "            cursor.execute(\"\"\"INSERT INTO docente_has_turma (docente_idDocente, turma_ID_TURMA) VALUES (%s, %s)\"\"\", (primary_key, row[\"ID_TURMA\"]))\n",
    "            cursor.execute(\"\"\"INSERT INTO docente_has_escola (docente_idDocente, escola_CO_ENTIDADE) VALUES (%s, %s)\"\"\", (primary_key, row[\"CO_ENTIDADE\"]))\n",
    "            # the connection is not auto committed by default, so we must commit to save our changes\n",
    "            conn.commit()\n",
    "        print(\"Registros inseridos\")\n",
    "except Error as e:\n",
    "            print(\"Error while connecting to MySQL\", e)"
   ]
  },
  {
   "cell_type": "markdown",
   "id": "7bdd1719",
   "metadata": {},
   "source": [
    "### Printscreen dos dados nas tabelas\n",
    "Após esse extenso trabalho somos capazes de observar a inserção dos dados no banco por meio da ferramenta Workbench e conforme imagens a seguir:\n",
    "\n",
    "### - Tabela Aluno\n",
    "\n",
    "<img src=\"..\\Imagens\\aluno.png\">\n",
    "\n",
    "### - Tabela Docente\n",
    "\n",
    "<img src=\"..\\Imagens\\docente.png\">\n",
    "\n",
    "### - Tabela Docente_has_escola\n",
    "\n",
    "<img src=\"..\\Imagens\\docente_has_escola.png\">\n",
    "\n",
    "### - Tabela Docente_has_turma\n",
    "\n",
    "<img src=\"..\\Imagens\\docente_has_turma.png\">\n",
    "\n",
    "### - Tabela Escola\n",
    "\n",
    "<img src=\"..\\Imagens\\escola.png\">\n",
    "\n",
    "### - Tabela Turma\n",
    "\n",
    "<img src=\"..\\Imagens\\turma.png\">"
   ]
  },
  {
   "cell_type": "markdown",
   "id": "06a03759",
   "metadata": {},
   "source": [
    "### Consultas SQL\n",
    "\n",
    "#### 1) Quantidade de Professores do Distrito Federal com algum tipo de necessidade especial (deficiência física, autismo, etc):"
   ]
  },
  {
   "cell_type": "code",
   "execution_count": 6,
   "id": "a6827b8b",
   "metadata": {},
   "outputs": [
    {
     "name": "stdout",
     "output_type": "stream",
     "text": [
      "Quantidade de professores com algum tipo de necessidade especial (deficiência física, autismo, etc) no DF: 1160\n"
     ]
    }
   ],
   "source": [
    "try:\n",
    "    conn = msql.connect(host='localhost', database='mydb', user='root', password='root')\n",
    "    if conn.is_connected():\n",
    "        cursor = conn.cursor()\n",
    "        cursor.execute(\"select database();\")\n",
    "        record = cursor.fetchone()\n",
    "\n",
    "        cursor.execute(\"\"\"SELECT * FROM mydb.docente WHERE IN_NECESSIDADE_ESPECIAL = 1\"\"\")\n",
    "        myresult = cursor.fetchall()\n",
    "        \n",
    "        print(\"Quantidade de professores com algum tipo de necessidade especial (deficiência física, autismo, etc) no DF: \" + str(len(myresult)))\n",
    "        \n",
    "        #for x in myresult:\n",
    "        #    print(x)\n",
    "        # the connection is not auto committed by default, so we must commit to save our changes\n",
    "except Error as e:\n",
    "            print(\"Error while connecting to MySQL\", e)"
   ]
  },
  {
   "cell_type": "markdown",
   "id": "41221095",
   "metadata": {},
   "source": [
    "#### 2) Quantidade de Professores do Distrito Federal que tenham mestrado ou doutorado:"
   ]
  },
  {
   "cell_type": "code",
   "execution_count": 7,
   "id": "c9e1c08c",
   "metadata": {},
   "outputs": [
    {
     "name": "stdout",
     "output_type": "stream",
     "text": [
      "Quantidade de professores com mestrado ou doutorado no DF: 9244\n"
     ]
    }
   ],
   "source": [
    "try:\n",
    "    conn = msql.connect(host='localhost', database='mydb', user='root', password='root')\n",
    "    if conn.is_connected():\n",
    "        cursor = conn.cursor()\n",
    "        cursor.execute(\"select database();\")\n",
    "        record = cursor.fetchone()\n",
    "\n",
    "        cursor.execute(\"\"\"SELECT * FROM mydb.docente WHERE IN_MESTRADO = 1 or IN_DOUTORADO = 1\"\"\")\n",
    "        myresult = cursor.fetchall()\n",
    "        \n",
    "        print(\"Quantidade de professores com mestrado ou doutorado no DF: \" + str(len(myresult)))\n",
    "        #for x in myresult:\n",
    "        #    print(x)\n",
    "        # the connection is not auto committed by default, so we must commit to save our changes\n",
    "except Error as e:\n",
    "            print(\"Error while connecting to MySQL\", e)"
   ]
  },
  {
   "cell_type": "markdown",
   "id": "d1f391a5",
   "metadata": {},
   "source": [
    "#### 3) Quantidade de Escolas do Distrito Federal que não tenham água potável ou não tenham energia elétrica:"
   ]
  },
  {
   "cell_type": "code",
   "execution_count": 8,
   "id": "6426aaff",
   "metadata": {},
   "outputs": [
    {
     "name": "stdout",
     "output_type": "stream",
     "text": [
      "Quantidade de escolas que não tenham água potável ou não tenham energia elétrica no DF: 119\n"
     ]
    }
   ],
   "source": [
    "try:\n",
    "    conn = msql.connect(host='localhost', database='mydb', user='root', password='root')\n",
    "    if conn.is_connected():\n",
    "        cursor = conn.cursor()\n",
    "        cursor.execute(\"select database();\")\n",
    "        record = cursor.fetchone()\n",
    "\n",
    "        cursor.execute(\"\"\"SELECT * FROM mydb.escola WHERE IN_AGUA_POTAVEL = 0 or IN_ENERGIA_REDE_PUBLICA = 0\"\"\")\n",
    "        myresult = cursor.fetchall()\n",
    "        \n",
    "        print(\"Quantidade de escolas que não tenham água potável ou não tenham energia elétrica no DF: \" + str(len(myresult)))\n",
    "        #for x in myresult:\n",
    "        #    print(x)\n",
    "        # the connection is not auto committed by default, so we must commit to save our changes\n",
    "except Error as e:\n",
    "            print(\"Error while connecting to MySQL\", e)"
   ]
  },
  {
   "cell_type": "markdown",
   "id": "cc7c5556",
   "metadata": {},
   "source": [
    "#### 4) Quantidade de Escolas do Distrito Federal que tenham Professor Psicologo, Nutricionista ou Fonoaudiologo:"
   ]
  },
  {
   "cell_type": "code",
   "execution_count": 9,
   "id": "3fba5322",
   "metadata": {},
   "outputs": [
    {
     "name": "stdout",
     "output_type": "stream",
     "text": [
      "Quantidade de escolas que tenham psicológo, nutricionista ou fonoaudiólogo no DF: 1342\n"
     ]
    }
   ],
   "source": [
    "try:\n",
    "    conn = msql.connect(host='localhost', database='mydb', user='root', password='root')\n",
    "    if conn.is_connected():\n",
    "        cursor = conn.cursor()\n",
    "        cursor.execute(\"select database();\")\n",
    "        record = cursor.fetchone()\n",
    "\n",
    "        cursor.execute(\"\"\"SELECT * FROM mydb.escola WHERE QT_PROF_FONAUDIOLOGO = 0 or QT_PROF_NUTRICIONISTA = 0 or QT_PROF_PSICOLOGO = 0\"\"\")\n",
    "        myresult = cursor.fetchall()\n",
    "        \n",
    "        print(\"Quantidade de escolas que tenham psicológo, nutricionista ou fonoaudiólogo no DF: \" + str(len(myresult)))\n",
    "        \n",
    "        #for x in myresult:\n",
    "        #    print(x)\n",
    "        # the connection is not auto committed by default, so we must commit to save our changes\n",
    "except Error as e:\n",
    "            print(\"Error while connecting to MySQL\", e)"
   ]
  },
  {
   "cell_type": "markdown",
   "id": "55d68988",
   "metadata": {},
   "source": [
    "#### 5) Quantidade de Escolas do Distrito Federal que tenham computadores, notebooks ou tablets a disposição dos estudantes:"
   ]
  },
  {
   "cell_type": "code",
   "execution_count": 10,
   "id": "a628f3af",
   "metadata": {},
   "outputs": [
    {
     "name": "stdout",
     "output_type": "stream",
     "text": [
      "Quantidade de escolas que tenham computadores, notebooks ou tablets a disposição dos estudantes no DF: 889\n"
     ]
    }
   ],
   "source": [
    "try:\n",
    "    conn = msql.connect(host='localhost', database='mydb', user='root', password='root')\n",
    "    if conn.is_connected():\n",
    "        cursor = conn.cursor()\n",
    "        cursor.execute(\"select database();\")\n",
    "        record = cursor.fetchone()\n",
    "\n",
    "        cursor.execute(\"\"\"SELECT * FROM mydb.escola WHERE IN_DESKTOP_ALUNO = 1 or IN_COMP_PORTATIL_ALUNO = 1 or IN_TABLET_ALUNO = 1\"\"\")\n",
    "        myresult = cursor.fetchall()\n",
    "        \n",
    "        print(\"Quantidade de escolas que tenham computadores, notebooks ou tablets a disposição dos estudantes no DF: \" + str(len(myresult)))\n",
    "        \n",
    "        #for x in myresult:\n",
    "        #    print(x)\n",
    "        # the connection is not auto committed by default, so we must commit to save our changes\n",
    "except Error as e:\n",
    "            print(\"Error while connecting to MySQL\", e)"
   ]
  },
  {
   "cell_type": "markdown",
   "id": "2e212cc3",
   "metadata": {},
   "source": [
    "#### 6) Quantidade de docentes brancos, negros, pardos e indígenas no Distrito Federal:"
   ]
  },
  {
   "cell_type": "code",
   "execution_count": 11,
   "id": "ebdacc4d",
   "metadata": {},
   "outputs": [
    {
     "name": "stdout",
     "output_type": "stream",
     "text": [
      "Quantidade de professores brancos no DF: 44611\n",
      "Quantidade de professores negros no DF: 7485\n",
      "Quantidade de professores pardos no DF: 44868\n",
      "Quantidade de professores indigenas no DF: 1079\n"
     ]
    }
   ],
   "source": [
    "try:\n",
    "    conn = msql.connect(host='localhost', database='mydb', user='root', password='root')\n",
    "    if conn.is_connected():\n",
    "        cursor = conn.cursor()\n",
    "        cursor.execute(\"select database();\")\n",
    "        record = cursor.fetchone()\n",
    "\n",
    "        cursor.execute(\"\"\"SELECT COUNT(ID_DOCENTE) FROM mydb.docente WHERE TP_COR_RACA = 1\"\"\")\n",
    "        myresult = cursor.fetchone()\n",
    "        prof_branco = myresult[0]\n",
    "        \n",
    "        cursor.execute(\"\"\"SELECT COUNT(ID_DOCENTE) FROM mydb.docente WHERE TP_COR_RACA = 2\"\"\")\n",
    "        myresult = cursor.fetchone()\n",
    "        prof_negro = myresult[0]\n",
    "        \n",
    "        cursor.execute(\"\"\"SELECT COUNT(ID_DOCENTE) FROM mydb.docente WHERE TP_COR_RACA = 3\"\"\")\n",
    "        myresult = cursor.fetchone()\n",
    "        prof_pardo = myresult[0]\n",
    "        \n",
    "        cursor.execute(\"\"\"SELECT COUNT(ID_DOCENTE) FROM mydb.docente WHERE TP_COR_RACA = 4\"\"\")\n",
    "        myresult = cursor.fetchone()\n",
    "        prof_indigena = myresult[0]\n",
    "        \n",
    "        print(\"Quantidade de professores brancos no DF: \" + str(prof_branco))\n",
    "        print(\"Quantidade de professores negros no DF: \" + str(prof_negro))\n",
    "        print(\"Quantidade de professores pardos no DF: \" + str(prof_pardo))\n",
    "        print(\"Quantidade de professores indigenas no DF: \" + str(prof_indigena))\n",
    "        \n",
    "        \n",
    "        # the connection is not auto committed by default, so we must commit to save our changes\n",
    "except Error as e:\n",
    "            print(\"Error while connecting to MySQL\", e)"
   ]
  },
  {
   "cell_type": "markdown",
   "id": "2687edde",
   "metadata": {},
   "source": [
    "#### 7) Quantidade de alunos no Distrito Federal com mais de 18 anos, bem como de menores:"
   ]
  },
  {
   "cell_type": "code",
   "execution_count": 12,
   "id": "210278f4",
   "metadata": {},
   "outputs": [
    {
     "name": "stdout",
     "output_type": "stream",
     "text": [
      "Quantidade de alunos com mais de 18 anos no DF: 64818\n",
      "Quantidade de alunos com menos de 18 anos no DF: 626825\n"
     ]
    }
   ],
   "source": [
    "try:\n",
    "    conn = msql.connect(host='localhost', database='mydb', user='root', password='root')\n",
    "    if conn.is_connected():\n",
    "        cursor = conn.cursor()\n",
    "        cursor.execute(\"select database();\")\n",
    "        record = cursor.fetchone()\n",
    "\n",
    "        cursor.execute(\"\"\"SELECT COUNT(ID_ALUNO) FROM mydb.aluno WHERE NU_IDADE > 18\"\"\")\n",
    "        myresult = cursor.fetchone()\n",
    "        qtd_alunos_maior = myresult[0]\n",
    "        \n",
    "        cursor.execute(\"\"\"SELECT COUNT(ID_ALUNO) FROM mydb.aluno WHERE NU_IDADE < 18\"\"\")\n",
    "        myresult = cursor.fetchone()\n",
    "        qtd_alunos_menor = myresult[0]\n",
    "        \n",
    "        print(\"Quantidade de alunos com mais de 18 anos no DF: \" + str(qtd_alunos_maior))      \n",
    "        print(\"Quantidade de alunos com menos de 18 anos no DF: \" + str(qtd_alunos_menor))      \n",
    "        \n",
    "        # the connection is not auto committed by default, so we must commit to save our changes\n",
    "except Error as e:\n",
    "            print(\"Error while connecting to MySQL\", e)"
   ]
  },
  {
   "cell_type": "markdown",
   "id": "30bdc048",
   "metadata": {},
   "source": [
    "#### 8) Quantidade de Escolas vinculadas à Segurança Pública e quantidade de escolas vinculadas à Secretaria de Educação no Distrito Federal:"
   ]
  },
  {
   "cell_type": "code",
   "execution_count": 13,
   "id": "254b7279",
   "metadata": {},
   "outputs": [
    {
     "name": "stdout",
     "output_type": "stream",
     "text": [
      "Quantidade de escolas vinculadas à Secretaria de Estado de Educação do Distrito Federal: 694\n",
      "Quantidade de escolas vinculadas à Secretaria de Estado de Segurança Pública do Distrito Federal (conhecidas enquanto \"escolas militarizadas\"): 14\n"
     ]
    }
   ],
   "source": [
    "try:\n",
    "    conn = msql.connect(host='localhost', database='mydb', user='root', password='root')\n",
    "    if conn.is_connected():\n",
    "        cursor = conn.cursor()\n",
    "        cursor.execute(\"select database();\")\n",
    "        record = cursor.fetchone()\n",
    "\n",
    "        cursor.execute(\"\"\"SELECT COUNT(CO_ENTIDADE) FROM mydb.escola WHERE IN_VINCULO_SECRETARIA_EDUCACAO = 1\"\"\")\n",
    "        myresult = cursor.fetchone()\n",
    "        secretaria = myresult[0]\n",
    "        \n",
    "        cursor.execute(\"\"\"SELECT COUNT(CO_ENTIDADE) FROM mydb.escola WHERE IN_VINCULO_SEGURANCA_PUBLICA = 1\"\"\")\n",
    "        myresult = cursor.fetchone()\n",
    "        seguranca = myresult[0]\n",
    "                \n",
    "        print(\"Quantidade de escolas vinculadas à Secretaria de Estado de Educação do Distrito Federal: \" + str(secretaria))\n",
    "        print(\"Quantidade de escolas vinculadas à Secretaria de Estado de Segurança Pública do Distrito Federal (conhecidas enquanto \\\"escolas militarizadas\\\"): \" + str(seguranca))\n",
    "    \n",
    "        \n",
    "        \n",
    "        # the connection is not auto committed by default, so we must commit to save our changes\n",
    "except Error as e:\n",
    "            print(\"Error while connecting to MySQL\", e)"
   ]
  },
  {
   "cell_type": "markdown",
   "id": "829e8a34",
   "metadata": {},
   "source": [
    "#### 9) Lista de Escolas do Distrito Federal que tenham internet para os estudantes:"
   ]
  },
  {
   "cell_type": "code",
   "execution_count": 14,
   "id": "ee0c82f1",
   "metadata": {},
   "outputs": [
    {
     "name": "stdout",
     "output_type": "stream",
     "text": [
      "Quantidade de escolas que com internet disponível para os estudantes no DF: 543\n"
     ]
    }
   ],
   "source": [
    "try:\n",
    "    conn = msql.connect(host='localhost', database='mydb', user='root', password='root')\n",
    "    if conn.is_connected():\n",
    "        cursor = conn.cursor()\n",
    "        cursor.execute(\"select database();\")\n",
    "        record = cursor.fetchone()\n",
    "\n",
    "        cursor.execute(\"\"\"SELECT * FROM mydb.escola WHERE IN_INTERNET_ALUNOS = 1\"\"\")\n",
    "        myresult = cursor.fetchall()\n",
    "        \n",
    "        print(\"Quantidade de escolas que com internet disponível para os estudantes no DF: \" + str(len(myresult)))\n",
    "        #for x in myresult:\n",
    "        #    print(x)\n",
    "        # the connection is not auto committed by default, so we must commit to save our changes\n",
    "except Error as e:\n",
    "            print(\"Error while connecting to MySQL\", e)"
   ]
  },
  {
   "cell_type": "markdown",
   "id": "89fad16e",
   "metadata": {},
   "source": [
    "#### 10) Lista de Escolas do Distrito Federal que tenham investido em energias renováveis:"
   ]
  },
  {
   "cell_type": "code",
   "execution_count": 15,
   "id": "5d35f4c1",
   "metadata": {},
   "outputs": [
    {
     "name": "stdout",
     "output_type": "stream",
     "text": [
      "Quantidade de escolas que façam uso de algum tipo de energia renovável no DF: 7\n"
     ]
    }
   ],
   "source": [
    "try:\n",
    "    conn = msql.connect(host='localhost', database='mydb', user='root', password='root')\n",
    "    if conn.is_connected():\n",
    "        cursor = conn.cursor()\n",
    "        cursor.execute(\"select database();\")\n",
    "        record = cursor.fetchone()\n",
    "\n",
    "        cursor.execute(\"\"\"SELECT * FROM mydb.escola WHERE IN_ENERGIA_RENOVAVEL = 1\"\"\")\n",
    "        myresult = cursor.fetchall()\n",
    "        \n",
    "        print(\"Quantidade de escolas que façam uso de algum tipo de energia renovável no DF: \" + str(len(myresult)))\n",
    "        #for x in myresult:\n",
    "        #    print(x)\n",
    "        # the connection is not auto committed by default, so we must commit to save our changes\n",
    "except Error as e:\n",
    "            print(\"Error while connecting to MySQL\", e)"
   ]
  },
  {
   "cell_type": "markdown",
   "id": "117d7b0d",
   "metadata": {},
   "source": [
    "#### 11) Lista dos alunos do Distrito Federal com mais de 18 anos, ordenado pelo mais velho:"
   ]
  },
  {
   "cell_type": "code",
   "execution_count": 3,
   "id": "5f35ec0d",
   "metadata": {},
   "outputs": [
    {
     "name": "stdout",
     "output_type": "stream",
     "text": [
      "Quantidade de alunos com mais de 18 anos: 64818\n",
      "Lista com os 5 alunos mais velhos da rede pública do Distrito Federal: \n",
      "(ID_ALUNO, NU_IDADE, TP_SEXO, TP_COR_RACA)\n",
      "('5B062CBFF66FE95F91935BA858F6EBB1', 86, 2, 0)\n",
      "('54FBDE565028C012F5D674D9D61A3DB8', 85, 2, 0)\n",
      "('C05B49A3F05A32BC72F443E9B87FF353', 85, 2, 1)\n",
      "('C05B49A3F05A32BC72F443E9B87FF353', 85, 2, 1)\n",
      "('872F7C1B91F91B613966D67A79F9A7E0', 85, 2, 0)\n"
     ]
    }
   ],
   "source": [
    "try:\n",
    "    conn = msql.connect(host='localhost', database='mydb', user='root', password='root')\n",
    "    if conn.is_connected():\n",
    "        cursor = conn.cursor()\n",
    "        cursor.execute(\"select database();\")\n",
    "        record = cursor.fetchone()\n",
    "\n",
    "        cursor.execute(\"\"\"SELECT ID_ALUNO, NU_IDADE, TP_SEXO, TP_COR_RACA FROM mydb.aluno WHERE NU_IDADE > 18 ORDER BY NU_IDADE DESC\"\"\")\n",
    "        \n",
    "        myresult = cursor.fetchall()\n",
    "        \n",
    "        print(\"Quantidade de alunos com mais de 18 anos: \" + str(len(myresult)))\n",
    "        print(\"Lista com os 5 alunos mais velhos da rede pública do Distrito Federal: \")\n",
    "        \n",
    "        myresult_sliced = myresult[:5]\n",
    "        \n",
    "        print(\"(ID_ALUNO, NU_IDADE, TP_SEXO, TP_COR_RACA)\")\n",
    "        \n",
    "        for x in myresult_sliced:\n",
    "            print(x)   \n",
    "        \n",
    "        # the connection is not auto committed by default, so we must commit to save our changes\n",
    "except Error as e:\n",
    "            print(\"Error while connecting to MySQL\", e)"
   ]
  },
  {
   "cell_type": "markdown",
   "id": "1b9c0546",
   "metadata": {},
   "source": [
    "#### 12) Lista dos alunos do Distrito Federal com menos de 18 anos, ordenado pelo mais jovem:"
   ]
  },
  {
   "cell_type": "code",
   "execution_count": 4,
   "id": "1f35ab77",
   "metadata": {},
   "outputs": [
    {
     "name": "stdout",
     "output_type": "stream",
     "text": [
      "Quantidade de alunos com menos de 18 anos: 626825\n",
      "Lista com os 5 alunos mais jovens da rede pública do Distrito Federal: \n",
      "(ID_ALUNO, NU_IDADE, TP_SEXO, TP_COR_RACA)\n",
      "('CC73694467F35EE268125095D810C0CC', 0, 2, 0)\n",
      "('AD6531FB642E38D1EA52774B34E10920', 0, 2, 0)\n",
      "('0202BA795A5D33DD212B6E1DC17D31BF', 0, 2, 0)\n",
      "('7115FF78B7289746FC9F022CCD3A1F78', 0, 1, 3)\n",
      "('70569456CD7C41D2FA891CC9AAF5C0C9', 1, 2, 1)\n"
     ]
    }
   ],
   "source": [
    "try:\n",
    "    conn = msql.connect(host='localhost', database='mydb', user='root', password='root')\n",
    "    if conn.is_connected():\n",
    "        cursor = conn.cursor()\n",
    "        cursor.execute(\"select database();\")\n",
    "        record = cursor.fetchone()\n",
    "\n",
    "        cursor.execute(\"\"\"SELECT ID_ALUNO, NU_IDADE, TP_SEXO, TP_COR_RACA FROM mydb.aluno WHERE NU_IDADE < 18 ORDER BY NU_IDADE ASC\"\"\")\n",
    "        \n",
    "        myresult = cursor.fetchall()\n",
    "        \n",
    "        print(\"Quantidade de alunos com menos de 18 anos: \" + str(len(myresult)))\n",
    "        print(\"Lista com os 5 alunos mais jovens da rede pública do Distrito Federal: \")\n",
    "        \n",
    "        myresult_sliced = myresult[:5]\n",
    "        \n",
    "        print(\"(ID_ALUNO, NU_IDADE, TP_SEXO, TP_COR_RACA)\")\n",
    "        \n",
    "        for x in myresult_sliced:\n",
    "            print(x)   \n",
    "        \n",
    "        # the connection is not auto committed by default, so we must commit to save our changes\n",
    "except Error as e:\n",
    "            print(\"Error while connecting to MySQL\", e)"
   ]
  },
  {
   "cell_type": "markdown",
   "id": "e47f93b1",
   "metadata": {},
   "source": [
    "#### 13) Lista dos Professores do Distrito Federal com mais de 40 anos, ordenado pelo mais velho:"
   ]
  },
  {
   "cell_type": "code",
   "execution_count": 22,
   "id": "5a013194",
   "metadata": {},
   "outputs": [
    {
     "name": "stdout",
     "output_type": "stream",
     "text": [
      "Quantidade de professores com mais de 40 anos no DF: 72688\n",
      "Lista com os 5 professores mais velhos da rede pública do Distrito Federal: \n",
      "(ID_DOCENTE, NU_IDADE, TP_SEXO, TP_COR_RACA)\n",
      "('620A55967E054357CDF3DC5C570D8F18', 78, 2, 3)\n",
      "('620A55967E054357CDF3DC5C570D8F18', 78, 2, 3)\n",
      "('620A55967E054357CDF3DC5C570D8F18', 78, 2, 3)\n",
      "('620A55967E054357CDF3DC5C570D8F18', 78, 2, 3)\n",
      "('3D8859B35F4A780E675AA0D46064122E', 78, 1, 3)\n"
     ]
    }
   ],
   "source": [
    "try:\n",
    "    conn = msql.connect(host='localhost', database='mydb', user='root', password='root')\n",
    "    if conn.is_connected():\n",
    "        cursor = conn.cursor()\n",
    "        cursor.execute(\"select database();\")\n",
    "        record = cursor.fetchone()\n",
    "\n",
    "        cursor.execute(\"\"\"SELECT ID_DOCENTE, NU_IDADE, TP_SEXO, TP_COR_RACA FROM mydb.docente WHERE NU_IDADE > 40 ORDER BY NU_IDADE DESC\"\"\")\n",
    "        \n",
    "        myresult = cursor.fetchall()\n",
    "        \n",
    "        print(\"Quantidade de professores com MAIS de 40 anos no DF: \" + str(len(myresult)))\n",
    "        print(\"Lista com os 5 professores mais velhos da rede pública do Distrito Federal: \")\n",
    "        \n",
    "        myresult_sliced = myresult[:5]\n",
    "        \n",
    "        print(\"(ID_DOCENTE, NU_IDADE, TP_SEXO, TP_COR_RACA)\")\n",
    "        \n",
    "        for x in myresult_sliced:\n",
    "            print(x)      \n",
    "        \n",
    "        # the connection is not auto committed by default, so we must commit to save our changes\n",
    "except Error as e:\n",
    "            print(\"Error while connecting to MySQL\", e)"
   ]
  },
  {
   "cell_type": "markdown",
   "id": "549545aa",
   "metadata": {},
   "source": [
    "#### 14) Lista dos Professores do Distrito Federal com menos de 40 anos, ordenado pelo mais jovem:"
   ]
  },
  {
   "cell_type": "code",
   "execution_count": 113,
   "id": "d8069ec7",
   "metadata": {},
   "outputs": [
    {
     "name": "stdout",
     "output_type": "stream",
     "text": [
      "Quantidade de professores com MENOS de 40 anos no DF: 73454\n",
      "Lista com os 5 professores mais jovens da rede pública do Distrito Federal: \n",
      "(ID_DOCENTE, NU_IDADE, TP_SEXO, TP_COR_RACA)\n",
      "('3BB0076FF8453AFB9B2E77544DBDA47B', 17, 2, 3)\n",
      "('11C448A363D53A8866D72B7154D0619E', 17, 2, 3)\n",
      "('43FF000167415B3BF977821BB296E5F4', 18, 2, 3)\n",
      "('F4246B3EC63ED2323B7CA097D600D744', 18, 2, 3)\n",
      "('F4246B3EC63ED2323B7CA097D600D744', 18, 2, 3)\n"
     ]
    }
   ],
   "source": [
    "try:\n",
    "    conn = msql.connect(host='localhost', database='mydb', user='root', password='root')\n",
    "    if conn.is_connected():\n",
    "        cursor = conn.cursor()\n",
    "        cursor.execute(\"select database();\")\n",
    "        record = cursor.fetchone()\n",
    "\n",
    "        cursor.execute(\"\"\"SELECT ID_DOCENTE, NU_IDADE, TP_SEXO, TP_COR_RACA FROM mydb.docente WHERE NU_IDADE < 40 ORDER BY NU_IDADE ASC\"\"\")\n",
    "        \n",
    "        myresult = cursor.fetchall()\n",
    "        \n",
    "        print(\"Quantidade de professores com MENOS de 40 anos no DF: \" + str(len(myresult)))\n",
    "        print(\"Lista com os 5 professores mais jovens da rede pública do Distrito Federal: \")\n",
    "        \n",
    "        myresult_sliced = myresult[:5]\n",
    "        \n",
    "        print(\"(ID_DOCENTE, NU_IDADE, TP_SEXO, TP_COR_RACA)\")\n",
    "        \n",
    "        for x in myresult_sliced:\n",
    "            print(x)     \n",
    "        \n",
    "        # the connection is not auto committed by default, so we must commit to save our changes\n",
    "except Error as e:\n",
    "            print(\"Error while connecting to MySQL\", e)"
   ]
  },
  {
   "cell_type": "markdown",
   "id": "62764764",
   "metadata": {},
   "source": [
    "#### 15) Quantidade de professores do Leonardo da Vinci e lista ordenada com os 5 mais velhos:"
   ]
  },
  {
   "cell_type": "code",
   "execution_count": 76,
   "id": "5de7ffa5",
   "metadata": {},
   "outputs": [
    {
     "name": "stdout",
     "output_type": "stream",
     "text": [
      "Quantidade de professores no Leonardo da Vinci: 108\n",
      "Lista com os 5 professores mais velhos da escola Leonardo da Vinci: \n",
      "(ID_DOCENTE, NU_IDADE, TP_SEXO, TP_COR_RACA)\n",
      "('37B754B9337F6B41EA56DAE55C42C751', 65, 2, 0)\n",
      "('30E4CD5D80907F8001766003504C4010', 63, 1, 3)\n",
      "('0D430747EB2CEDF739C56BB5E8EEE933', 59, 1, 0)\n",
      "('54D1555B556849FCB9F0EC0751D71B6F', 56, 2, 0)\n",
      "('917FB4F2182D35316CA5E7C01E70186D', 56, 1, 1)\n"
     ]
    }
   ],
   "source": [
    "try:\n",
    "    conn = msql.connect(host='localhost', database='mydb', user='root', password='root')\n",
    "    if conn.is_connected():\n",
    "        cursor = conn.cursor()\n",
    "        cursor.execute(\"select database();\")\n",
    "        record = cursor.fetchone()\n",
    "\n",
    "        cursor.execute(\"\"\"SELECT DISTINCT ID_DOCENTE, NU_IDADE, TP_SEXO, TP_COR_RACA FROM mydb.docente docente \n",
    "        JOIN mydb.docente_has_escola ats ON docente.idDocente = ats.docente_idDocente WHERE \n",
    "        ats.escola_CO_ENTIDADE = '53001087' ORDER BY NU_IDADE DESC\"\"\")\n",
    "        \n",
    "        myresult = cursor.fetchall()\n",
    "        \n",
    "        print(\"Quantidade de professores no Leonardo da Vinci: \" + str(len(myresult)))\n",
    "        print(\"Lista com os 5 professores mais velhos da escola Leonardo da Vinci: \")\n",
    "        \n",
    "        myresult_sliced = myresult[:5]\n",
    "        \n",
    "        print(\"(ID_DOCENTE, NU_IDADE, TP_SEXO, TP_COR_RACA)\")\n",
    "        \n",
    "        for x in myresult_sliced:\n",
    "            print(x)   \n",
    "        \n",
    "except Error as e:\n",
    "            print(\"Error while connecting to MySQL\", e)"
   ]
  },
  {
   "cell_type": "markdown",
   "id": "3a44397d",
   "metadata": {},
   "source": [
    "#### 16) Quantidade de professores da Escola das Nações e lista ordenada com os 5 mais jovens:"
   ]
  },
  {
   "cell_type": "code",
   "execution_count": 78,
   "id": "372f22b7",
   "metadata": {},
   "outputs": [
    {
     "name": "stdout",
     "output_type": "stream",
     "text": [
      "Quantidade de professores na Escola das Nações: 66\n",
      "Lista com os 5 professores mais novos da escola Escola das Nações: \n",
      "(ID_DOCENTE, NU_IDADE, TP_SEXO, TP_COR_RACA)\n",
      "('1D668089D8944873BA38E652DA52A308', 26, 1, 0)\n",
      "('A0A02C991557C705AA02CDB5193B205D', 26, 2, 1)\n",
      "('43BF4DB881B59713EEB67D6F8EE29401', 26, 2, 0)\n",
      "('91D45F5B8D30E58CAF0CB8D58A271E1C', 28, 2, 0)\n",
      "('DD7868FD1DC2FBBFA395B114F276F47B', 28, 1, 3)\n"
     ]
    }
   ],
   "source": [
    "try:\n",
    "    conn = msql.connect(host='localhost', database='mydb', user='root', password='root')\n",
    "    if conn.is_connected():\n",
    "        cursor = conn.cursor()\n",
    "        cursor.execute(\"select database();\")\n",
    "        record = cursor.fetchone()\n",
    "\n",
    "        cursor.execute(\"\"\"SELECT DISTINCT ID_DOCENTE, NU_IDADE, TP_SEXO, TP_COR_RACA FROM mydb.docente docente \n",
    "        JOIN mydb.docente_has_escola ats ON docente.idDocente = ats.docente_idDocente WHERE \n",
    "        ats.escola_CO_ENTIDADE = '53009541' ORDER BY NU_IDADE ASC\"\"\")\n",
    "        \n",
    "        myresult = cursor.fetchall()\n",
    "        \n",
    "        print(\"Quantidade de professores na Escola das Nações: \" + str(len(myresult)))\n",
    "        print(\"Lista com os 5 professores mais novos da escola Escola das Nações: \")\n",
    "        \n",
    "        myresult_sliced = myresult[:5]\n",
    "        \n",
    "        print(\"(ID_DOCENTE, NU_IDADE, TP_SEXO, TP_COR_RACA)\")\n",
    "        \n",
    "        for x in myresult_sliced:\n",
    "             print(x)\n",
    "        \n",
    "except Error as e:\n",
    "            print(\"Error while connecting to MySQL\", e)"
   ]
  },
  {
   "cell_type": "markdown",
   "id": "0b1d44fc",
   "metadata": {},
   "source": [
    "#### 17) Professor com a maior quantidade de turmas do DF e escolas onde o mesmo trabalha:"
   ]
  },
  {
   "cell_type": "code",
   "execution_count": 105,
   "id": "b195603e",
   "metadata": {},
   "outputs": [],
   "source": [
    "try:\n",
    "    conn = msql.connect(host='localhost', database='mydb', user='root', password='root')\n",
    "    if conn.is_connected():\n",
    "        cursor = conn.cursor()\n",
    "        cursor.execute(\"select database();\")\n",
    "        record = cursor.fetchone()\n",
    "\n",
    "        cursor.execute(\"\"\"select *, count(*) as c FROM mydb.docente GROUP BY ID_DOCENTE ORDER BY c DESC\"\"\")\n",
    "        \n",
    "        myresult = cursor.fetchone()\n",
    "        qtdDeTurmas = myresult[-1]\n",
    "        ID_DOCENTE = myresult[1]\n",
    "        idade = myresult[4]\n",
    "        sexo = myresult[5]\n",
    "          \n",
    "        # the connection is not auto committed by default, so we must commit to save our changes\n",
    "except Error as e:\n",
    "            print(\"Error while connecting to MySQL\", e)"
   ]
  },
  {
   "cell_type": "code",
   "execution_count": 106,
   "id": "d462187a",
   "metadata": {},
   "outputs": [],
   "source": [
    "try:\n",
    "    conn = msql.connect(host='localhost', database='mydb', user='root', password='root')\n",
    "    if conn.is_connected():\n",
    "        cursor = conn.cursor()\n",
    "        cursor.execute(\"select database();\")\n",
    "        record = cursor.fetchone()\n",
    "      \n",
    "        cursor.execute(\"\"\"SELECT idDocente FROM mydb.docente WHERE ID_DOCENTE = '\"\"\" + ID_DOCENTE + \"\"\"'\"\"\")\n",
    "        \n",
    "        myresult = cursor.fetchall()\n",
    "        \n",
    "        ids = []\n",
    "        \n",
    "        for element in myresult:\n",
    "            ids.append(str(element[0]))        \n",
    "        # the connection is not auto committed by default, so we must commit to save our changes\n",
    "except Error as e:\n",
    "            print(\"Error while connecting to MySQL\", e)"
   ]
  },
  {
   "cell_type": "code",
   "execution_count": 107,
   "id": "a89212eb",
   "metadata": {},
   "outputs": [],
   "source": [
    "escolas = []\n",
    "for element in ids:\n",
    "    try:\n",
    "        conn = msql.connect(host='localhost', database='mydb', user='root', password='root')\n",
    "        if conn.is_connected():\n",
    "            cursor = conn.cursor()\n",
    "            cursor.execute(\"select database();\")\n",
    "            record = cursor.fetchone()\n",
    "\n",
    "            cursor.execute(\"\"\"SELECT escola_CO_ENTIDADE FROM mydb.escola JOIN mydb.docente_has_escola \n",
    "            ats WHERE ats.docente_idDocente = '\"\"\" + element + \"\"\"'\"\"\")\n",
    "            myresult = cursor.fetchone()\n",
    "            \n",
    "            escolas.append(myresult[0])\n",
    "            # the connection is not auto committed by default, so we must commit to save our changes\n",
    "    except Error as e:\n",
    "                print(\"Error while connecting to MySQL\", e)"
   ]
  },
  {
   "cell_type": "markdown",
   "id": "b331d19a",
   "metadata": {},
   "source": [
    "#### 17) Professor com a maior quantidade de turmas do DF e escolas onde o mesmo trabalha:"
   ]
  },
  {
   "cell_type": "code",
   "execution_count": 108,
   "id": "6c1092b9",
   "metadata": {},
   "outputs": [
    {
     "name": "stdout",
     "output_type": "stream",
     "text": [
      "Quem é o professor com a maior quantidade de turmas no Distrito Federal: \n",
      "ID: CF7150E2A634CD8D5563D998020DAF62\n",
      "IDADE: 29\n",
      "SEXO: MASCULINO\n",
      "QUANTIDADE DE TURMAS: 57\n",
      "ESCOLAS ONDE ELE OU ELA TRABALHA: \n",
      "- COL OBJETIVO DF - UNIDADE VI\n",
      "- COL OBJETIVO DF - UNIDADE III\n",
      "- COL OBJETIVO DF - UNIDADE V\n",
      "- COL OBJETIVO DF - UNIDADE II\n",
      "- COL OBJETIVO DF - UNIDADE VII\n"
     ]
    }
   ],
   "source": [
    "escolas = set(escolas)\n",
    "\n",
    "print(\"Quem é o professor com a maior quantidade de turmas no Distrito Federal: \")\n",
    "                \n",
    "print(\"ID: \" + str(ID_DOCENTE))\n",
    "print(\"IDADE: \" + str(idade))\n",
    "if sexo == 1:\n",
    "    print(\"SEXO: MASCULINO\")\n",
    "if sexo == 2:\n",
    "    print(\"SEXO: FEMININO\")\n",
    "print(\"QUANTIDADE DE TURMAS: \" + str(qtdDeTurmas))\n",
    "print(\"ESCOLAS ONDE ELE OU ELA TRABALHA: \")\n",
    "    \n",
    "for escola in escolas:\n",
    "    try:\n",
    "        conn = msql.connect(host='localhost', database='mydb', user='root', password='root')\n",
    "        if conn.is_connected():\n",
    "            cursor = conn.cursor()\n",
    "            cursor.execute(\"select database();\")\n",
    "            record = cursor.fetchone()\n",
    "\n",
    "            cursor.execute(\"\"\"SELECT NO_ENTIDADE FROM mydb.escola WHERE CO_ENTIDADE = '\"\"\" + str(escola) + \"\"\"'\"\"\")\n",
    "            myresult = cursor.fetchone()\n",
    "\n",
    "            print(\"- \" + myresult[0])\n",
    "\n",
    "    except Error as e:\n",
    "                    print(\"Error while connecting to MySQL\", e)"
   ]
  },
  {
   "cell_type": "markdown",
   "id": "5214475e",
   "metadata": {},
   "source": [
    "#### 17) Professor com a menor quantidade de turmas do DF e escolas onde o mesmo trabalha:"
   ]
  },
  {
   "cell_type": "code",
   "execution_count": 109,
   "id": "92246f05",
   "metadata": {},
   "outputs": [],
   "source": [
    "try:\n",
    "    conn = msql.connect(host='localhost', database='mydb', user='root', password='root')\n",
    "    if conn.is_connected():\n",
    "        cursor = conn.cursor()\n",
    "        cursor.execute(\"select database();\")\n",
    "        record = cursor.fetchone()\n",
    "\n",
    "        cursor.execute(\"\"\"select *, count(*) as c FROM mydb.docente GROUP BY ID_DOCENTE ORDER BY c ASC\"\"\")\n",
    "        \n",
    "        myresult = cursor.fetchone()\n",
    "        qtdDeTurmas = myresult[-1]\n",
    "        ID_DOCENTE = myresult[1]\n",
    "        idade = myresult[4]\n",
    "        sexo = myresult[5]\n",
    "                  \n",
    "        # the connection is not auto committed by default, so we must commit to save our changes\n",
    "except Error as e:\n",
    "            print(\"Error while connecting to MySQL\", e)"
   ]
  },
  {
   "cell_type": "code",
   "execution_count": 110,
   "id": "1fed0e23",
   "metadata": {},
   "outputs": [],
   "source": [
    "try:\n",
    "    conn = msql.connect(host='localhost', database='mydb', user='root', password='root')\n",
    "    if conn.is_connected():\n",
    "        cursor = conn.cursor()\n",
    "        cursor.execute(\"select database();\")\n",
    "        record = cursor.fetchone()\n",
    "      \n",
    "        cursor.execute(\"\"\"SELECT idDocente FROM mydb.docente WHERE ID_DOCENTE = '\"\"\" + ID_DOCENTE + \"\"\"'\"\"\")\n",
    "        \n",
    "        myresult = cursor.fetchall()\n",
    "        \n",
    "        ids = []\n",
    "        \n",
    "        for element in myresult:\n",
    "            ids.append(str(element[0]))        \n",
    "        # the connection is not auto committed by default, so we must commit to save our changes\n",
    "except Error as e:\n",
    "            print(\"Error while connecting to MySQL\", e)"
   ]
  },
  {
   "cell_type": "code",
   "execution_count": 111,
   "id": "65130420",
   "metadata": {},
   "outputs": [],
   "source": [
    "escolas = []\n",
    "for element in ids:\n",
    "    try:\n",
    "        conn = msql.connect(host='localhost', database='mydb', user='root', password='root')\n",
    "        if conn.is_connected():\n",
    "            cursor = conn.cursor()\n",
    "            cursor.execute(\"select database();\")\n",
    "            record = cursor.fetchone()\n",
    "\n",
    "\n",
    "            #cursor.execute(\"\"\"SELECT escola_CO_ENTIDADE FROM mydb.escola JOIN mydb.docente_has_escola ats WHERE ats.docente_idDocente = '121584'\"\"\")\n",
    "            cursor.execute(\"\"\"SELECT escola_CO_ENTIDADE FROM mydb.escola JOIN mydb.docente_has_escola ats WHERE ats.docente_idDocente = '\"\"\" + element + \"\"\"'\"\"\")\n",
    "            myresult = cursor.fetchone()\n",
    "            \n",
    "            escolas.append(myresult[0])\n",
    "            # the connection is not auto committed by default, so we must commit to save our changes\n",
    "    except Error as e:\n",
    "                print(\"Error while connecting to MySQL\", e)"
   ]
  },
  {
   "cell_type": "markdown",
   "id": "20f3084d",
   "metadata": {},
   "source": [
    "#### 17) Professor com a menor quantidade de turmas do DF e escolas onde o mesmo trabalha:"
   ]
  },
  {
   "cell_type": "code",
   "execution_count": 112,
   "id": "c59e7952",
   "metadata": {},
   "outputs": [
    {
     "name": "stdout",
     "output_type": "stream",
     "text": [
      "Quem é o professor com a maior quantidade de turmas no Distrito Federal: \n",
      "ID: F6BF550E658CFAB20D429148C044BBE9\n",
      "IDADE: 40\n",
      "SEXO: FEMININO\n",
      "QUANTIDADE DE TURMAS: 1\n",
      "ESCOLAS ONDE ELE OU ELA TRABALHA: \n",
      "- EC 38 DE CEILANDIA\n"
     ]
    }
   ],
   "source": [
    "escolas = set(escolas)\n",
    "\n",
    "print(\"Quem é o professor com a maior quantidade de turmas no Distrito Federal: \")\n",
    "                \n",
    "print(\"ID: \" + str(ID_DOCENTE))\n",
    "print(\"IDADE: \" + str(idade))\n",
    "if sexo == 1:\n",
    "    print(\"SEXO: MASCULINO\")\n",
    "if sexo == 2:\n",
    "    print(\"SEXO: FEMININO\")\n",
    "print(\"QUANTIDADE DE TURMAS: \" + str(qtdDeTurmas))\n",
    "print(\"ESCOLAS ONDE ELE OU ELA TRABALHA: \")\n",
    "    \n",
    "for escola in escolas:\n",
    "    try:\n",
    "        conn = msql.connect(host='localhost', database='mydb', user='root', password='root')\n",
    "        if conn.is_connected():\n",
    "            cursor = conn.cursor()\n",
    "            cursor.execute(\"select database();\")\n",
    "            record = cursor.fetchone()\n",
    "\n",
    "            cursor.execute(\"\"\"SELECT NO_ENTIDADE FROM mydb.escola WHERE CO_ENTIDADE = '\"\"\" + str(escola) + \"\"\"'\"\"\")\n",
    "            myresult = cursor.fetchone()\n",
    "\n",
    "            print(\"- \" + myresult[0])\n",
    "    #         print(\"Quem é o professor com a maior quantidade de turmas no Distrito Federal: \")\n",
    "\n",
    "    #         print(\"ID: \" + str(x[0]))\n",
    "    #         print(\"ID: \" + str(x[1]))\n",
    "    #         print(\"IDADE: \" + str(x[4]))\n",
    "    #         print(\"SEXO (1 - MASCULINO; 2 - FEMININO): \" + str(x[5]))\n",
    "    #         print(\"QUANTIDADE DE TURMAS: \" + str(x[-1]))\n",
    "\n",
    "    except Error as e:\n",
    "                    print(\"Error while connecting to MySQL\", e)"
   ]
  },
  {
   "cell_type": "code",
   "execution_count": null,
   "id": "5a8177f2",
   "metadata": {},
   "outputs": [],
   "source": []
  }
 ],
 "metadata": {
  "kernelspec": {
   "display_name": "Python 3",
   "language": "python",
   "name": "python3"
  },
  "language_info": {
   "codemirror_mode": {
    "name": "ipython",
    "version": 3
   },
   "file_extension": ".py",
   "mimetype": "text/x-python",
   "name": "python",
   "nbconvert_exporter": "python",
   "pygments_lexer": "ipython3",
   "version": "3.8.8"
  }
 },
 "nbformat": 4,
 "nbformat_minor": 5
}
