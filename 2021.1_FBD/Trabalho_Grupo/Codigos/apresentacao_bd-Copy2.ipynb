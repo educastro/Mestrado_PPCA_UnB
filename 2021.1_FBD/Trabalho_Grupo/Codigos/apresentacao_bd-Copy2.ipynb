{
 "cells": [
  {
   "cell_type": "markdown",
   "id": "5671d23c",
   "metadata": {
    "slideshow": {
     "slide_type": "slide"
    }
   },
   "source": [
    "##### Trabalho  Fundamento de Banco de Dados\n",
    "## Dados do INEP: Impacto da Pandemia de COVID-19 no Ensino Superior Brasileiro\n",
    "\n",
    "### Arthur Temporim\n",
    "### Eduardo Castro"
   ]
  },
  {
   "cell_type": "markdown",
   "id": "2111f3a7",
   "metadata": {
    "slideshow": {
     "slide_type": "slide"
    }
   },
   "source": [
    "## Contextualização\n",
    "### [Enem 2021: número de pretos, pardos e indígenas inscritos cai mais de 50%](https://g1.globo.com/educacao/enem/2021/noticia/2021/08/27/enem-2021-cai-negros-pardos-indigenas-inscritos.ghtml)\n",
    "\n",
    "<img src=\"imagens/noticia.png\">"
   ]
  },
  {
   "cell_type": "markdown",
   "id": "aa042743",
   "metadata": {
    "slideshow": {
     "slide_type": "slide"
    }
   },
   "source": [
    "## Problema\n",
    "### Qual o Impacto da pandemia no ingresso de novos alunos de curso superior?\n",
    "### É possível verificar este possível impacto com os dados fornecidos atualmente?\n",
    "### Quais são os dados que devem ser extraídos para verificar um possível impacto?"
   ]
  },
  {
   "cell_type": "markdown",
   "id": "da16a202",
   "metadata": {
    "slideshow": {
     "slide_type": "slide"
    }
   },
   "source": [
    "## Processo ETL (Extract, Transform, Load)\n",
    "### Extract\n",
    "1. Os dados foram baixados na portal de dados abertos nos seguintes links:\n",
    "  1. [Censo da Educação Superior](https://www.gov.br/inep/pt-br/acesso-a-informacao/dados-abertos/microdados/censo-da-educacao-superior)\n",
    "  1. [Microdados](https://www.gov.br/inep/pt-br/acesso-a-informacao/dados-abertos/microdados)\n",
    "1. Os arquivos em formato zip foram baixados, armazenados e descompactados\n",
    "1. Um estudo sobre os atributos e os dados foi feito e as informações relevantes para o projeto foram levantadas\n",
    "1. O Dicionário de dados foi muito relevante para este processo:"
   ]
  },
  {
   "cell_type": "markdown",
   "id": "9fc7733c",
   "metadata": {
    "slideshow": {
     "slide_type": "subslide"
    }
   },
   "source": [
    "<img src=\"imagens/dicionario.png\">"
   ]
  },
  {
   "cell_type": "markdown",
   "id": "1c1bb830",
   "metadata": {
    "slideshow": {
     "slide_type": "slide"
    }
   },
   "source": [
    "## Transform\n",
    "1. Experimentações com os dados foram feitas utilizando jupyter-notebooks\n",
    "1. A criação de arquivos no formato `csv` foi feita como arquivos intermediários para a inserção dos dados no banco\n",
    "1. Com uma melhor compreensão dos dados, iniciamos a modelagem\n",
    "1. A cada investigação a modelagem foi refinada até chegar no estado final\n",
    "1. Todos as colunas das tabelas foram configuradas de acordo com o dicionário de dados"
   ]
  },
  {
   "cell_type": "markdown",
   "id": "ed73f6dc",
   "metadata": {
    "slideshow": {
     "slide_type": "slide"
    }
   },
   "source": [
    "## Modelo de Dados Relacional\n",
    "<img src=\"imagens/modelo.png\">"
   ]
  },
  {
   "cell_type": "markdown",
   "id": "5862213c",
   "metadata": {
    "slideshow": {
     "slide_type": "slide"
    }
   },
   "source": [
    "## Load\n",
    "1. O Processo de carregar os dados foi feito utilizando a liguagem python e os arquivos `csv` criados anteriormente\n",
    "1. Um subset contendo apenas dados do Distrito Federal foi feito por questões de limitação de recursos computacionais\n",
    "1. A configuração do Banco de Dados foi feita utilizando a ferramenta case `MySQL WorkBench`\n",
    "1. O banco de dados foi modelado e criado com o auxílio da ferramenta"
   ]
  },
  {
   "cell_type": "markdown",
   "id": "c568cb17",
   "metadata": {
    "slideshow": {
     "slide_type": "slide"
    }
   },
   "source": [
    "## Script SQL\n",
    "\n",
    "```sql\n",
    "-- MySQL Workbench Forward Engineering\n",
    "\n",
    "SET @OLD_UNIQUE_CHECKS=@@UNIQUE_CHECKS, UNIQUE_CHECKS=0;\n",
    "SET @OLD_FOREIGN_KEY_CHECKS=@@FOREIGN_KEY_CHECKS, FOREIGN_KEY_CHECKS=0;\n",
    "SET @OLD_SQL_MODE=@@SQL_MODE, SQL_MODE='ONLY_FULL_GROUP_BY,STRICT_TRANS_TABLES,NO_ZERO_IN_DATE,NO_ZERO_DATE,ERROR_FOR_DIVISION_BY_ZERO,NO_ENGINE_SUBSTITUTION';\n",
    "\n",
    "-- -----------------------------------------------------\n",
    "-- Schema mydb\n",
    "-- -----------------------------------------------------\n",
    "\n",
    "-- -----------------------------------------------------\n",
    "-- Schema mydb\n",
    "-- -----------------------------------------------------\n",
    "CREATE SCHEMA IF NOT EXISTS `mydb` ;\n",
    "USE `mydb` ;\n",
    "\n",
    "-- -----------------------------------------------------\n",
    "-- Table `mydb`.`aluno`\n",
    "-- -----------------------------------------------------\n",
    "CREATE TABLE IF NOT EXISTS `mydb`.`aluno` (\n",
    "  `idaluno` INT NOT NULL AUTO_INCREMENT,\n",
    "  `ID_ALUNO` VARCHAR(32) NOT NULL,\n",
    "  `CO_ALUNO_CURSO` INT(8) NOT NULL,\n",
    "  `TP_COR_RACA` INT(1) NOT NULL,\n",
    "  `TP_SEXO` INT(1) NOT NULL,\n",
    "  `NU_ANO_NASCIMENTO` INT(4) NOT NULL,\n",
    "  `NU_MES_NASCIMENTO` INT(2) NOT NULL,\n",
    "  `NU_DIA_NASCIMENTO` INT(2) NOT NULL,\n",
    "  `IN_DEFICIENCIA` INT(1) NOT NULL,\n",
    "  `IN_CONCLUINTE` INT(1) NOT NULL,\n",
    "  `TP_ESCOLA_CONCLUSAO_ENS_MEDIO` INT(1) NOT NULL,\n",
    "  `NU_ANO_INGRESSO` INT(1) NOT NULL,\n",
    "  `TP_NACIONALIDADE` INT(1) NULL,\n",
    "  `CO_UF_NASCIMENTO` INT(2) NULL,\n",
    "  `NU_IDADE` INT(3) NULL,\n",
    "  `TP_SITUACAO` INT(1) NULL,\n",
    "  `IN_INGRESSO_VESTIBULAR` INT(1) NULL,\n",
    "  `IN_INGRESSO_ENEM` INT(1) NULL,\n",
    "  `IN_INGRESSO_AVALIACAO_SERIADA` INT(1) NULL,\n",
    "  `IN_APOIO_SOCIAL` INT(1) NULL,\n",
    "  `TP_SEMESTRE_CONCLUSAO` INT(1) NULL,\n",
    "  `TP_SEMESTRE_REFERENCIA` INT(1) NULL,\n",
    "  `IN_MATRICULA` INT(1) NULL,\n",
    "  PRIMARY KEY (`idaluno`))\n",
    "ENGINE = InnoDB\n",
    "COMMENT = '\\n';\n",
    "\n",
    "\n",
    "-- -----------------------------------------------------\n",
    "-- Table `mydb`.`instituicao_ensino_superior`\n",
    "-- -----------------------------------------------------\n",
    "CREATE TABLE IF NOT EXISTS `mydb`.`instituicao_ensino_superior` (\n",
    "  `CO_IES` INT(8) NOT NULL,\n",
    "  `TP_CATEGORIA_ADMINISTRATIVA` INT(1) NULL,\n",
    "  `TP_ORGANIZACAO_ACADEMICA` INT(1) NULL,\n",
    "  `CO_UF` INT(2) NULL,\n",
    "  `CO_DOCENTE_IES` INT(13) NULL,\n",
    "  `NO_IES` VARCHAR(200) NULL,\n",
    "  `SG_IES` VARCHAR(20) NULL,\n",
    "  PRIMARY KEY (`CO_IES`))\n",
    "ENGINE = InnoDB;\n",
    "\n",
    "\n",
    "-- -----------------------------------------------------\n",
    "-- Table `mydb`.`curso`\n",
    "-- -----------------------------------------------------\n",
    "CREATE TABLE IF NOT EXISTS `mydb`.`curso` (\n",
    "  `CO_CURSO` INT(8) NOT NULL,\n",
    "  `NO_CURSO` VARCHAR(200) NOT NULL,\n",
    "  `CO_LOCAL_OFERTA` INT(8) NULL,\n",
    "  `CO_UF` INT(2) NULL,\n",
    "  `IN_CAPITAL` INT(1) NULL,\n",
    "  `TP_SITUACAO` INT(1) NULL,\n",
    "  `TP_GRAU_ACADEMICO` INT(1) NULL,\n",
    "  `instituicao_ensino_superior_CO_IES` INT(8) NOT NULL,\n",
    "  PRIMARY KEY (`CO_CURSO`, `instituicao_ensino_superior_CO_IES`),\n",
    "  INDEX `fk_curso_instituicao_ensino_superior1_idx` (`instituicao_ensino_superior_CO_IES` ASC) VISIBLE,\n",
    "  CONSTRAINT `fk_curso_instituicao_ensino_superior1`\n",
    "    FOREIGN KEY (`instituicao_ensino_superior_CO_IES`)\n",
    "    REFERENCES `mydb`.`instituicao_ensino_superior` (`CO_IES`)\n",
    "    ON DELETE NO ACTION\n",
    "    ON UPDATE NO ACTION)\n",
    "ENGINE = InnoDB;\n",
    "\n",
    "\n",
    "-- -----------------------------------------------------\n",
    "-- Table `mydb`.`atividade_extra_curricular`\n",
    "-- -----------------------------------------------------\n",
    "CREATE TABLE IF NOT EXISTS `mydb`.`atividade_extra_curricular` (\n",
    "  `idatividade_extra_curricular` INT NOT NULL AUTO_INCREMENT,\n",
    "  `IN_COMPLEMENTAR_ESTAGIO` INT(1) NULL,\n",
    "  `IN_COMPLEMENTAR_EXTENSAO` INT(1) NULL,\n",
    "  `IN_COMPLEMENTAR_MONITORIA` INT(1) NULL,\n",
    "  `IN_COMPLEMENTAR_PESQUISA` INT(1) NULL,\n",
    "  `IN_BOLSA_PESQUISA` INT(1) NULL,\n",
    "  `IN_BOLSA_MONITORIA` INT(1) NULL,\n",
    "  `IN_BOLSA_EXTENSAO` INT(1) NULL,\n",
    "  PRIMARY KEY (`idatividade_extra_curricular`))\n",
    "ENGINE = InnoDB;\n",
    "\n",
    "\n",
    "-- -----------------------------------------------------\n",
    "-- Table `mydb`.`docente`\n",
    "-- -----------------------------------------------------\n",
    "CREATE TABLE IF NOT EXISTS `mydb`.`docente` (\n",
    "  `iddocente` INT NOT NULL AUTO_INCREMENT,\n",
    "  `ID_DOCENTE` VARCHAR(32) NOT NULL,\n",
    "  `TP_SITUACAO` INT(1) NOT NULL,\n",
    "  `TP_ESCOLARIDADE` INT(1) NULL,\n",
    "  `TP_REGIME_TRABALHO` INT(1) NULL,\n",
    "  `TP_SEXO` INT(1) NULL,\n",
    "  `NU_ANO_NASCIMENTO` INT(4) NULL,\n",
    "  `NU_MES_NASCIMENTO` INT(2) NULL,\n",
    "  `NU_DIA_NASCIMENTO` INT(2) NULL,\n",
    "  `NU_IDADE` INT(3) NULL,\n",
    "  `TP_COR_RACA` INT(1) NULL,\n",
    "  `CO_PAIS_ORIGEM` INT(8) NULL,\n",
    "  `TP_NACIONALIDADE` INT(1) NULL,\n",
    "  PRIMARY KEY (`iddocente`))\n",
    "ENGINE = InnoDB;\n",
    "\n",
    "\n",
    "-- -----------------------------------------------------\n",
    "-- Table `mydb`.`atividade_extra_curricular_has_aluno`\n",
    "-- -----------------------------------------------------\n",
    "CREATE TABLE IF NOT EXISTS `mydb`.`atividade_extra_curricular_has_aluno` (\n",
    "  `atividade_extra_curricular_idatividade_extra_curricular` INT NOT NULL,\n",
    "  `aluno_idaluno` INT NOT NULL,\n",
    "  PRIMARY KEY (`atividade_extra_curricular_idatividade_extra_curricular`, `aluno_idaluno`),\n",
    "  INDEX `fk_atividade_extra_curricular_has_aluno_aluno1_idx` (`aluno_idaluno` ASC) VISIBLE,\n",
    "  INDEX `fk_atividade_extra_curricular_has_aluno_atividade_extra_cur_idx` (`atividade_extra_curricular_idatividade_extra_curricular` ASC) VISIBLE,\n",
    "  CONSTRAINT `fk_atividade_extra_curricular_has_aluno_atividade_extra_curri1`\n",
    "    FOREIGN KEY (`atividade_extra_curricular_idatividade_extra_curricular`)\n",
    "    REFERENCES `mydb`.`atividade_extra_curricular` (`idatividade_extra_curricular`)\n",
    "    ON DELETE NO ACTION\n",
    "    ON UPDATE NO ACTION,\n",
    "  CONSTRAINT `fk_atividade_extra_curricular_has_aluno_aluno1`\n",
    "    FOREIGN KEY (`aluno_idaluno`)\n",
    "    REFERENCES `mydb`.`aluno` (`idaluno`)\n",
    "    ON DELETE NO ACTION\n",
    "    ON UPDATE NO ACTION)\n",
    "ENGINE = InnoDB;\n",
    "\n",
    "\n",
    "-- -----------------------------------------------------\n",
    "-- Table `mydb`.`docente_has_instituicao_ensino_superior`\n",
    "-- -----------------------------------------------------\n",
    "CREATE TABLE IF NOT EXISTS `mydb`.`docente_has_instituicao_ensino_superior` (\n",
    "  `docente_iddocente` INT NOT NULL,\n",
    "  `instituicao_ensino_superior_CO_IES` INT(8) NOT NULL,\n",
    "  PRIMARY KEY (`docente_iddocente`, `instituicao_ensino_superior_CO_IES`),\n",
    "  INDEX `fk_docente_has_instituicao_ensino_superior_instituicao_ensi_idx` (`instituicao_ensino_superior_CO_IES` ASC) VISIBLE,\n",
    "  INDEX `fk_docente_has_instituicao_ensino_superior_docente1_idx` (`docente_iddocente` ASC) VISIBLE,\n",
    "  CONSTRAINT `fk_docente_has_instituicao_ensino_superior_docente1`\n",
    "    FOREIGN KEY (`docente_iddocente`)\n",
    "    REFERENCES `mydb`.`docente` (`iddocente`)\n",
    "    ON DELETE NO ACTION\n",
    "    ON UPDATE NO ACTION,\n",
    "  CONSTRAINT `fk_docente_has_instituicao_ensino_superior_instituicao_ensino1`\n",
    "    FOREIGN KEY (`instituicao_ensino_superior_CO_IES`)\n",
    "    REFERENCES `mydb`.`instituicao_ensino_superior` (`CO_IES`)\n",
    "    ON DELETE NO ACTION\n",
    "    ON UPDATE NO ACTION)\n",
    "ENGINE = InnoDB;\n",
    "\n",
    "\n",
    "-- -----------------------------------------------------\n",
    "-- Table `mydb`.`aluno_has_curso`\n",
    "-- -----------------------------------------------------\n",
    "CREATE TABLE IF NOT EXISTS `mydb`.`aluno_has_curso` (\n",
    "  `aluno_idaluno` INT NOT NULL,\n",
    "  `curso_CO_CURSO` INT(8) NOT NULL,\n",
    "  `curso_instituicao_ensino_superior_CO_IES` INT(8) NOT NULL,\n",
    "  PRIMARY KEY (`aluno_idaluno`, `curso_CO_CURSO`, `curso_instituicao_ensino_superior_CO_IES`),\n",
    "  INDEX `fk_aluno_has_curso_curso1_idx` (`curso_CO_CURSO` ASC, `curso_instituicao_ensino_superior_CO_IES` ASC) VISIBLE,\n",
    "  INDEX `fk_aluno_has_curso_aluno1_idx` (`aluno_idaluno` ASC) VISIBLE,\n",
    "  CONSTRAINT `fk_aluno_has_curso_aluno1`\n",
    "    FOREIGN KEY (`aluno_idaluno`)\n",
    "    REFERENCES `mydb`.`aluno` (`idaluno`)\n",
    "    ON DELETE NO ACTION\n",
    "    ON UPDATE NO ACTION,\n",
    "  CONSTRAINT `fk_aluno_has_curso_curso1`\n",
    "    FOREIGN KEY (`curso_CO_CURSO` , `curso_instituicao_ensino_superior_CO_IES`)\n",
    "    REFERENCES `mydb`.`curso` (`CO_CURSO` , `instituicao_ensino_superior_CO_IES`)\n",
    "    ON DELETE NO ACTION\n",
    "    ON UPDATE NO ACTION)\n",
    "ENGINE = InnoDB;\n",
    "\n",
    "USE `mydb` ;\n",
    "\n",
    "-- -----------------------------------------------------\n",
    "-- Placeholder table for view `mydb`.`alunos_ppi`\n",
    "-- -----------------------------------------------------\n",
    "CREATE TABLE IF NOT EXISTS `mydb`.`alunos_ppi` (`idaluno` INT, `ID_ALUNO` INT, `CO_ALUNO_CURSO` INT, `TP_COR_RACA` INT, `TP_SEXO` INT, `NU_ANO_NASCIMENTO` INT, `NU_MES_NASCIMENTO` INT, `NU_DIA_NASCIMENTO` INT, `IN_DEFICIENCIA` INT, `IN_CONCLUINTE` INT, `TP_ESCOLA_CONCLUSAO_ENS_MEDIO` INT, `NU_ANO_INGRESSO` INT, `TP_NACIONALIDADE` INT, `CO_UF_NASCIMENTO` INT, `NU_IDADE` INT, `TP_SITUACAO` INT, `IN_INGRESSO_VESTIBULAR` INT, `IN_INGRESSO_ENEM` INT, `IN_INGRESSO_AVALIACAO_SERIADA` INT, `IN_APOIO_SOCIAL` INT, `TP_SEMESTRE_CONCLUSAO` INT, `TP_SEMESTRE_REFERENCIA` INT, `IN_MATRICULA` INT);\n",
    "\n",
    "-- -----------------------------------------------------\n",
    "-- View `mydb`.`alunos_ppi`\n",
    "-- -----------------------------------------------------\n",
    "DROP TABLE IF EXISTS `mydb`.`alunos_ppi`;\n",
    "USE `mydb`;\n",
    "CREATE  OR REPLACE VIEW alunos_ppi AS SELECT * FROM aluno WHERE TP_COR_RACA BETWEEN 2 AND 3;\n",
    "\n",
    "SET SQL_MODE=@OLD_SQL_MODE;\n",
    "SET FOREIGN_KEY_CHECKS=@OLD_FOREIGN_KEY_CHECKS;\n",
    "SET UNIQUE_CHECKS=@OLD_UNIQUE_CHECKS;\n",
    "```"
   ]
  },
  {
   "cell_type": "markdown",
   "id": "5ddb0547",
   "metadata": {
    "slideshow": {
     "slide_type": "slide"
    }
   },
   "source": [
    "## View\n",
    "```sql\n",
    "-- -----------------------------------------------------\n",
    "-- View `mydb`.`alunos_ppi`\n",
    "-- -----------------------------------------------------\n",
    "DROP TABLE IF EXISTS `mydb`.`alunos_ppi`;\n",
    "USE `mydb`;\n",
    "CREATE  OR REPLACE VIEW alunos_ppi AS SELECT * FROM aluno WHERE TP_COR_RACA BETWEEN 2 AND 3;\n",
    "```"
   ]
  },
  {
   "cell_type": "markdown",
   "id": "a54f283b",
   "metadata": {
    "slideshow": {
     "slide_type": "slide"
    }
   },
   "source": [
    "## Procedure\n",
    "<img src=\"imagens/procedure.png\">"
   ]
  },
  {
   "cell_type": "markdown",
   "id": "da2128a9",
   "metadata": {
    "slideshow": {
     "slide_type": "slide"
    }
   },
   "source": [
    "## Trigger\n",
    "<img src=\"imagens/trigger.png\">"
   ]
  },
  {
   "cell_type": "markdown",
   "id": "1462011b",
   "metadata": {
    "slideshow": {
     "slide_type": "slide"
    }
   },
   "source": [
    "## Consultas SQL\n",
    "1. Quantidade de alunos PPI que ingressaram no curso superior pelo ENEM\n",
    "\n",
    "```sql\n",
    "SELECT COUNT(idaluno) FROM mydb.aluno WHERE TP_COR_RACA=2 OR TP_COR_RACA=3 OR TP_COR_RACA=5 AND IN_INGRESSO_ENEM=1;\n",
    "\n",
    "\n",
    "67082\n",
    "```\n"
   ]
  },
  {
   "cell_type": "markdown",
   "id": "eca275a8",
   "metadata": {
    "slideshow": {
     "slide_type": "slide"
    }
   },
   "source": [
    "## Consultas SQL\n",
    "2. Quantidade de alunos PPi de escola públicas que ingressaram pelo ENEM\n",
    "\n",
    "```sql\n",
    "SELECT COUNT(idaluno) FROM mydb.aluno WHERE TP_COR_RACA=2 OR TP_COR_RACA=3 OR TP_COR_RACA=5 AND IN_INGRESSO_ENEM=1 AND TP_ESCOLA_CONCLUSAO_ENS_MEDIO=1;\n",
    "\n",
    "67074\n",
    "\n",
    "```"
   ]
  },
  {
   "cell_type": "markdown",
   "id": "781bac1b",
   "metadata": {
    "slideshow": {
     "slide_type": "slide"
    }
   },
   "source": [
    "## Consultas SQL\n",
    "3. Quantidade de alunos PPI de escola públicas que ingressaram em medicina pelo ENEM\n",
    "\n",
    "```sql\n",
    "SELECT * FROM mydb.aluno INNER JOIN mydb.curso ON CO_CURSO=140 OR CO_CURSO=1135207 OR CO_CURSO=48854 OR CO_CURSO=1419799 OR CO_CURSO=58412 OR CO_CURSO=51835 WHERE TP_COR_RACA=2 OR TP_COR_RACA=3 OR TP_COR_RACA=5 AND IN_INGRESSO_ENEM=1 AND TP_ESCOLA_CONCLUSAO_ENS_MEDIO=1;\n",
    "```"
   ]
  },
  {
   "cell_type": "markdown",
   "id": "930b4a41",
   "metadata": {
    "slideshow": {
     "slide_type": "slide"
    }
   },
   "source": [
    "## Consultas SQL\n",
    "4. Quantidade de professores estrangeiros com mais de 50 anos\n",
    "\n",
    "```sql\n",
    "SELECT COUNT(iddocente) FROM mydb.docente WHERE TP_NACIONALIDADE<>1 AND NU_IDADE>50;\n",
    "\n",
    "169\n",
    "\n",
    "```"
   ]
  },
  {
   "cell_type": "markdown",
   "id": "f08c9b9e",
   "metadata": {
    "slideshow": {
     "slide_type": "slide"
    }
   },
   "source": [
    "## Consultas SQL\n",
    "5. Quantidade de alunos de escola públicas que ingressaram pelo ENEM estão no último semestre\n",
    "\n",
    "```sql\n",
    "SELECT COUNT(idaluno) FROM mydb.aluno WHERE IN_INGRESSO_ENEM=1 AND TP_ESCOLA_CONCLUSAO_ENS_MEDIO=1 AND IN_CONCLUINTE=1;\n",
    "\n",
    "2127\n",
    "\n",
    "```"
   ]
  }
 ],
 "metadata": {
  "celltoolbar": "Slideshow",
  "kernelspec": {
   "display_name": "Python 3",
   "language": "python",
   "name": "python3"
  },
  "language_info": {
   "codemirror_mode": {
    "name": "ipython",
    "version": 3
   },
   "file_extension": ".py",
   "mimetype": "text/x-python",
   "name": "python",
   "nbconvert_exporter": "python",
   "pygments_lexer": "ipython3",
   "version": "3.8.8"
  }
 },
 "nbformat": 4,
 "nbformat_minor": 5
}
