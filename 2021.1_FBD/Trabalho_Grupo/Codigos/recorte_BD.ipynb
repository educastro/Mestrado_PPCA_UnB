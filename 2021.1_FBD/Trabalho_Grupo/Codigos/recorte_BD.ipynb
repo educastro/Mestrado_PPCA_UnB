{
 "cells": [
  {
   "cell_type": "code",
   "execution_count": 1,
   "id": "230f1d33",
   "metadata": {},
   "outputs": [],
   "source": [
    "import pandas as pd"
   ]
  },
  {
   "cell_type": "code",
   "execution_count": 22,
   "id": "34bf5fca",
   "metadata": {},
   "outputs": [],
   "source": [
    "alunos = pd.read_csv(\"..\\Dados\\SUP_ALUNO_2019_DF.csv\", sep=\";\", encoding='ISO-8859-1')\n",
    "ies = pd.read_csv(\"..\\Dados\\SUP_IES_2019_DF.csv\", sep=\";\", encoding='ISO-8859-1')\n",
    "docentes = pd.read_csv(\"..\\Dados\\SUP_DOCENTE_2019_DF.csv\", sep=\";\", encoding='ISO-8859-1')\n",
    "cursos = pd.read_csv(\"..\\Dados\\SUP_CURSO_2019_DF.csv\", sep=\";\", encoding='ISO-8859-1')"
   ]
  },
  {
   "cell_type": "code",
   "execution_count": 23,
   "id": "7c26f1c9",
   "metadata": {},
   "outputs": [],
   "source": [
    "list_of_alunos = []\n",
    "list_of_vinculos_aluno_ies = []\n",
    "list_of_atividade_extra_curricular = []\n",
    "\n",
    "for i,row in alunos.iterrows():\n",
    "    aluno_row = [row[\"ID_ALUNO\"], row[\"TP_COR_RACA\"], row[\"TP_SEXO\"], row[\"NU_ANO_NASCIMENTO\"], row[\"NU_MES_NASCIMENTO\"], row[\"NU_DIA_NASCIMENTO\"], row[\"NU_IDADE\"], row[\"TP_NACIONALIDADE\"], row[\"CO_UF_NASCIMENTO\"], row[\"IN_DEFICIENCIA\"], row[\"TP_ESCOLA_CONCLUSAO_ENS_MEDIO\"]]\n",
    "    vinculo_row = [row[\"ID_ALUNO\"], row[\"CO_IES\"], row[\"CO_CURSO\"], row[\"CO_ALUNO_CURSO\"], row[\"TP_SITUACAO\"], row[\"IN_MATRICULA\"], row[\"TP_GRAU_ACADEMICO\"], row[\"IN_INGRESSO_VESTIBULAR\"], row[\"IN_INGRESSO_ENEM\"], row[\"IN_INGRESSO_AVALIACAO_SERIADA\"], row[\"IN_APOIO_SOCIAL\"], row[\"TP_SEMESTRE_CONCLUSAO\"], row[\"TP_SEMESTRE_REFERENCIA\"], row[\"IN_CONCLUINTE\"], row[\"NU_ANO_INGRESSO\"]]\n",
    "    atividade_extra_curricular = [row[\"ID_ALUNO\"], row[\"IN_COMPLEMENTAR_ESTAGIO\"], row[\"IN_COMPLEMENTAR_EXTENSAO\"], row[\"IN_COMPLEMENTAR_MONITORIA\"], row[\"IN_COMPLEMENTAR_PESQUISA\"], row[\"IN_BOLSA_EXTENSAO\"], row[\"IN_BOLSA_MONITORIA\"], row[\"IN_BOLSA_PESQUISA\"]]\n",
    "    \n",
    "    list_of_alunos.append(aluno_row)\n",
    "    list_of_vinculos_aluno_ies.append(vinculo_row)\n",
    "    list_of_atividade_extra_curricular.append(atividade_extra_curricular)\n",
    "    \n",
    "aluno_df = pd.DataFrame(list_of_alunos, columns=[\"ID_ALUNO\", \"TP_COR_RACA\", \"TP_SEXO\", \"NU_ANO_NASCIMENTO\", \"NU_MES_NASCIMENTO\", \"NU_DIA_NASCIMENTO\", \"NU_IDADE\", \"TP_NACIONALIDADE\", \"CO_UF_NASCIMENTO\", \"IN_DEFICIENCIA\", \"TP_ESCOLA_CONCLUSAO_ENS_MEDIO\"])\n",
    "vinculos_aluno_ies_df = pd.DataFrame(list_of_vinculos_aluno_ies, columns=[\"ID_ALUNO\", \"CO_IES\", \"CO_CURSO\", \"CO_ALUNO_CURSO\", \"TP_SITUACAO\", \"IN_MATRICULA\", \"TP_GRAU_ACADEMICO\", \"IN_INGRESSO_VESTIBULAR\", \"IN_INGRESSO_ENEM\", \"IN_INGRESSO_AVALIACAO_SERIADA\", \"IN_APOIO_SOCIAL\", \"TP_SEMESTRE_CONCLUSAO\", \"TP_SEMESTRE_REFERENCIA\", \"IN_CONCLUINTE\", \"NU_ANO_INGRESSO\"])\n",
    "atividade_extra_df = pd.DataFrame(list_of_atividade_extra_curricular, columns=[\"ID_ALUNO\", \"IN_COMPLEMENTAR_ESTAGIO\", \"IN_COMPLEMENTAR_EXTENSAO\", \"IN_COMPLEMENTAR_MONITORIA\", \"IN_COMPLEMENTAR_PESQUISA\", \"IN_BOLSA_EXTENSAO\", \"IN_BOLSA_MONITORIA\", \"IN_BOLSA_PESQUISA\"])\n",
    "\n",
    "aluno_df.to_csv('..\\Dados\\BD_ALUNO.csv', sep=\";\", encoding='ISO-8859-1', index = False)\n",
    "vinculos_aluno_ies_df.to_csv('..\\Dados\\BD_VINCULOS_ALUNO_IES.csv', sep=\";\", encoding='ISO-8859-1', index = False)\n",
    "atividade_extra_df.to_csv('..\\Dados\\BD_ALUNO_ATIVIDADE_EXTRA.csv', sep=\";\", encoding='ISO-8859-1', index = False)"
   ]
  },
  {
   "cell_type": "code",
   "execution_count": 24,
   "id": "394c8c1d",
   "metadata": {},
   "outputs": [],
   "source": [
    "list_of_ies = []\n",
    "\n",
    "for i,row in ies.iterrows():\n",
    "    ies_row = [row[\"CO_IES\"], row[\"NO_IES\"], row[\"SG_IES\"], row[\"TP_CATEGORIA_ADMINISTRATIVA\"], row[\"TP_ORGANIZACAO_ACADEMICA\"], row[\"CO_UF\"]]\n",
    "    list_of_ies.append(ies_row)\n",
    "\n",
    "ies_df = pd.DataFrame(list_of_ies,columns=[\"CO_IES\", \"NO_IES\", \"SG_IES\", \"TP_CATEGORIA_ADMINISTRATIVA\", \"TP_ORGANIZACAO_ACADEMICA\", \"CO_UF\"])\n",
    "ies_df.to_csv('..\\Dados\\BD_IES.csv', sep=\";\", encoding='ISO-8859-1', index = False)"
   ]
  },
  {
   "cell_type": "code",
   "execution_count": 26,
   "id": "eb0e5edb",
   "metadata": {},
   "outputs": [],
   "source": [
    "list_of_docentes = []\n",
    "list_of_vinculos_docente_ies = []\n",
    "\n",
    "for i,row in docentes.iterrows():\n",
    "    docentes_row = [row[\"ID_DOCENTE\"], row[\"TP_SITUACAO\"], row[\"TP_ESCOLARIDADE\"], row[\"TP_REGIME_TRABALHO\"], row[\"TP_SEXO\"], row[\"NU_ANO_NASCIMENTO\"], row[\"NU_MES_NASCIMENTO\"], row[\"NU_DIA_NASCIMENTO\"], row[\"NU_IDADE\"], row[\"TP_COR_RACA\"], row[\"CO_PAIS_ORIGEM\"], row[\"TP_NACIONALIDADE\"]]\n",
    "    list_of_docentes.append(docentes_row)\n",
    "\n",
    "docentes_df = pd.DataFrame(list_of_docentes,columns=[\"ID_DOCENTE\", \"TP_SITUACAO\", \"TP_ESCOLARIDADE\", \"TP_REGIME_TRABALHO\", \"TP_SEXO\", \"NU_ANO_NASCIMENTO\", \"NU_MES_NASCIMENTO\", \"NU_DIA_NASCIMENTO\", \"NU_IDADE\", \"TP_COR_RACA\", \"CO_PAIS_ORIGEM\", \"TP_NACIONALIDADE\"])\n",
    "\n",
    "docentes_df.to_csv('..\\Dados\\BD_DOCENTES.csv', sep=\";\", encoding='ISO-8859-1', index = False)"
   ]
  },
  {
   "cell_type": "code",
   "execution_count": 27,
   "id": "fdc9cd5f",
   "metadata": {},
   "outputs": [],
   "source": [
    "list_of_cursos = []\n",
    "\n",
    "for i,row in cursos.iterrows():\n",
    "    cursos_row = [row[\"CO_CURSO\"], row[\"CO_IES\"], row[\"NO_CURSO\"], row[\"TP_GRAU_ACADEMICO\"], row[\"CO_LOCAL_OFERTA\"], row[\"CO_UF\"], row[\"CO_MUNICIPIO\"], row[\"IN_CAPITAL\"], row[\"TP_SITUACAO\"]]\n",
    "    list_of_cursos.append(cursos_row)\n",
    "\n",
    "cursos_df = pd.DataFrame(list_of_cursos,columns=[\"CO_CURSO\", \"CO_IES\", \"NO_CURSO\", \"TP_GRAU_ACADEMICO\", \"CO_LOCAL_OFERTA\", \"CO_UF\", \"CO_MUNICIPIO\", \"IN_CAPITAL\", \"TP_SITUACAO\"])\n",
    "cursos_df.to_csv('..\\Dados\\BD_CURSOS.csv', sep=\";\", encoding='ISO-8859-1', index = False)"
   ]
  },
  {
   "cell_type": "code",
   "execution_count": null,
   "id": "0197fc0b",
   "metadata": {},
   "outputs": [],
   "source": []
  }
 ],
 "metadata": {
  "kernelspec": {
   "display_name": "Python 3",
   "language": "python",
   "name": "python3"
  },
  "language_info": {
   "codemirror_mode": {
    "name": "ipython",
    "version": 3
   },
   "file_extension": ".py",
   "mimetype": "text/x-python",
   "name": "python",
   "nbconvert_exporter": "python",
   "pygments_lexer": "ipython3",
   "version": "3.8.8"
  }
 },
 "nbformat": 4,
 "nbformat_minor": 5
}
