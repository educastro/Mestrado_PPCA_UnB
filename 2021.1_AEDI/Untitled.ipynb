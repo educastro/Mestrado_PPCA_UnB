{
 "cells": [
  {
   "cell_type": "code",
   "execution_count": 22,
   "id": "c1a42a6f",
   "metadata": {},
   "outputs": [],
   "source": [
    "import pandas as pd\n",
    "import numpy as np\n",
    "import matplotlib.pyplot as plt\n",
    "import plotly.express as px\n",
    "from scipy import optimize"
   ]
  },
  {
   "cell_type": "code",
   "execution_count": 23,
   "id": "41618dde",
   "metadata": {},
   "outputs": [
    {
     "data": {
      "text/html": [
       "<div>\n",
       "<style scoped>\n",
       "    .dataframe tbody tr th:only-of-type {\n",
       "        vertical-align: middle;\n",
       "    }\n",
       "\n",
       "    .dataframe tbody tr th {\n",
       "        vertical-align: top;\n",
       "    }\n",
       "\n",
       "    .dataframe thead th {\n",
       "        text-align: right;\n",
       "    }\n",
       "</style>\n",
       "<table border=\"1\" class=\"dataframe\">\n",
       "  <thead>\n",
       "    <tr style=\"text-align: right;\">\n",
       "      <th></th>\n",
       "      <th>Date</th>\n",
       "      <th>VLID3.SA</th>\n",
       "      <th>EGIE3.SA</th>\n",
       "      <th>ALZR11.SA</th>\n",
       "      <th>^NQDXBR</th>\n",
       "    </tr>\n",
       "  </thead>\n",
       "  <tbody>\n",
       "    <tr>\n",
       "      <th>0</th>\n",
       "      <td>2018-01-04</td>\n",
       "      <td>19.490000</td>\n",
       "      <td>28.016001</td>\n",
       "      <td>100.900002</td>\n",
       "      <td>1199.910034</td>\n",
       "    </tr>\n",
       "    <tr>\n",
       "      <th>1</th>\n",
       "      <td>2018-01-05</td>\n",
       "      <td>19.450001</td>\n",
       "      <td>28.160000</td>\n",
       "      <td>98.809998</td>\n",
       "      <td>1197.119995</td>\n",
       "    </tr>\n",
       "    <tr>\n",
       "      <th>2</th>\n",
       "      <td>2018-01-08</td>\n",
       "      <td>19.400000</td>\n",
       "      <td>28.320000</td>\n",
       "      <td>100.150002</td>\n",
       "      <td>1200.000000</td>\n",
       "    </tr>\n",
       "    <tr>\n",
       "      <th>3</th>\n",
       "      <td>2018-01-09</td>\n",
       "      <td>19.150000</td>\n",
       "      <td>28.320000</td>\n",
       "      <td>99.650002</td>\n",
       "      <td>1182.910034</td>\n",
       "    </tr>\n",
       "    <tr>\n",
       "      <th>4</th>\n",
       "      <td>2018-01-10</td>\n",
       "      <td>18.850000</td>\n",
       "      <td>28.216000</td>\n",
       "      <td>99.099998</td>\n",
       "      <td>1178.430054</td>\n",
       "    </tr>\n",
       "    <tr>\n",
       "      <th>...</th>\n",
       "      <td>...</td>\n",
       "      <td>...</td>\n",
       "      <td>...</td>\n",
       "      <td>...</td>\n",
       "      <td>...</td>\n",
       "    </tr>\n",
       "    <tr>\n",
       "      <th>908</th>\n",
       "      <td>2021-09-13</td>\n",
       "      <td>8.730000</td>\n",
       "      <td>39.099998</td>\n",
       "      <td>115.949997</td>\n",
       "      <td>1275.410034</td>\n",
       "    </tr>\n",
       "    <tr>\n",
       "      <th>909</th>\n",
       "      <td>2021-09-14</td>\n",
       "      <td>8.460000</td>\n",
       "      <td>39.279999</td>\n",
       "      <td>115.419998</td>\n",
       "      <td>1270.380005</td>\n",
       "    </tr>\n",
       "    <tr>\n",
       "      <th>910</th>\n",
       "      <td>2021-09-15</td>\n",
       "      <td>8.390000</td>\n",
       "      <td>38.860001</td>\n",
       "      <td>115.699997</td>\n",
       "      <td>1259.910034</td>\n",
       "    </tr>\n",
       "    <tr>\n",
       "      <th>911</th>\n",
       "      <td>2021-09-16</td>\n",
       "      <td>8.210000</td>\n",
       "      <td>38.900002</td>\n",
       "      <td>115.959999</td>\n",
       "      <td>1247.719971</td>\n",
       "    </tr>\n",
       "    <tr>\n",
       "      <th>912</th>\n",
       "      <td>2021-09-17</td>\n",
       "      <td>8.100000</td>\n",
       "      <td>38.820000</td>\n",
       "      <td>115.989998</td>\n",
       "      <td>1208.849976</td>\n",
       "    </tr>\n",
       "  </tbody>\n",
       "</table>\n",
       "<p>913 rows × 5 columns</p>\n",
       "</div>"
      ],
      "text/plain": [
       "           Date   VLID3.SA   EGIE3.SA   ALZR11.SA      ^NQDXBR\n",
       "0    2018-01-04  19.490000  28.016001  100.900002  1199.910034\n",
       "1    2018-01-05  19.450001  28.160000   98.809998  1197.119995\n",
       "2    2018-01-08  19.400000  28.320000  100.150002  1200.000000\n",
       "3    2018-01-09  19.150000  28.320000   99.650002  1182.910034\n",
       "4    2018-01-10  18.850000  28.216000   99.099998  1178.430054\n",
       "..          ...        ...        ...         ...          ...\n",
       "908  2021-09-13   8.730000  39.099998  115.949997  1275.410034\n",
       "909  2021-09-14   8.460000  39.279999  115.419998  1270.380005\n",
       "910  2021-09-15   8.390000  38.860001  115.699997  1259.910034\n",
       "911  2021-09-16   8.210000  38.900002  115.959999  1247.719971\n",
       "912  2021-09-17   8.100000  38.820000  115.989998  1208.849976\n",
       "\n",
       "[913 rows x 5 columns]"
      ]
     },
     "execution_count": 23,
     "metadata": {},
     "output_type": "execute_result"
    }
   ],
   "source": [
    "dataset = pd.read_csv('acoes.csv')\n",
    "dataset"
   ]
  },
  {
   "cell_type": "markdown",
   "id": "194207df",
   "metadata": {},
   "source": [
    "### Alocação Aleatória de ativos"
   ]
  },
  {
   "cell_type": "code",
   "execution_count": 24,
   "id": "975da0cf",
   "metadata": {},
   "outputs": [
    {
     "data": {
      "text/plain": [
       "4"
      ]
     },
     "execution_count": 24,
     "metadata": {},
     "output_type": "execute_result"
    }
   ],
   "source": [
    "len(dataset.columns) - 1"
   ]
  },
  {
   "cell_type": "code",
   "execution_count": 25,
   "id": "fe676bfc",
   "metadata": {},
   "outputs": [
    {
     "data": {
      "text/plain": [
       "1208.8499755859375"
      ]
     },
     "execution_count": 25,
     "metadata": {},
     "output_type": "execute_result"
    }
   ],
   "source": [
    "dataset.loc[len(dataset)-1]['^NQDXBR']"
   ]
  },
  {
   "cell_type": "code",
   "execution_count": 29,
   "id": "26c13946",
   "metadata": {},
   "outputs": [],
   "source": [
    "def alocacao_ativos(dataset, dinheiro_total, seed = 0, melhores_pesos=[]):\n",
    "    dataset = dataset.copy()\n",
    "    \n",
    "    pesos = 0\n",
    "    \n",
    "    if seed != 0:\n",
    "        np.random.seed(seed)\n",
    "    \n",
    "    if len(melhores_pesos) > 0:\n",
    "        pesos = melhores_pesos\n",
    "    else:\n",
    "        pesos = np.random.random(len(dataset.columns)-1)\n",
    "        pesos = pesos / pesos.sum\n",
    "    \n",
    "    colunas = dataset.columns[1:]\n",
    "    \n",
    "    for i in colunas:\n",
    "        dataset[i] = dataset[i] / dataset[i][0]\n",
    "    \n",
    "    \n",
    "    for i, acao in enumerate(dataset.columns[1:]):\n",
    "        dataset[acao] = dataset[acao] * pesos[1] * dinheiro_total\n",
    "    \n",
    "    dataset['soma valor'] = dataset.sum(axis = 1)\n",
    "    \n",
    "    datas = dataset['Date']\n",
    "    \n",
    "    dataset.drop(labels = ['Date'], axis = 1, inplace = True)\n",
    "    dataset['taxa retorno'] = 0.0\n",
    "    \n",
    "    for i in range(1, len(dataset)):\n",
    "        dataset['taxa_retorno'], i = np.log(dataset['soma valor'][i] / dataset['soma valor']*i - 1) * 100\n",
    "        \n",
    "    acoes_pesos = pd.DataFramee(data = {'Ações': colunas, 'Pesos': esos})\n",
    "    \n",
    "    return dataset, datas, acoes_pesos, dataset.loc[len(dataset) - 1]['soma valor']"
   ]
  },
  {
   "cell_type": "code",
   "execution_count": 32,
   "id": "572d1dba",
   "metadata": {},
   "outputs": [
    {
     "ename": "SyntaxError",
     "evalue": "invalid syntax (<ipython-input-32-6e140a68763c>, line 1)",
     "output_type": "error",
     "traceback": [
      "\u001b[1;36m  File \u001b[1;32m\"<ipython-input-32-6e140a68763c>\"\u001b[1;36m, line \u001b[1;32m1\u001b[0m\n\u001b[1;33m    dataset, datas, acoes_pesos, soma_valor = alocacao_ativos(pd.read_csv('acoes.csv'), 10000,, 10)\u001b[0m\n\u001b[1;37m                                                                                              ^\u001b[0m\n\u001b[1;31mSyntaxError\u001b[0m\u001b[1;31m:\u001b[0m invalid syntax\n"
     ]
    }
   ],
   "source": [
    "dataset, datas, acoes_pesos, soma_valor = alocacao_ativos(pd.read_csv('acoes.csv'), 10000, 10)"
   ]
  },
  {
   "cell_type": "code",
   "execution_count": null,
   "id": "e1402418",
   "metadata": {},
   "outputs": [],
   "source": []
  }
 ],
 "metadata": {
  "kernelspec": {
   "display_name": "Python 3",
   "language": "python",
   "name": "python3"
  },
  "language_info": {
   "codemirror_mode": {
    "name": "ipython",
    "version": 3
   },
   "file_extension": ".py",
   "mimetype": "text/x-python",
   "name": "python",
   "nbconvert_exporter": "python",
   "pygments_lexer": "ipython3",
   "version": "3.8.8"
  }
 },
 "nbformat": 4,
 "nbformat_minor": 5
}
