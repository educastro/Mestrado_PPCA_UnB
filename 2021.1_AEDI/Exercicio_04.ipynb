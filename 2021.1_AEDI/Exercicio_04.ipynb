{
 "cells": [
  {
   "cell_type": "markdown",
   "id": "406fe5ee",
   "metadata": {},
   "source": [
    "### Tarefa 04: Análise de variância de ativos financeiros (ANOVA)\n",
    "\n",
    "Aluno: Eduardo de Oliveira Castro\n",
    "\n",
    "Matrícula: 210008164\n",
    "\n",
    "- A Tarefa dar-se-á na análise entre as médias de diferentes ativos, ou carteira versus índice de mercado, ou ativos versus carteira, etc. Cabendo ao aluno escolher a comparação das médias. \n",
    "- É ideal que seja feita análise das questões de heterocedasticidades, faça-se as devidas correções e compare as médias por grupos e entre grupos. \n",
    "- Para o trabalho, decidi utilizar uma comparação do fechamento do índice BOVESPA nos últimos XX meses.\n"
   ]
  },
  {
   "cell_type": "markdown",
   "id": "a61009f7",
   "metadata": {},
   "source": [
    "### Importação das bibliotecas e base de dados"
   ]
  },
  {
   "cell_type": "code",
   "execution_count": 1,
   "id": "28133d00",
   "metadata": {},
   "outputs": [],
   "source": [
    "import pandas as pd\n",
    "from pandas_datareader import data\n",
    "import numpy as np\n",
    "import math\n",
    "import matplotlib.pyplot as plt\n",
    "import matplotlib.patches as mpatches\n",
    "import plotly.express as px\n",
    "import seaborn as sns\n",
    "from scipy import stats\n",
    "from scipy.optimize import minimize "
   ]
  },
  {
   "cell_type": "code",
   "execution_count": 2,
   "id": "e3d5da23",
   "metadata": {},
   "outputs": [
    {
     "data": {
      "text/html": [
       "<div>\n",
       "<style scoped>\n",
       "    .dataframe tbody tr th:only-of-type {\n",
       "        vertical-align: middle;\n",
       "    }\n",
       "\n",
       "    .dataframe tbody tr th {\n",
       "        vertical-align: top;\n",
       "    }\n",
       "\n",
       "    .dataframe thead th {\n",
       "        text-align: right;\n",
       "    }\n",
       "</style>\n",
       "<table border=\"1\" class=\"dataframe\">\n",
       "  <thead>\n",
       "    <tr style=\"text-align: right;\">\n",
       "      <th></th>\n",
       "      <th>^BVSP</th>\n",
       "    </tr>\n",
       "    <tr>\n",
       "      <th>Date</th>\n",
       "      <th></th>\n",
       "    </tr>\n",
       "  </thead>\n",
       "  <tbody>\n",
       "    <tr>\n",
       "      <th>1994-01-03</th>\n",
       "      <td>380.100006</td>\n",
       "    </tr>\n",
       "    <tr>\n",
       "      <th>1994-01-04</th>\n",
       "      <td>400.600006</td>\n",
       "    </tr>\n",
       "    <tr>\n",
       "      <th>1994-01-05</th>\n",
       "      <td>421.100006</td>\n",
       "    </tr>\n",
       "    <tr>\n",
       "      <th>1994-01-06</th>\n",
       "      <td>444.200012</td>\n",
       "    </tr>\n",
       "    <tr>\n",
       "      <th>1994-01-07</th>\n",
       "      <td>476.399994</td>\n",
       "    </tr>\n",
       "    <tr>\n",
       "      <th>...</th>\n",
       "      <td>...</td>\n",
       "    </tr>\n",
       "    <tr>\n",
       "      <th>2021-09-02</th>\n",
       "      <td>116677.000000</td>\n",
       "    </tr>\n",
       "    <tr>\n",
       "      <th>2021-09-03</th>\n",
       "      <td>116933.000000</td>\n",
       "    </tr>\n",
       "    <tr>\n",
       "      <th>2021-09-06</th>\n",
       "      <td>117869.000000</td>\n",
       "    </tr>\n",
       "    <tr>\n",
       "      <th>2021-09-08</th>\n",
       "      <td>113413.000000</td>\n",
       "    </tr>\n",
       "    <tr>\n",
       "      <th>2021-09-09</th>\n",
       "      <td>115361.000000</td>\n",
       "    </tr>\n",
       "  </tbody>\n",
       "</table>\n",
       "<p>6843 rows × 1 columns</p>\n",
       "</div>"
      ],
      "text/plain": [
       "                    ^BVSP\n",
       "Date                     \n",
       "1994-01-03     380.100006\n",
       "1994-01-04     400.600006\n",
       "1994-01-05     421.100006\n",
       "1994-01-06     444.200012\n",
       "1994-01-07     476.399994\n",
       "...                   ...\n",
       "2021-09-02  116677.000000\n",
       "2021-09-03  116933.000000\n",
       "2021-09-06  117869.000000\n",
       "2021-09-08  113413.000000\n",
       "2021-09-09  115361.000000\n",
       "\n",
       "[6843 rows x 1 columns]"
      ]
     },
     "execution_count": 2,
     "metadata": {},
     "output_type": "execute_result"
    }
   ],
   "source": [
    "# B2W, Lojas Americanas, Magazine Luiza, Mercado Livre, Amazon e Índice Bovespa\n",
    "acoes = [\"^BVSP\"]#\"AMER3.SA\", \"LAME4.SA\", \"MGLU3.SA\", \"MELI34.SA\", \"AMZO34.SA\", \n",
    "\n",
    "# Criação de um dataframe\n",
    "acoes_df = pd.DataFrame()\n",
    "\n",
    "# For para popular o Dataframe com os dados de fechamento da bolsa de valores de cada dia, desde 2015, coletados do Yahoo\n",
    "for acao in acoes:\n",
    "    acoes_df[acao] = data.DataReader(acao, data_source=\"yahoo\", start=\"1994-01-01\", end=\"2021-09-09\")['Close']\n",
    "\n",
    "# Criação de um CSV para salvar esses dados\n",
    "acoes_df.to_csv(\"carteira_tarefa4.csv\")\n",
    "# Impressão da tabela\n",
    "acoes_df"
   ]
  },
  {
   "cell_type": "markdown",
   "id": "f226d3f3",
   "metadata": {},
   "source": [
    "### Começa a ler a partir do CSV gerado"
   ]
  },
  {
   "cell_type": "code",
   "execution_count": 3,
   "id": "dc8717e7",
   "metadata": {},
   "outputs": [],
   "source": [
    "# Leitura do csv\n",
    "acoes_df = pd.read_csv(\"carteira_tarefa4.csv\",index_col='Date', parse_dates=True)"
   ]
  },
  {
   "cell_type": "markdown",
   "id": "889901a9",
   "metadata": {},
   "source": [
    "### Imprime descritivo estatístico simples do dataframe gerado, exibindo tendência, dispersão, valores máximos e mínimos, shape, etc."
   ]
  },
  {
   "cell_type": "code",
   "execution_count": 4,
   "id": "0f7727fc",
   "metadata": {},
   "outputs": [
    {
     "data": {
      "text/html": [
       "<div>\n",
       "<style scoped>\n",
       "    .dataframe tbody tr th:only-of-type {\n",
       "        vertical-align: middle;\n",
       "    }\n",
       "\n",
       "    .dataframe tbody tr th {\n",
       "        vertical-align: top;\n",
       "    }\n",
       "\n",
       "    .dataframe thead th {\n",
       "        text-align: right;\n",
       "    }\n",
       "</style>\n",
       "<table border=\"1\" class=\"dataframe\">\n",
       "  <thead>\n",
       "    <tr style=\"text-align: right;\">\n",
       "      <th></th>\n",
       "      <th>^BVSP</th>\n",
       "    </tr>\n",
       "  </thead>\n",
       "  <tbody>\n",
       "    <tr>\n",
       "      <th>count</th>\n",
       "      <td>6843.000000</td>\n",
       "    </tr>\n",
       "    <tr>\n",
       "      <th>mean</th>\n",
       "      <td>42532.269955</td>\n",
       "    </tr>\n",
       "    <tr>\n",
       "      <th>std</th>\n",
       "      <td>31305.226073</td>\n",
       "    </tr>\n",
       "    <tr>\n",
       "      <th>min</th>\n",
       "      <td>380.100006</td>\n",
       "    </tr>\n",
       "    <tr>\n",
       "      <th>25%</th>\n",
       "      <td>12664.000000</td>\n",
       "    </tr>\n",
       "    <tr>\n",
       "      <th>50%</th>\n",
       "      <td>44336.000000</td>\n",
       "    </tr>\n",
       "    <tr>\n",
       "      <th>75%</th>\n",
       "      <td>62453.000000</td>\n",
       "    </tr>\n",
       "    <tr>\n",
       "      <th>max</th>\n",
       "      <td>130776.000000</td>\n",
       "    </tr>\n",
       "  </tbody>\n",
       "</table>\n",
       "</div>"
      ],
      "text/plain": [
       "               ^BVSP\n",
       "count    6843.000000\n",
       "mean    42532.269955\n",
       "std     31305.226073\n",
       "min       380.100006\n",
       "25%     12664.000000\n",
       "50%     44336.000000\n",
       "75%     62453.000000\n",
       "max    130776.000000"
      ]
     },
     "execution_count": 4,
     "metadata": {},
     "output_type": "execute_result"
    }
   ],
   "source": [
    "acoes_df.describe()"
   ]
  },
  {
   "cell_type": "markdown",
   "id": "b2db284f",
   "metadata": {},
   "source": [
    "### Visualização do histórico de fechamento do IBOV"
   ]
  },
  {
   "cell_type": "code",
   "execution_count": 5,
   "id": "521053ff",
   "metadata": {},
   "outputs": [
    {
     "data": {
      "image/png": "[encoded data removed]",
      "text/plain": [
       "<Figure size 1080x504 with 1 Axes>"
      ]
     },
     "metadata": {
      "needs_background": "light"
     },
     "output_type": "display_data"
    }
   ],
   "source": [
    "acoes_df.plot(figsize = (15,7), title='Histórico do Preço de Fechamento do IBOV');"
   ]
  },
  {
   "cell_type": "markdown",
   "id": "6bf8d580",
   "metadata": {},
   "source": [
    "### Naturalmente, os dados encontram se desnormalizados e desajustados para a realidade dos tempos atuais. Uma alternativa para solucionar este problema poderia ser a normalização como feito no exercício passado ou podemos utillizar o método pct_change() da biblioteca pandas para calcular a % de mudança entre o fechamento de um dia com o outro."
   ]
  },
  {
   "cell_type": "code",
   "execution_count": 6,
   "id": "58832f29",
   "metadata": {},
   "outputs": [
    {
     "data": {
      "text/plain": [
       "Date\n",
       "1994-01-04    0.053933\n",
       "1994-01-05    0.051173\n",
       "1994-01-06    0.054856\n",
       "1994-01-07    0.072490\n",
       "1994-01-10    0.039882\n",
       "                ...   \n",
       "2021-09-02   -0.022773\n",
       "2021-09-03    0.002194\n",
       "2021-09-06    0.008005\n",
       "2021-09-08   -0.037805\n",
       "2021-09-09    0.017176\n",
       "Name: ^BVSP, Length: 6842, dtype: float64"
      ]
     },
     "execution_count": 6,
     "metadata": {},
     "output_type": "execute_result"
    }
   ],
   "source": [
    "retorno_diario = acoes_df[\"^BVSP\"].pct_change()\n",
    "retorno_diario.dropna(inplace=True)\n",
    "retorno_diario"
   ]
  },
  {
   "cell_type": "markdown",
   "id": "0a83d151",
   "metadata": {},
   "source": [
    "### O próximo passo envolve a anualização desses valores como uma forma de obtermos a volatilidade mensal anualizada."
   ]
  },
  {
   "cell_type": "code",
   "execution_count": 7,
   "id": "b9866639",
   "metadata": {},
   "outputs": [
    {
     "name": "stdout",
     "output_type": "stream",
     "text": [
      "Date\n",
      "1994-01-31    0.119613\n",
      "1994-02-28    0.204426\n",
      "1994-03-31    0.132332\n",
      "1994-04-30    0.191808\n",
      "1994-05-31    0.179305\n",
      "Freq: M, Name: ^BVSP, dtype: float64\n"
     ]
    }
   ],
   "source": [
    "anualizacao_mensal = retorno_diario.resample('M').std()* np.sqrt(12)\n",
    "\n",
    "print(anualizacao_mensal.head())"
   ]
  },
  {
   "cell_type": "markdown",
   "id": "118a527e",
   "metadata": {},
   "source": [
    "### Ao plotar o gráfico com os dados, somos capazes de verificar períodos de alta volatilidade no fechamento do índice correspondendo aos períodos de crise em que o país enfrentou, tal como a crise de 2008 que afetou mercados globais e a crise de 2020 por conta da pandemia do coronavírus."
   ]
  },
  {
   "cell_type": "code",
   "execution_count": 8,
   "id": "217083a9",
   "metadata": {},
   "outputs": [
    {
     "data": {
      "text/plain": [
       "Text(0.5, 1.0, 'Valor mensal anualizado com destaque aos últimos períodos de grande volatilidade que tivemos')"
      ]
     },
     "execution_count": 8,
     "metadata": {},
     "output_type": "execute_result"
    },
    {
     "data": {
      "image/png": "[encoded data removed]",
      "text/plain": [
       "<Figure size 432x288 with 1 Axes>"
      ]
     },
     "metadata": {
      "needs_background": "light"
     },
     "output_type": "display_data"
    }
   ],
   "source": [
    "plt.plot(anualizacao_mensal)\n",
    "plt.axvspan('2008','2010',color='r',alpha=.5)\n",
    "plt.axvspan('2020','2021',color='r',alpha=.5)\n",
    "plt.title('Valor mensal anualizado com destaque aos últimos períodos de grande volatilidade que tivemos')"
   ]
  },
  {
   "cell_type": "markdown",
   "id": "9be8a6f1",
   "metadata": {},
   "source": [
    "### Para aprofundarmos a análise, o próximo passo envolve a transformação da volatilidade mensal anualizada para a volatilidade mensal média utilizando o método groupby e o método rank para cada um dos meses da amostra. Dessa forma, somos capazes de verificar que o mês com maior volatilidade é março (3) e o mês com menor volatilidade é dezembro (12). "
   ]
  },
  {
   "cell_type": "code",
   "execution_count": 9,
   "id": "2fe8f239",
   "metadata": {},
   "outputs": [
    {
     "data": {
      "text/plain": [
       "Date\n",
       "1     7.071429\n",
       "2     7.392857\n",
       "3     7.571429\n",
       "4     6.285714\n",
       "5     6.928571\n",
       "6     6.428571\n",
       "7     5.107143\n",
       "8     5.928571\n",
       "9     5.964286\n",
       "10    7.259259\n",
       "11    6.888889\n",
       "12    4.666667\n",
       "Name: ^BVSP, dtype: float64"
      ]
     },
     "execution_count": 9,
     "metadata": {},
     "output_type": "execute_result"
    }
   ],
   "source": [
    "volatilidade_mensal_media = anualizacao_mensal.groupby(anualizacao_mensal.index.year).rank()\n",
    "volatilidade_mensal_media_final = volatilidade_mensal_media.groupby(volatilidade_mensal_media.index.month).mean()\n",
    "volatilidade_mensal_media_final"
   ]
  },
  {
   "cell_type": "markdown",
   "id": "2189bb5d",
   "metadata": {},
   "source": [
    "### Agora, para facilitar a verificação de qual mês tem maior ou menor volatilidade, printaremos um gráfico de barras contendo a média de volatilidade para cada um dos 12 meses do ano desde o início da amostra, em 1994, até os dias atuais:"
   ]
  },
  {
   "cell_type": "code",
   "execution_count": 10,
   "id": "40b20887",
   "metadata": {},
   "outputs": [
    {
     "data": {
      "image/png": "[encoded data removed]",
      "text/plain": [
       "<Figure size 432x288 with 1 Axes>"
      ]
     },
     "metadata": {
      "needs_background": "light"
     },
     "output_type": "display_data"
    }
   ],
   "source": [
    "grafico_media = plt.bar(x=volatilidade_mensal_media_final.index,height=volatilidade_mensal_media_final)\n",
    "grafico_media[2].set_color('g')\n",
    "grafico_media[11].set_color('r')\n",
    "\n",
    "plt.axhline(volatilidade_mensal_media_final.mean(),ls='--',color='k',label=round(volatilidade_mensal_media_final.mean(),2))\n",
    "plt.title('Volatilidade mensal média do IBOV desde 1994')\n",
    "\n",
    "plt.legend()\n",
    "plt.show()"
   ]
  },
  {
   "cell_type": "markdown",
   "id": "ad63a2d3",
   "metadata": {},
   "source": [
    "### Entretanto, também é importante que seja analisado o desvio da média mais signicativo e não apenas a maior volatilidade, como fizemos anteriormente. Para tanto, utilizamos o método abs e fomos capazes de observar que o maior desvio encontra-se no mês de Dezembro (12), seguido por Julho (7) e, por fim, por março (3), que conforme demonstrado anteriormente é o mês de maior volatilidade média."
   ]
  },
  {
   "cell_type": "code",
   "execution_count": 11,
   "id": "77d650cc",
   "metadata": {},
   "outputs": [
    {
     "data": {
      "text/plain": [
       "Date\n",
       "6     0.029211\n",
       "4     0.172068\n",
       "11    0.431107\n",
       "5     0.470789\n",
       "9     0.493496\n",
       "8     0.529211\n",
       "1     0.613646\n",
       "10    0.801477\n",
       "2     0.935075\n",
       "3     1.113646\n",
       "7     1.350639\n",
       "12    1.791116\n",
       "Name: ^BVSP, dtype: float64"
      ]
     },
     "execution_count": 11,
     "metadata": {},
     "output_type": "execute_result"
    }
   ],
   "source": [
    "abs_ = abs(volatilidade_mensal_media_final - volatilidade_mensal_media_final.mean())\n",
    "abs_.sort_values()"
   ]
  },
  {
   "cell_type": "markdown",
   "id": "66b1b089",
   "metadata": {},
   "source": [
    "### Com fito de facilitar essa análise, plotei um gráfico contendo os dados supracitados:"
   ]
  },
  {
   "cell_type": "code",
   "execution_count": 12,
   "id": "26bb442d",
   "metadata": {},
   "outputs": [
    {
     "data": {
      "image/png": "[encoded data removed]",
      "text/plain": [
       "<Figure size 432x288 with 1 Axes>"
      ]
     },
     "metadata": {
      "needs_background": "light"
     },
     "output_type": "display_data"
    }
   ],
   "source": [
    "grafico_media = plt.bar(x=abs_.index,height=abs_)\n",
    "grafico_media[11].set_color('g')\n",
    "grafico_media[5].set_color('r')\n",
    "\n",
    "plt.axhline(abs_.mean(),ls='--',color='k',label=round(abs_.mean(),2))\n",
    "plt.title('Desvio da média mensal do IBOV desde 1994')\n",
    "\n",
    "plt.legend()\n",
    "plt.show()"
   ]
  },
  {
   "cell_type": "markdown",
   "id": "480a5516",
   "metadata": {},
   "source": [
    "### Para cálculo do p-valor, criamos um segundo dataframe para atuar enquanto nossa hipótese nula rutilizando o anterior mas com valores aleatoriezados graças ao método sample e seguimos o mesmo procedimento dos trechos de códigos anteriores para que possamos ter uma tabela comparável. Porr fim, calculamos o p-value utilizando como rreferência o mês de dezembro (12), haja vista que nossa amostra demonstrou que ele é o mês com o maiorr desvio da média mensal."
   ]
  },
  {
   "cell_type": "code",
   "execution_count": 13,
   "id": "74c55792",
   "metadata": {},
   "outputs": [
    {
     "name": "stdout",
     "output_type": "stream",
     "text": [
      "p-value: 0.008166666666666666\n"
     ]
    }
   ],
   "source": [
    "acoes_df_new = pd.DataFrame()\n",
    "maiores_valores = []\n",
    "\n",
    "count=0\n",
    "n=1000\n",
    "\n",
    "for iterador in range(n):\n",
    "    retorno_diario_aleatorio = retorno_diario.sample(6842).reset_index(drop=True)\n",
    "\n",
    "    retorno_diario_aleatorio.index = (pd.bdate_range(start='1994-01-03',periods=6842))\n",
    "\n",
    "    anualizacao_mensal = retorno_diario_aleatorio.resample('M').std()* np.sqrt(12)\n",
    "\n",
    "    volatilidade_mensal_media = anualizacao_mensal.groupby(anualizacao_mensal.index.year).rank()\n",
    "    volatilidade_mensal_media_final = volatilidade_mensal_media.groupby(volatilidade_mensal_media.index.month).mean()\n",
    "    \n",
    "    acoes_df_new = pd.concat([acoes_df_new,volatilidade_mensal_media_final],axis=1)\n",
    "\n",
    "    maior_mes = max(volatilidade_mensal_media_final)\n",
    "    maiores_valores.append(maior_mes)\n",
    "\n",
    "\n",
    "todos_os_meses = acoes_df_new.values.flatten()\n",
    "todos_os_meses_media = todos_os_meses.mean()\n",
    "todos_os_meses_abs = abs(todos_os_meses-todos_os_meses_media)    \n",
    "\n",
    "count=0\n",
    "\n",
    "for iterador in todos_os_meses_abs:\n",
    "    if iterador > abs_[12]:\n",
    "        count += 1\n",
    "\n",
    "p_value = count/len(todos_os_meses_abs)        \n",
    "\n",
    "print('p-value:', p_value)"
   ]
  },
  {
   "cell_type": "markdown",
   "id": "02f18c1d",
   "metadata": {},
   "source": [
    "### E, por fim, repetimos o mesmo procedimento para cálculo do p-value mas, dessa vez, utilizando como referência a variável maior_valor_abs:"
   ]
  },
  {
   "cell_type": "code",
   "execution_count": 14,
   "id": "eef8d771",
   "metadata": {},
   "outputs": [
    {
     "name": "stdout",
     "output_type": "stream",
     "text": [
      "p-value: 0.032\n"
     ]
    }
   ],
   "source": [
    "maiores_valores_media = np.mean(maiores_valores)\n",
    "maior_valor_abs = [abs(x - todos_os_meses_media) for x in maiores_valores]\n",
    "\n",
    "count=0\n",
    "\n",
    "for iterador in maior_valor_abs:\n",
    "    if iterador > abs_[12]:\n",
    "        count += 1\n",
    "\n",
    "ans = count/len(maior_valor_abs)        \n",
    "\n",
    "print('p-value:', ans )"
   ]
  },
  {
   "cell_type": "code",
   "execution_count": null,
   "id": "8b458dff",
   "metadata": {},
   "outputs": [],
   "source": []
  }
 ],
 "metadata": {
  "kernelspec": {
   "display_name": "Python 3",
   "language": "python",
   "name": "python3"
  },
  "language_info": {
   "codemirror_mode": {
    "name": "ipython",
    "version": 3
   },
   "file_extension": ".py",
   "mimetype": "text/x-python",
   "name": "python",
   "nbconvert_exporter": "python",
   "pygments_lexer": "ipython3",
   "version": "3.8.8"
  }
 },
 "nbformat": 4,
 "nbformat_minor": 5
}
