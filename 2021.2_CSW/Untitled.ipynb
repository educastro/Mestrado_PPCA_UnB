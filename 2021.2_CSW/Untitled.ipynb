{
 "cells": [
  {
   "cell_type": "code",
   "execution_count": 14,
   "id": "a3d6cae7",
   "metadata": {},
   "outputs": [],
   "source": [
    "import numpy as np\n",
    "import pandas as pd\n",
    "import seaborn as sns\n",
    "import matplotlib.pyplot as plt\n",
    "from bs4 import BeautifulSoup\n",
    "from requests import get\n",
    "import itertools\n",
    "from tqdm.notebook import tqdm, trange\n",
    "import time \n",
    "import json\n",
    "from datetime import date, timedelta"
   ]
  },
  {
   "cell_type": "code",
   "execution_count": 7,
   "id": "049cfe0e",
   "metadata": {},
   "outputs": [],
   "source": [
    "headers = ({'User-Agent':\n",
    "            'Mozilla/5.0 (Windows NT 6.1) AppleWebKit/537.36 (KHTML, like Gecko) Chrome/41.0.2228.0 Safari/537.36'})"
   ]
  },
  {
   "cell_type": "code",
   "execution_count": 8,
   "id": "f1a33216",
   "metadata": {},
   "outputs": [],
   "source": [
    "def get_data(url):\n",
    "    response = get(url, headers=headers)\n",
    "    try:\n",
    "        ret = json.loads(response.text)\n",
    "    except ValueError:\n",
    "        ret = {'dados':''}  #para resolver um bug do JSON\n",
    "    return ret"
   ]
  },
  {
   "cell_type": "code",
   "execution_count": 9,
   "id": "d838609e",
   "metadata": {},
   "outputs": [],
   "source": [
    "url_1='https://dadosabertos.camara.leg.br/api/v2/deputados?pagina='\n",
    "url_2='&itens=60&ordem=ASC&ordenarPor=nome'\n",
    "urls=[]\n",
    "for p in range(1, 10):\n",
    "    urls.append(url_1+str(p)+url_2)"
   ]
  },
  {
   "cell_type": "code",
   "execution_count": 10,
   "id": "cc4ccb52",
   "metadata": {},
   "outputs": [],
   "source": [
    "cols=['id', 'nome', 'siglaUf', 'siglaPartido', 'idLegislatura']\n",
    "deputados=pd.DataFrame(columns=cols)\n",
    "for url in urls:\n",
    "    data = get_data(url)\n",
    "    for d in data['dados']:\n",
    "        data_point={}\n",
    "        for c in cols:\n",
    "            data_point[c]=d[c]\n",
    "        deputados=deputados.append(data_point, ignore_index=True)"
   ]
  },
  {
   "cell_type": "code",
   "execution_count": 11,
   "id": "47754800",
   "metadata": {},
   "outputs": [],
   "source": [
    "deputados.to_csv(\"deputados.csv\", index=False)"
   ]
  },
  {
   "cell_type": "code",
   "execution_count": 12,
   "id": "b95dd698",
   "metadata": {},
   "outputs": [],
   "source": [
    "def get_data_pages(url_1, url_2, cols, n_paginas=2):\n",
    "    urls=[]\n",
    "    for p in range(1,n_paginas+1):\n",
    "        urls.append(url_1+str(p)+url_2)\n",
    "    ret= pd.DataFrame(columns=cols)\n",
    "    for url in tqdm(urls, leave=False):\n",
    "        data =get_data(url)\n",
    "        for d in data['dados']:\n",
    "            data_point={}\n",
    "            for c in cols:\n",
    "                data_point[c]=d[c]\n",
    "            ret=ret.append(data_point, ignore_index=True)\n",
    "    return ret"
   ]
  },
  {
   "cell_type": "code",
   "execution_count": 13,
   "id": "bf1347e6",
   "metadata": {},
   "outputs": [
    {
     "data": {
      "application/vnd.jupyter.widget-view+json": {
       "model_id": "",
       "version_major": 2,
       "version_minor": 0
      },
      "text/plain": [
       "  0%|          | 0/10 [00:00<?, ?it/s]"
      ]
     },
     "metadata": {},
     "output_type": "display_data"
    }
   ],
   "source": [
    "cols_votacoes=['id', 'data', 'siglaOrgao', 'aprovacao']\n",
    "url_1_votacoes='https://dadosabertos.camara.leg.br/api/v2/votacoes?dataInicio=2020-01-01&dataFim=2020-02-28&pagina='\n",
    "url_2_votacoes= '&ordem=DESC&ordenarPor=dataHoraRegistro'\n",
    "n_pag_votacoes=10\n",
    "votacoes=get_data_pages(url_1_votacoes, url_2_votacoes, cols_votacoes, n_pag_votacoes)"
   ]
  },
  {
   "cell_type": "code",
   "execution_count": 15,
   "id": "88a7bf28",
   "metadata": {},
   "outputs": [],
   "source": [
    "date_0= date(2019, 1, 1)\n",
    "\n",
    "date_i= date_0\n",
    "date_f= date_0+timedelta(days = 60)\n",
    "\n",
    "dates=[]\n",
    "for i in range (1000):\n",
    "    if date_f> date.today():\n",
    "        dates.append([date_i, date.today()])\n",
    "        break\n",
    "    if date_f.year != date_i.year:\n",
    "        dates.append([date_i, date(date_i.year,12,31)])\n",
    "        date_i=date(date_f.year,1,1)\n",
    "        date_f=date_i+timedelta(days = 61)\n",
    "    else:\n",
    "        dates.append([date_i, date_f])\n",
    "        date_i=date_f+timedelta(days = 1)\n",
    "        date_f=date_f+timedelta(days = 62)"
   ]
  },
  {
   "cell_type": "code",
   "execution_count": null,
   "id": "17b37497",
   "metadata": {},
   "outputs": [
    {
     "data": {
      "application/vnd.jupyter.widget-view+json": {
       "model_id": "a6058d25fb514220aad2e9d96d3c204b",
       "version_major": 2,
       "version_minor": 0
      },
      "text/plain": [
       "  0%|          | 0/19 [00:00<?, ?it/s]"
      ]
     },
     "metadata": {},
     "output_type": "display_data"
    }
   ],
   "source": [
    "url_1s=[]\n",
    "for d in dates:\n",
    "    url_1s.append('https://dadosabertos.camara.leg.br/api/v2/votacoes?dataInicio='+str(d[0])+'&dataFim='+str(d[1])+'&pagina=')\n",
    "cols_votacoes=['id', 'data', 'siglaOrgao', 'aprovacao']\n",
    "\n",
    "url_2_votacoes= '&ordem=DESC&ordenarPor=dataHoraRegistro'\n",
    "n_pag_votacoes=10\n",
    "\n",
    "votacoes=pd.DataFrame(columns=cols_votacoes)\n",
    "\n",
    "import multiprocessing\n",
    "from joblib import Parallel, delayed\n",
    "\n",
    "\n",
    "num_cores = multiprocessing.cpu_count()\n",
    "inputs = tqdm(url_1s)\n",
    "\n",
    "if __name__ == \"__main__\":\n",
    "    processed_list = Parallel(n_jobs=num_cores)(delayed(get_data_pages)(i,url_2_votacoes, cols_votacoes, n_pag_votacoes) for i in inputs)"
   ]
  },
  {
   "cell_type": "code",
   "execution_count": null,
   "id": "79a24c87",
   "metadata": {},
   "outputs": [],
   "source": [
    "votacoes.to_csv(\"votacoes.csv\", index=False)"
   ]
  },
  {
   "cell_type": "code",
   "execution_count": null,
   "id": "bc17429f",
   "metadata": {},
   "outputs": [],
   "source": [
    "votos={}\n",
    "\n",
    "url_1_votos='https://dadosabertos.camara.leg.br/api/v2/votacoes/'\n",
    "url_2_votos='/votos' \n",
    "urls=[]\n",
    "for ID in tqdm( votacoes['id']):\n",
    "    url =url_1_votos+str(ID)+url_2_votos\n",
    "    data =get_data(url)\n",
    "    if len(data['dados'])>0:\n",
    "        votos[ID]={d[\"deputado_\"]['id']:d[\"tipoVoto\"] for d in data['dados']}"
   ]
  },
  {
   "cell_type": "code",
   "execution_count": null,
   "id": "a971d782",
   "metadata": {},
   "outputs": [],
   "source": [
    "votos=pd.DataFrame(votos)\n",
    "votos.to_csv(\"votos.csv\", index=True, index_label='cod_deputado')"
   ]
  },
  {
   "cell_type": "code",
   "execution_count": null,
   "id": "bf035e9d",
   "metadata": {},
   "outputs": [],
   "source": [
    "orientacoes = {}\n",
    "url_1_orientacoes = 'https://dadosabertos.camara.leg.br/api/v2/votacoes/'\n",
    "url_2_orientacoes = '/orientacoes'\n",
    "urls = []\n",
    "for ID in tqdm(votos.columns):\n",
    "    url = url_1_orientacoes+str(ID)+url_2_orientacoes\n",
    "    data = get_data(url)\n",
    "    if len(data['dados']) > 0:\n",
    "        if d[\"codTipoLideranca\"] == None: \n",
    "            orientacoes[ID] = {'N'+str(\n",
    "                d['siglaPartidoBloco']): d[\"orientacaoVoto\"] for d in data['dados']}\n",
    "        else:\n",
    "            orientacoes[ID] = {str(d[\"codTipoLideranca\"])+str(\n",
    "                d['siglaPartidoBloco']): d[\"orientacaoVoto\"] for d in data['dados']}"
   ]
  },
  {
   "cell_type": "code",
   "execution_count": null,
   "id": "cecbe679",
   "metadata": {},
   "outputs": [],
   "source": [
    "orientacoes=pd.DataFrame(orientacoes)\n",
    "orientacoes.to_csv(\"orientacoes.csv\", index=True, index_label='cod_partido')"
   ]
  }
 ],
 "metadata": {
  "kernelspec": {
   "display_name": "Python 3",
   "language": "python",
   "name": "python3"
  },
  "language_info": {
   "codemirror_mode": {
    "name": "ipython",
    "version": 3
   },
   "file_extension": ".py",
   "mimetype": "text/x-python",
   "name": "python",
   "nbconvert_exporter": "python",
   "pygments_lexer": "ipython3",
   "version": "3.8.8"
  }
 },
 "nbformat": 4,
 "nbformat_minor": 5
}
